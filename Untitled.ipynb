{
 "cells": [
  {
   "cell_type": "code",
   "execution_count": 1,
   "metadata": {},
   "outputs": [],
   "source": [
    "def deepsegment_(text):\n",
    "    from deepsegment import DeepSegment\n",
    "    segmenter = DeepSegment('en')\n",
    "    arr_seg = segmenter.segment_long(text)\n",
    "    text_seg = ''.join([arr_seg[i]+'. ' for i in range(len(arr_seg))])\n",
    "    return(text_seg)"
   ]
  },
  {
   "cell_type": "code",
   "execution_count": 2,
   "metadata": {},
   "outputs": [],
   "source": [
    "def NNsplit(text):\n",
    "    from nnsplit import NNSplit\n",
    "    splitter = NNSplit(\"en\")\n",
    "    split_text_arr = splitter.split([text])\n",
    "    text_split_all = ''\n",
    "    t = False\n",
    "    for i in range(len(split_text_arr[0])):\n",
    "        text_split_sen = ''.join([split_text_arr[0][i][j].text+' '\\\n",
    "                        for j in range(len(split_text_arr[0][i]))])[:-1]\n",
    "        if text_split_sen != '': text_split_all += text_split_sen + '. ' \n",
    "    return(text_split_all)"
   ]
  },
  {
   "cell_type": "code",
   "execution_count": 13,
   "metadata": {},
   "outputs": [],
   "source": [
    "def puctuator(text):\n",
    "    import requests\n",
    "    response = requests.post('http://bark.phon.ioc.ee/punctuator', data=dict(text=text))\n",
    "    return response.text.replace(',', '.').replace('?', '.').replace('!', '.')"
   ]
  },
  {
   "cell_type": "code",
   "execution_count": 10,
   "metadata": {},
   "outputs": [],
   "source": [
    "def segment(method_name, text):\n",
    "    if method_name == 'deepsegment':\n",
    "        return deepsegment_(text)\n",
    "    elif method_name == 'NNsplit':\n",
    "        return NNsplit(text)\n",
    "    elif method_name == 'puctuator':\n",
    "        return puctuator(text)"
   ]
  },
  {
   "cell_type": "code",
   "execution_count": 11,
   "metadata": {},
   "outputs": [],
   "source": [
    "text = ' its my pleasure to welcome bhaskar mitra today bhaskar is actually stationed in our london office currently hes been at microsoft now about 11 years is that right yes about 11 years as a scientist in bing and somewhere during that time he switched to being a student about a year or two ago still while working at bing so hes working full-time and completing his phd at ucl under emine yilmaz who many of us know and have collaborated with as well hes become one of the leaders in applying neural models specifically to information retrieval problems he and nick craswell have a nice paper if you would like to read it thats available on the web right now currently under submission to foundations and trends and information retrieval that compare traditional ways of approaching information retrieval models and where their parallels are in the neural world and hes going to talk to us about some of his recent work so with that ill have bhaskar take it away  '"
   ]
  },
  {
   "cell_type": "code",
   "execution_count": 14,
   "metadata": {},
   "outputs": [
    {
     "data": {
      "text/plain": [
       "'Its my pleasure to welcome bhaskar mitra today. bhaskar is actually stationed in our london office. Currently hes been at microsoft now about 11 years. Is that right. Yes about 11 years as a scientist in bing and somewhere during that time. he switched to being a student about a year or two ago still. while working at bing. so hes working. full-time and completing his phd at ucl under emine yilmaz. Who many of us know and have collaborated with as well hes become one of the leaders in applying neural models specifically to information retrieval problems he and nick craswell have a nice paper. If you would like to read it thats available on the web right now. Currently under submission to foundations and trends and information. retrieval that compare traditional ways of approaching information. retrieval models and where their parallels are in the neural world and hes going to talk to us about some of his recent work. So with that ill have bhaskar. Take it away. '"
      ]
     },
     "execution_count": 14,
     "metadata": {},
     "output_type": "execute_result"
    }
   ],
   "source": [
    "segment('puctuator', text)"
   ]
  },
  {
   "cell_type": "code",
   "execution_count": null,
   "metadata": {},
   "outputs": [],
   "source": []
  }
 ],
 "metadata": {
  "kernelspec": {
   "display_name": "Python 3",
   "language": "python",
   "name": "python3"
  },
  "language_info": {
   "codemirror_mode": {
    "name": "ipython",
    "version": 3
   },
   "file_extension": ".py",
   "mimetype": "text/x-python",
   "name": "python",
   "nbconvert_exporter": "python",
   "pygments_lexer": "ipython3",
   "version": "3.7.2"
  }
 },
 "nbformat": 4,
 "nbformat_minor": 2
}
