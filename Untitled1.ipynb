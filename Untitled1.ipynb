{
 "cells": [
  {
   "cell_type": "code",
   "execution_count": 1,
   "metadata": {},
   "outputs": [
    {
     "name": "stderr",
     "output_type": "stream",
     "text": [
      "Using TensorFlow backend.\n",
      "c:\\users\\user\\appdata\\local\\programs\\python\\python37\\lib\\site-packages\\tensorboard\\compat\\tensorflow_stub\\dtypes.py:541: FutureWarning: Passing (type, 1) or '1type' as a synonym of type is deprecated; in a future version of numpy, it will be understood as (type, (1,)) / '(1,)type'.\n",
      "  _np_qint8 = np.dtype([(\"qint8\", np.int8, 1)])\n",
      "c:\\users\\user\\appdata\\local\\programs\\python\\python37\\lib\\site-packages\\tensorboard\\compat\\tensorflow_stub\\dtypes.py:542: FutureWarning: Passing (type, 1) or '1type' as a synonym of type is deprecated; in a future version of numpy, it will be understood as (type, (1,)) / '(1,)type'.\n",
      "  _np_quint8 = np.dtype([(\"quint8\", np.uint8, 1)])\n",
      "c:\\users\\user\\appdata\\local\\programs\\python\\python37\\lib\\site-packages\\tensorboard\\compat\\tensorflow_stub\\dtypes.py:543: FutureWarning: Passing (type, 1) or '1type' as a synonym of type is deprecated; in a future version of numpy, it will be understood as (type, (1,)) / '(1,)type'.\n",
      "  _np_qint16 = np.dtype([(\"qint16\", np.int16, 1)])\n",
      "c:\\users\\user\\appdata\\local\\programs\\python\\python37\\lib\\site-packages\\tensorboard\\compat\\tensorflow_stub\\dtypes.py:544: FutureWarning: Passing (type, 1) or '1type' as a synonym of type is deprecated; in a future version of numpy, it will be understood as (type, (1,)) / '(1,)type'.\n",
      "  _np_quint16 = np.dtype([(\"quint16\", np.uint16, 1)])\n",
      "c:\\users\\user\\appdata\\local\\programs\\python\\python37\\lib\\site-packages\\tensorboard\\compat\\tensorflow_stub\\dtypes.py:545: FutureWarning: Passing (type, 1) or '1type' as a synonym of type is deprecated; in a future version of numpy, it will be understood as (type, (1,)) / '(1,)type'.\n",
      "  _np_qint32 = np.dtype([(\"qint32\", np.int32, 1)])\n",
      "c:\\users\\user\\appdata\\local\\programs\\python\\python37\\lib\\site-packages\\tensorboard\\compat\\tensorflow_stub\\dtypes.py:550: FutureWarning: Passing (type, 1) or '1type' as a synonym of type is deprecated; in a future version of numpy, it will be understood as (type, (1,)) / '(1,)type'.\n",
      "  np_resource = np.dtype([(\"resource\", np.ubyte, 1)])\n"
     ]
    }
   ],
   "source": [
    "import os\n",
    "import re\n",
    "import error_calculator\n",
    "import my_segment\n",
    "import my_func"
   ]
  },
  {
   "cell_type": "code",
   "execution_count": 2,
   "metadata": {},
   "outputs": [],
   "source": [
    "list_en = os.listdir(path=\"./en\") "
   ]
  },
  {
   "cell_type": "code",
   "execution_count": 3,
   "metadata": {},
   "outputs": [],
   "source": [
    "def test_(name_alg):\n",
    "    total_tp = 0\n",
    "    total_fp = 0\n",
    "    total_fn = 0\n",
    "    for i in list_en[:1]:\n",
    "        print(i)\n",
    "        f = open(\"./en/\" + i, 'r', encoding=\"utf8\")\n",
    "        text = f.read()\n",
    "        text = re.sub('<[^.]+>', '', text).replace('\\n', ' ')\n",
    "        len_part_text = 1000\n",
    "        count = len(text) // len_part_text\n",
    "        text_main = my_func.my_processing(text)\n",
    "\n",
    "        for j in range(count):\n",
    "            text_part = text_main[j * len_part_text: (j + 1) * len_part_text]\n",
    "            my_func.my_save_file('text_main.txt', text_part)\n",
    "            text_without_punct = text_part.replace('.', '').lower()\n",
    "            text_punctuator = my_segment.segment(name_alg, text_without_punct)\n",
    "            my_func.my_save_file(name_alg+'.txt', text_punctuator)\n",
    "            try : \n",
    "                tp, fp, fn = error_calculator.compute_error(['text_main.txt'], [name_alg+'.txt'])\n",
    "                total_tp += tp\n",
    "                total_fp += fp\n",
    "                total_fn += fn\n",
    "            except: continue\n",
    "            \n",
    "    return(total_tp, total_fp,total_fn )"
   ]
  },
  {
   "cell_type": "code",
   "execution_count": 27,
   "metadata": {
    "scrolled": true
   },
   "outputs": [
    {
     "name": "stdout",
     "output_type": "stream",
     "text": [
      "ep-00-01-17.txt\n",
      "ep-00-01-18.txt\n",
      "ep-00-01-19.txt\n",
      "ep-00-01-21.txt\n",
      "ep-00-02-02.txt\n"
     ]
    }
   ],
   "source": [
    "tp, fp, fn = test_('NNsplit')"
   ]
  },
  {
   "cell_type": "code",
   "execution_count": 28,
   "metadata": {},
   "outputs": [
    {
     "name": "stdout",
     "output_type": "stream",
     "text": [
      "0.5376962193234579 0.7730451366815003 0.6342417525101056\n"
     ]
    }
   ],
   "source": [
    "pre = tp/(NNsplit_tp+fp) if fp else nan\n",
    "rec = tp/(NNsplit_tp+fn) if fn else nan\n",
    "f1 = (2.*pre*rec)/(pre+rec) if (pre + rec) else nan\n",
    "print(pre, rec, f1)"
   ]
  },
  {
   "cell_type": "code",
   "execution_count": 4,
   "metadata": {},
   "outputs": [
    {
     "name": "stdout",
     "output_type": "stream",
     "text": [
      "ep-00-01-17.txt\n",
      "\n",
      "==============================================================================================================\n",
      "NOTE: There are multiple checkpoints present for this language.\n",
      "['C:\\\\Users\\\\user\\\\.DeepSegment_en\\\\checkpoint_finetuned_model_name']\n",
      "Default checkpoint is currently being used.\n",
      "To use a different checkpoint, use DeepSegment(\"en\", checkpoint_name=name_of_the_checkpoint)\n",
      "==============================================================================================================\n",
      "\n"
     ]
    },
    {
     "name": "stderr",
     "output_type": "stream",
     "text": [
      "WARNING:root:Using default n_window=10. Set this parameter based on your data.\n",
      "WARNING:root:Consider using segment_long for longer sentences.\n",
      "WARNING:root:Consider using segment_long for longer sentences.\n",
      "WARNING:root:Consider using segment_long for longer sentences.\n",
      "WARNING:root:Consider using segment_long for longer sentences.\n",
      "WARNING:root:Consider using segment_long for longer sentences.\n",
      "WARNING:root:Consider using segment_long for longer sentences.\n",
      "WARNING:root:Consider using segment_long for longer sentences.\n"
     ]
    },
    {
     "name": "stdout",
     "output_type": "stream",
     "text": [
      "\n",
      "==============================================================================================================\n",
      "NOTE: There are multiple checkpoints present for this language.\n",
      "['C:\\\\Users\\\\user\\\\.DeepSegment_en\\\\checkpoint_finetuned_model_name']\n",
      "Default checkpoint is currently being used.\n",
      "To use a different checkpoint, use DeepSegment(\"en\", checkpoint_name=name_of_the_checkpoint)\n",
      "==============================================================================================================\n",
      "\n"
     ]
    },
    {
     "name": "stderr",
     "output_type": "stream",
     "text": [
      "WARNING:root:Using default n_window=10. Set this parameter based on your data.\n",
      "WARNING:root:Consider using segment_long for longer sentences.\n",
      "WARNING:root:Consider using segment_long for longer sentences.\n",
      "WARNING:root:Consider using segment_long for longer sentences.\n",
      "WARNING:root:Consider using segment_long for longer sentences.\n",
      "WARNING:root:Consider using segment_long for longer sentences.\n"
     ]
    },
    {
     "name": "stdout",
     "output_type": "stream",
     "text": [
      "\n",
      "==============================================================================================================\n",
      "NOTE: There are multiple checkpoints present for this language.\n",
      "['C:\\\\Users\\\\user\\\\.DeepSegment_en\\\\checkpoint_finetuned_model_name']\n",
      "Default checkpoint is currently being used.\n",
      "To use a different checkpoint, use DeepSegment(\"en\", checkpoint_name=name_of_the_checkpoint)\n",
      "==============================================================================================================\n",
      "\n"
     ]
    },
    {
     "name": "stderr",
     "output_type": "stream",
     "text": [
      "WARNING:root:Using default n_window=10. Set this parameter based on your data.\n",
      "WARNING:root:Consider using segment_long for longer sentences.\n",
      "WARNING:root:Consider using segment_long for longer sentences.\n",
      "WARNING:root:Consider using segment_long for longer sentences.\n",
      "WARNING:root:Consider using segment_long for longer sentences.\n",
      "WARNING:root:Consider using segment_long for longer sentences.\n"
     ]
    },
    {
     "name": "stdout",
     "output_type": "stream",
     "text": [
      "\n",
      "==============================================================================================================\n",
      "NOTE: There are multiple checkpoints present for this language.\n",
      "['C:\\\\Users\\\\user\\\\.DeepSegment_en\\\\checkpoint_finetuned_model_name']\n",
      "Default checkpoint is currently being used.\n",
      "To use a different checkpoint, use DeepSegment(\"en\", checkpoint_name=name_of_the_checkpoint)\n",
      "==============================================================================================================\n",
      "\n"
     ]
    },
    {
     "name": "stderr",
     "output_type": "stream",
     "text": [
      "WARNING:root:Using default n_window=10. Set this parameter based on your data.\n",
      "WARNING:root:Consider using segment_long for longer sentences.\n",
      "WARNING:root:Consider using segment_long for longer sentences.\n",
      "WARNING:root:Consider using segment_long for longer sentences.\n",
      "WARNING:root:Consider using segment_long for longer sentences.\n",
      "WARNING:root:Consider using segment_long for longer sentences.\n",
      "WARNING:root:Consider using segment_long for longer sentences.\n",
      "WARNING:root:Consider using segment_long for longer sentences.\n"
     ]
    },
    {
     "name": "stdout",
     "output_type": "stream",
     "text": [
      "\n",
      "==============================================================================================================\n",
      "NOTE: There are multiple checkpoints present for this language.\n",
      "['C:\\\\Users\\\\user\\\\.DeepSegment_en\\\\checkpoint_finetuned_model_name']\n",
      "Default checkpoint is currently being used.\n",
      "To use a different checkpoint, use DeepSegment(\"en\", checkpoint_name=name_of_the_checkpoint)\n",
      "==============================================================================================================\n",
      "\n"
     ]
    },
    {
     "name": "stderr",
     "output_type": "stream",
     "text": [
      "WARNING:root:Using default n_window=10. Set this parameter based on your data.\n",
      "WARNING:root:Consider using segment_long for longer sentences.\n",
      "WARNING:root:Consider using segment_long for longer sentences.\n",
      "WARNING:root:Consider using segment_long for longer sentences.\n",
      "WARNING:root:Consider using segment_long for longer sentences.\n",
      "WARNING:root:Consider using segment_long for longer sentences.\n",
      "WARNING:root:Consider using segment_long for longer sentences.\n",
      "WARNING:root:Consider using segment_long for longer sentences.\n"
     ]
    },
    {
     "name": "stdout",
     "output_type": "stream",
     "text": [
      "\n",
      "==============================================================================================================\n",
      "NOTE: There are multiple checkpoints present for this language.\n",
      "['C:\\\\Users\\\\user\\\\.DeepSegment_en\\\\checkpoint_finetuned_model_name']\n",
      "Default checkpoint is currently being used.\n",
      "To use a different checkpoint, use DeepSegment(\"en\", checkpoint_name=name_of_the_checkpoint)\n",
      "==============================================================================================================\n",
      "\n"
     ]
    },
    {
     "name": "stderr",
     "output_type": "stream",
     "text": [
      "WARNING:root:Using default n_window=10. Set this parameter based on your data.\n",
      "WARNING:root:Consider using segment_long for longer sentences.\n",
      "WARNING:root:Consider using segment_long for longer sentences.\n"
     ]
    },
    {
     "name": "stdout",
     "output_type": "stream",
     "text": [
      "\n",
      "==============================================================================================================\n",
      "NOTE: There are multiple checkpoints present for this language.\n",
      "['C:\\\\Users\\\\user\\\\.DeepSegment_en\\\\checkpoint_finetuned_model_name']\n",
      "Default checkpoint is currently being used.\n",
      "To use a different checkpoint, use DeepSegment(\"en\", checkpoint_name=name_of_the_checkpoint)\n",
      "==============================================================================================================\n",
      "\n"
     ]
    },
    {
     "name": "stderr",
     "output_type": "stream",
     "text": [
      "WARNING:root:Using default n_window=10. Set this parameter based on your data.\n",
      "WARNING:root:Consider using segment_long for longer sentences.\n",
      "WARNING:root:Consider using segment_long for longer sentences.\n",
      "WARNING:root:Consider using segment_long for longer sentences.\n",
      "WARNING:root:Consider using segment_long for longer sentences.\n"
     ]
    },
    {
     "name": "stdout",
     "output_type": "stream",
     "text": [
      "\n",
      "==============================================================================================================\n",
      "NOTE: There are multiple checkpoints present for this language.\n",
      "['C:\\\\Users\\\\user\\\\.DeepSegment_en\\\\checkpoint_finetuned_model_name']\n",
      "Default checkpoint is currently being used.\n",
      "To use a different checkpoint, use DeepSegment(\"en\", checkpoint_name=name_of_the_checkpoint)\n",
      "==============================================================================================================\n",
      "\n"
     ]
    },
    {
     "name": "stderr",
     "output_type": "stream",
     "text": [
      "WARNING:root:Using default n_window=10. Set this parameter based on your data.\n",
      "WARNING:root:Consider using segment_long for longer sentences.\n",
      "WARNING:root:Consider using segment_long for longer sentences.\n"
     ]
    },
    {
     "name": "stdout",
     "output_type": "stream",
     "text": [
      "\n",
      "==============================================================================================================\n",
      "NOTE: There are multiple checkpoints present for this language.\n",
      "['C:\\\\Users\\\\user\\\\.DeepSegment_en\\\\checkpoint_finetuned_model_name']\n",
      "Default checkpoint is currently being used.\n",
      "To use a different checkpoint, use DeepSegment(\"en\", checkpoint_name=name_of_the_checkpoint)\n",
      "==============================================================================================================\n",
      "\n"
     ]
    },
    {
     "name": "stderr",
     "output_type": "stream",
     "text": [
      "WARNING:root:Using default n_window=10. Set this parameter based on your data.\n",
      "WARNING:root:Consider using segment_long for longer sentences.\n",
      "WARNING:root:Consider using segment_long for longer sentences.\n",
      "WARNING:root:Consider using segment_long for longer sentences.\n",
      "WARNING:root:Consider using segment_long for longer sentences.\n",
      "WARNING:root:Consider using segment_long for longer sentences.\n"
     ]
    },
    {
     "name": "stdout",
     "output_type": "stream",
     "text": [
      "\n",
      "==============================================================================================================\n",
      "NOTE: There are multiple checkpoints present for this language.\n",
      "['C:\\\\Users\\\\user\\\\.DeepSegment_en\\\\checkpoint_finetuned_model_name']\n",
      "Default checkpoint is currently being used.\n",
      "To use a different checkpoint, use DeepSegment(\"en\", checkpoint_name=name_of_the_checkpoint)\n",
      "==============================================================================================================\n",
      "\n"
     ]
    },
    {
     "name": "stderr",
     "output_type": "stream",
     "text": [
      "WARNING:root:Using default n_window=10. Set this parameter based on your data.\n",
      "WARNING:root:Consider using segment_long for longer sentences.\n",
      "WARNING:root:Consider using segment_long for longer sentences.\n",
      "WARNING:root:Consider using segment_long for longer sentences.\n",
      "WARNING:root:Consider using segment_long for longer sentences.\n",
      "WARNING:root:Consider using segment_long for longer sentences.\n",
      "WARNING:root:Consider using segment_long for longer sentences.\n",
      "WARNING:root:Consider using segment_long for longer sentences.\n"
     ]
    },
    {
     "name": "stdout",
     "output_type": "stream",
     "text": [
      "\n",
      "==============================================================================================================\n",
      "NOTE: There are multiple checkpoints present for this language.\n",
      "['C:\\\\Users\\\\user\\\\.DeepSegment_en\\\\checkpoint_finetuned_model_name']\n",
      "Default checkpoint is currently being used.\n",
      "To use a different checkpoint, use DeepSegment(\"en\", checkpoint_name=name_of_the_checkpoint)\n",
      "==============================================================================================================\n",
      "\n"
     ]
    },
    {
     "name": "stderr",
     "output_type": "stream",
     "text": [
      "WARNING:root:Using default n_window=10. Set this parameter based on your data.\n",
      "WARNING:root:Consider using segment_long for longer sentences.\n",
      "WARNING:root:Consider using segment_long for longer sentences.\n",
      "WARNING:root:Consider using segment_long for longer sentences.\n",
      "WARNING:root:Consider using segment_long for longer sentences.\n",
      "WARNING:root:Consider using segment_long for longer sentences.\n"
     ]
    },
    {
     "name": "stdout",
     "output_type": "stream",
     "text": [
      "\n",
      "==============================================================================================================\n",
      "NOTE: There are multiple checkpoints present for this language.\n",
      "['C:\\\\Users\\\\user\\\\.DeepSegment_en\\\\checkpoint_finetuned_model_name']\n",
      "Default checkpoint is currently being used.\n",
      "To use a different checkpoint, use DeepSegment(\"en\", checkpoint_name=name_of_the_checkpoint)\n",
      "==============================================================================================================\n",
      "\n"
     ]
    },
    {
     "name": "stderr",
     "output_type": "stream",
     "text": [
      "WARNING:root:Using default n_window=10. Set this parameter based on your data.\n",
      "WARNING:root:Consider using segment_long for longer sentences.\n",
      "WARNING:root:Consider using segment_long for longer sentences.\n",
      "WARNING:root:Consider using segment_long for longer sentences.\n",
      "WARNING:root:Consider using segment_long for longer sentences.\n",
      "WARNING:root:Consider using segment_long for longer sentences.\n",
      "WARNING:root:Consider using segment_long for longer sentences.\n",
      "WARNING:root:Consider using segment_long for longer sentences.\n",
      "WARNING:root:Consider using segment_long for longer sentences.\n"
     ]
    },
    {
     "name": "stdout",
     "output_type": "stream",
     "text": [
      "\n",
      "==============================================================================================================\n",
      "NOTE: There are multiple checkpoints present for this language.\n",
      "['C:\\\\Users\\\\user\\\\.DeepSegment_en\\\\checkpoint_finetuned_model_name']\n",
      "Default checkpoint is currently being used.\n",
      "To use a different checkpoint, use DeepSegment(\"en\", checkpoint_name=name_of_the_checkpoint)\n",
      "==============================================================================================================\n",
      "\n"
     ]
    },
    {
     "name": "stderr",
     "output_type": "stream",
     "text": [
      "WARNING:root:Using default n_window=10. Set this parameter based on your data.\n",
      "WARNING:root:Consider using segment_long for longer sentences.\n"
     ]
    },
    {
     "name": "stdout",
     "output_type": "stream",
     "text": [
      "\n",
      "==============================================================================================================\n",
      "NOTE: There are multiple checkpoints present for this language.\n",
      "['C:\\\\Users\\\\user\\\\.DeepSegment_en\\\\checkpoint_finetuned_model_name']\n",
      "Default checkpoint is currently being used.\n",
      "To use a different checkpoint, use DeepSegment(\"en\", checkpoint_name=name_of_the_checkpoint)\n",
      "==============================================================================================================\n",
      "\n"
     ]
    },
    {
     "name": "stderr",
     "output_type": "stream",
     "text": [
      "WARNING:root:Using default n_window=10. Set this parameter based on your data.\n",
      "WARNING:root:Consider using segment_long for longer sentences.\n",
      "WARNING:root:Consider using segment_long for longer sentences.\n",
      "WARNING:root:Consider using segment_long for longer sentences.\n",
      "WARNING:root:Consider using segment_long for longer sentences.\n",
      "WARNING:root:Consider using segment_long for longer sentences.\n",
      "WARNING:root:Consider using segment_long for longer sentences.\n",
      "WARNING:root:Consider using segment_long for longer sentences.\n"
     ]
    },
    {
     "name": "stdout",
     "output_type": "stream",
     "text": [
      "\n",
      "==============================================================================================================\n",
      "NOTE: There are multiple checkpoints present for this language.\n",
      "['C:\\\\Users\\\\user\\\\.DeepSegment_en\\\\checkpoint_finetuned_model_name']\n",
      "Default checkpoint is currently being used.\n",
      "To use a different checkpoint, use DeepSegment(\"en\", checkpoint_name=name_of_the_checkpoint)\n",
      "==============================================================================================================\n",
      "\n"
     ]
    },
    {
     "name": "stderr",
     "output_type": "stream",
     "text": [
      "WARNING:root:Using default n_window=10. Set this parameter based on your data.\n",
      "WARNING:root:Consider using segment_long for longer sentences.\n",
      "WARNING:root:Consider using segment_long for longer sentences.\n",
      "WARNING:root:Consider using segment_long for longer sentences.\n",
      "WARNING:root:Consider using segment_long for longer sentences.\n",
      "WARNING:root:Consider using segment_long for longer sentences.\n",
      "WARNING:root:Consider using segment_long for longer sentences.\n"
     ]
    },
    {
     "name": "stdout",
     "output_type": "stream",
     "text": [
      "\n",
      "==============================================================================================================\n",
      "NOTE: There are multiple checkpoints present for this language.\n",
      "['C:\\\\Users\\\\user\\\\.DeepSegment_en\\\\checkpoint_finetuned_model_name']\n",
      "Default checkpoint is currently being used.\n",
      "To use a different checkpoint, use DeepSegment(\"en\", checkpoint_name=name_of_the_checkpoint)\n",
      "==============================================================================================================\n",
      "\n"
     ]
    },
    {
     "name": "stderr",
     "output_type": "stream",
     "text": [
      "WARNING:root:Using default n_window=10. Set this parameter based on your data.\n",
      "WARNING:root:Consider using segment_long for longer sentences.\n",
      "WARNING:root:Consider using segment_long for longer sentences.\n",
      "WARNING:root:Consider using segment_long for longer sentences.\n",
      "WARNING:root:Consider using segment_long for longer sentences.\n",
      "WARNING:root:Consider using segment_long for longer sentences.\n",
      "WARNING:root:Consider using segment_long for longer sentences.\n"
     ]
    },
    {
     "name": "stdout",
     "output_type": "stream",
     "text": [
      "\n",
      "==============================================================================================================\n",
      "NOTE: There are multiple checkpoints present for this language.\n",
      "['C:\\\\Users\\\\user\\\\.DeepSegment_en\\\\checkpoint_finetuned_model_name']\n",
      "Default checkpoint is currently being used.\n",
      "To use a different checkpoint, use DeepSegment(\"en\", checkpoint_name=name_of_the_checkpoint)\n",
      "==============================================================================================================\n",
      "\n"
     ]
    },
    {
     "name": "stderr",
     "output_type": "stream",
     "text": [
      "WARNING:root:Using default n_window=10. Set this parameter based on your data.\n",
      "WARNING:root:Consider using segment_long for longer sentences.\n",
      "WARNING:root:Consider using segment_long for longer sentences.\n",
      "WARNING:root:Consider using segment_long for longer sentences.\n",
      "WARNING:root:Consider using segment_long for longer sentences.\n"
     ]
    },
    {
     "name": "stdout",
     "output_type": "stream",
     "text": [
      "\n",
      "==============================================================================================================\n",
      "NOTE: There are multiple checkpoints present for this language.\n",
      "['C:\\\\Users\\\\user\\\\.DeepSegment_en\\\\checkpoint_finetuned_model_name']\n",
      "Default checkpoint is currently being used.\n",
      "To use a different checkpoint, use DeepSegment(\"en\", checkpoint_name=name_of_the_checkpoint)\n",
      "==============================================================================================================\n",
      "\n"
     ]
    },
    {
     "name": "stderr",
     "output_type": "stream",
     "text": [
      "WARNING:root:Using default n_window=10. Set this parameter based on your data.\n",
      "WARNING:root:Consider using segment_long for longer sentences.\n",
      "WARNING:root:Consider using segment_long for longer sentences.\n",
      "WARNING:root:Consider using segment_long for longer sentences.\n",
      "WARNING:root:Consider using segment_long for longer sentences.\n",
      "WARNING:root:Consider using segment_long for longer sentences.\n"
     ]
    },
    {
     "name": "stdout",
     "output_type": "stream",
     "text": [
      "\n",
      "==============================================================================================================\n",
      "NOTE: There are multiple checkpoints present for this language.\n",
      "['C:\\\\Users\\\\user\\\\.DeepSegment_en\\\\checkpoint_finetuned_model_name']\n",
      "Default checkpoint is currently being used.\n",
      "To use a different checkpoint, use DeepSegment(\"en\", checkpoint_name=name_of_the_checkpoint)\n",
      "==============================================================================================================\n",
      "\n"
     ]
    },
    {
     "name": "stderr",
     "output_type": "stream",
     "text": [
      "WARNING:root:Using default n_window=10. Set this parameter based on your data.\n",
      "WARNING:root:Consider using segment_long for longer sentences.\n",
      "WARNING:root:Consider using segment_long for longer sentences.\n",
      "WARNING:root:Consider using segment_long for longer sentences.\n",
      "WARNING:root:Consider using segment_long for longer sentences.\n",
      "WARNING:root:Consider using segment_long for longer sentences.\n",
      "WARNING:root:Consider using segment_long for longer sentences.\n"
     ]
    },
    {
     "name": "stdout",
     "output_type": "stream",
     "text": [
      "\n",
      "==============================================================================================================\n",
      "NOTE: There are multiple checkpoints present for this language.\n",
      "['C:\\\\Users\\\\user\\\\.DeepSegment_en\\\\checkpoint_finetuned_model_name']\n",
      "Default checkpoint is currently being used.\n",
      "To use a different checkpoint, use DeepSegment(\"en\", checkpoint_name=name_of_the_checkpoint)\n",
      "==============================================================================================================\n",
      "\n"
     ]
    },
    {
     "name": "stderr",
     "output_type": "stream",
     "text": [
      "WARNING:root:Using default n_window=10. Set this parameter based on your data.\n",
      "WARNING:root:Consider using segment_long for longer sentences.\n",
      "WARNING:root:Consider using segment_long for longer sentences.\n",
      "WARNING:root:Consider using segment_long for longer sentences.\n"
     ]
    },
    {
     "name": "stdout",
     "output_type": "stream",
     "text": [
      "\n",
      "==============================================================================================================\n",
      "NOTE: There are multiple checkpoints present for this language.\n",
      "['C:\\\\Users\\\\user\\\\.DeepSegment_en\\\\checkpoint_finetuned_model_name']\n",
      "Default checkpoint is currently being used.\n",
      "To use a different checkpoint, use DeepSegment(\"en\", checkpoint_name=name_of_the_checkpoint)\n",
      "==============================================================================================================\n",
      "\n"
     ]
    },
    {
     "name": "stderr",
     "output_type": "stream",
     "text": [
      "WARNING:root:Using default n_window=10. Set this parameter based on your data.\n",
      "WARNING:root:Consider using segment_long for longer sentences.\n"
     ]
    },
    {
     "name": "stdout",
     "output_type": "stream",
     "text": [
      "\n",
      "==============================================================================================================\n",
      "NOTE: There are multiple checkpoints present for this language.\n",
      "['C:\\\\Users\\\\user\\\\.DeepSegment_en\\\\checkpoint_finetuned_model_name']\n",
      "Default checkpoint is currently being used.\n",
      "To use a different checkpoint, use DeepSegment(\"en\", checkpoint_name=name_of_the_checkpoint)\n",
      "==============================================================================================================\n",
      "\n"
     ]
    },
    {
     "name": "stderr",
     "output_type": "stream",
     "text": [
      "WARNING:root:Using default n_window=10. Set this parameter based on your data.\n",
      "WARNING:root:Consider using segment_long for longer sentences.\n",
      "WARNING:root:Consider using segment_long for longer sentences.\n"
     ]
    },
    {
     "name": "stdout",
     "output_type": "stream",
     "text": [
      "\n",
      "==============================================================================================================\n",
      "NOTE: There are multiple checkpoints present for this language.\n",
      "['C:\\\\Users\\\\user\\\\.DeepSegment_en\\\\checkpoint_finetuned_model_name']\n",
      "Default checkpoint is currently being used.\n",
      "To use a different checkpoint, use DeepSegment(\"en\", checkpoint_name=name_of_the_checkpoint)\n",
      "==============================================================================================================\n",
      "\n"
     ]
    },
    {
     "name": "stderr",
     "output_type": "stream",
     "text": [
      "WARNING:root:Using default n_window=10. Set this parameter based on your data.\n",
      "WARNING:root:Consider using segment_long for longer sentences.\n",
      "WARNING:root:Consider using segment_long for longer sentences.\n",
      "WARNING:root:Consider using segment_long for longer sentences.\n",
      "WARNING:root:Consider using segment_long for longer sentences.\n",
      "WARNING:root:Consider using segment_long for longer sentences.\n"
     ]
    },
    {
     "name": "stdout",
     "output_type": "stream",
     "text": [
      "\n",
      "==============================================================================================================\n",
      "NOTE: There are multiple checkpoints present for this language.\n",
      "['C:\\\\Users\\\\user\\\\.DeepSegment_en\\\\checkpoint_finetuned_model_name']\n",
      "Default checkpoint is currently being used.\n",
      "To use a different checkpoint, use DeepSegment(\"en\", checkpoint_name=name_of_the_checkpoint)\n",
      "==============================================================================================================\n",
      "\n"
     ]
    },
    {
     "name": "stderr",
     "output_type": "stream",
     "text": [
      "WARNING:root:Using default n_window=10. Set this parameter based on your data.\n",
      "WARNING:root:Consider using segment_long for longer sentences.\n",
      "WARNING:root:Consider using segment_long for longer sentences.\n",
      "WARNING:root:Consider using segment_long for longer sentences.\n",
      "WARNING:root:Consider using segment_long for longer sentences.\n",
      "WARNING:root:Consider using segment_long for longer sentences.\n",
      "WARNING:root:Consider using segment_long for longer sentences.\n",
      "WARNING:root:Consider using segment_long for longer sentences.\n",
      "WARNING:root:Consider using segment_long for longer sentences.\n",
      "WARNING:root:Consider using segment_long for longer sentences.\n"
     ]
    },
    {
     "name": "stdout",
     "output_type": "stream",
     "text": [
      "\n",
      "==============================================================================================================\n",
      "NOTE: There are multiple checkpoints present for this language.\n",
      "['C:\\\\Users\\\\user\\\\.DeepSegment_en\\\\checkpoint_finetuned_model_name']\n",
      "Default checkpoint is currently being used.\n",
      "To use a different checkpoint, use DeepSegment(\"en\", checkpoint_name=name_of_the_checkpoint)\n",
      "==============================================================================================================\n",
      "\n"
     ]
    },
    {
     "name": "stderr",
     "output_type": "stream",
     "text": [
      "WARNING:root:Using default n_window=10. Set this parameter based on your data.\n",
      "WARNING:root:Consider using segment_long for longer sentences.\n",
      "WARNING:root:Consider using segment_long for longer sentences.\n",
      "WARNING:root:Consider using segment_long for longer sentences.\n",
      "WARNING:root:Consider using segment_long for longer sentences.\n",
      "WARNING:root:Consider using segment_long for longer sentences.\n",
      "WARNING:root:Consider using segment_long for longer sentences.\n",
      "WARNING:root:Consider using segment_long for longer sentences.\n",
      "WARNING:root:Consider using segment_long for longer sentences.\n"
     ]
    },
    {
     "name": "stdout",
     "output_type": "stream",
     "text": [
      "\n",
      "==============================================================================================================\n",
      "NOTE: There are multiple checkpoints present for this language.\n",
      "['C:\\\\Users\\\\user\\\\.DeepSegment_en\\\\checkpoint_finetuned_model_name']\n",
      "Default checkpoint is currently being used.\n",
      "To use a different checkpoint, use DeepSegment(\"en\", checkpoint_name=name_of_the_checkpoint)\n",
      "==============================================================================================================\n",
      "\n"
     ]
    },
    {
     "name": "stderr",
     "output_type": "stream",
     "text": [
      "WARNING:root:Using default n_window=10. Set this parameter based on your data.\n",
      "WARNING:root:Consider using segment_long for longer sentences.\n",
      "WARNING:root:Consider using segment_long for longer sentences.\n",
      "WARNING:root:Consider using segment_long for longer sentences.\n",
      "WARNING:root:Consider using segment_long for longer sentences.\n",
      "WARNING:root:Consider using segment_long for longer sentences.\n",
      "WARNING:root:Consider using segment_long for longer sentences.\n",
      "WARNING:root:Consider using segment_long for longer sentences.\n",
      "WARNING:root:Consider using segment_long for longer sentences.\n",
      "WARNING:root:Consider using segment_long for longer sentences.\n"
     ]
    },
    {
     "name": "stdout",
     "output_type": "stream",
     "text": [
      "\n",
      "==============================================================================================================\n",
      "NOTE: There are multiple checkpoints present for this language.\n",
      "['C:\\\\Users\\\\user\\\\.DeepSegment_en\\\\checkpoint_finetuned_model_name']\n",
      "Default checkpoint is currently being used.\n",
      "To use a different checkpoint, use DeepSegment(\"en\", checkpoint_name=name_of_the_checkpoint)\n",
      "==============================================================================================================\n",
      "\n"
     ]
    },
    {
     "name": "stderr",
     "output_type": "stream",
     "text": [
      "WARNING:root:Using default n_window=10. Set this parameter based on your data.\n",
      "WARNING:root:Consider using segment_long for longer sentences.\n",
      "WARNING:root:Consider using segment_long for longer sentences.\n",
      "WARNING:root:Consider using segment_long for longer sentences.\n",
      "WARNING:root:Consider using segment_long for longer sentences.\n",
      "WARNING:root:Consider using segment_long for longer sentences.\n",
      "WARNING:root:Consider using segment_long for longer sentences.\n",
      "WARNING:root:Consider using segment_long for longer sentences.\n",
      "WARNING:root:Consider using segment_long for longer sentences.\n"
     ]
    },
    {
     "name": "stdout",
     "output_type": "stream",
     "text": [
      "\n",
      "==============================================================================================================\n",
      "NOTE: There are multiple checkpoints present for this language.\n",
      "['C:\\\\Users\\\\user\\\\.DeepSegment_en\\\\checkpoint_finetuned_model_name']\n",
      "Default checkpoint is currently being used.\n",
      "To use a different checkpoint, use DeepSegment(\"en\", checkpoint_name=name_of_the_checkpoint)\n",
      "==============================================================================================================\n",
      "\n"
     ]
    },
    {
     "name": "stderr",
     "output_type": "stream",
     "text": [
      "WARNING:root:Using default n_window=10. Set this parameter based on your data.\n",
      "WARNING:root:Consider using segment_long for longer sentences.\n",
      "WARNING:root:Consider using segment_long for longer sentences.\n",
      "WARNING:root:Consider using segment_long for longer sentences.\n",
      "WARNING:root:Consider using segment_long for longer sentences.\n",
      "WARNING:root:Consider using segment_long for longer sentences.\n",
      "WARNING:root:Consider using segment_long for longer sentences.\n"
     ]
    },
    {
     "name": "stdout",
     "output_type": "stream",
     "text": [
      "\n",
      "==============================================================================================================\n",
      "NOTE: There are multiple checkpoints present for this language.\n",
      "['C:\\\\Users\\\\user\\\\.DeepSegment_en\\\\checkpoint_finetuned_model_name']\n",
      "Default checkpoint is currently being used.\n",
      "To use a different checkpoint, use DeepSegment(\"en\", checkpoint_name=name_of_the_checkpoint)\n",
      "==============================================================================================================\n",
      "\n"
     ]
    },
    {
     "name": "stderr",
     "output_type": "stream",
     "text": [
      "WARNING:root:Using default n_window=10. Set this parameter based on your data.\n",
      "WARNING:root:Consider using segment_long for longer sentences.\n",
      "WARNING:root:Consider using segment_long for longer sentences.\n",
      "WARNING:root:Consider using segment_long for longer sentences.\n",
      "WARNING:root:Consider using segment_long for longer sentences.\n",
      "WARNING:root:Consider using segment_long for longer sentences.\n"
     ]
    },
    {
     "name": "stdout",
     "output_type": "stream",
     "text": [
      "\n",
      "==============================================================================================================\n",
      "NOTE: There are multiple checkpoints present for this language.\n",
      "['C:\\\\Users\\\\user\\\\.DeepSegment_en\\\\checkpoint_finetuned_model_name']\n",
      "Default checkpoint is currently being used.\n",
      "To use a different checkpoint, use DeepSegment(\"en\", checkpoint_name=name_of_the_checkpoint)\n",
      "==============================================================================================================\n",
      "\n"
     ]
    },
    {
     "name": "stderr",
     "output_type": "stream",
     "text": [
      "WARNING:root:Using default n_window=10. Set this parameter based on your data.\n",
      "WARNING:root:Consider using segment_long for longer sentences.\n",
      "WARNING:root:Consider using segment_long for longer sentences.\n",
      "WARNING:root:Consider using segment_long for longer sentences.\n",
      "WARNING:root:Consider using segment_long for longer sentences.\n",
      "WARNING:root:Consider using segment_long for longer sentences.\n",
      "WARNING:root:Consider using segment_long for longer sentences.\n",
      "WARNING:root:Consider using segment_long for longer sentences.\n",
      "WARNING:root:Consider using segment_long for longer sentences.\n",
      "WARNING:root:Consider using segment_long for longer sentences.\n"
     ]
    },
    {
     "name": "stdout",
     "output_type": "stream",
     "text": [
      "\n",
      "==============================================================================================================\n",
      "NOTE: There are multiple checkpoints present for this language.\n",
      "['C:\\\\Users\\\\user\\\\.DeepSegment_en\\\\checkpoint_finetuned_model_name']\n",
      "Default checkpoint is currently being used.\n",
      "To use a different checkpoint, use DeepSegment(\"en\", checkpoint_name=name_of_the_checkpoint)\n",
      "==============================================================================================================\n",
      "\n"
     ]
    },
    {
     "name": "stderr",
     "output_type": "stream",
     "text": [
      "WARNING:root:Using default n_window=10. Set this parameter based on your data.\n",
      "WARNING:root:Consider using segment_long for longer sentences.\n",
      "WARNING:root:Consider using segment_long for longer sentences.\n"
     ]
    },
    {
     "name": "stdout",
     "output_type": "stream",
     "text": [
      "\n",
      "==============================================================================================================\n",
      "NOTE: There are multiple checkpoints present for this language.\n",
      "['C:\\\\Users\\\\user\\\\.DeepSegment_en\\\\checkpoint_finetuned_model_name']\n",
      "Default checkpoint is currently being used.\n",
      "To use a different checkpoint, use DeepSegment(\"en\", checkpoint_name=name_of_the_checkpoint)\n",
      "==============================================================================================================\n",
      "\n"
     ]
    },
    {
     "name": "stderr",
     "output_type": "stream",
     "text": [
      "WARNING:root:Using default n_window=10. Set this parameter based on your data.\n",
      "WARNING:root:Consider using segment_long for longer sentences.\n",
      "WARNING:root:Consider using segment_long for longer sentences.\n",
      "WARNING:root:Consider using segment_long for longer sentences.\n",
      "WARNING:root:Consider using segment_long for longer sentences.\n",
      "WARNING:root:Consider using segment_long for longer sentences.\n"
     ]
    },
    {
     "name": "stdout",
     "output_type": "stream",
     "text": [
      "\n",
      "==============================================================================================================\n",
      "NOTE: There are multiple checkpoints present for this language.\n",
      "['C:\\\\Users\\\\user\\\\.DeepSegment_en\\\\checkpoint_finetuned_model_name']\n",
      "Default checkpoint is currently being used.\n",
      "To use a different checkpoint, use DeepSegment(\"en\", checkpoint_name=name_of_the_checkpoint)\n",
      "==============================================================================================================\n",
      "\n"
     ]
    },
    {
     "name": "stderr",
     "output_type": "stream",
     "text": [
      "WARNING:root:Using default n_window=10. Set this parameter based on your data.\n",
      "WARNING:root:Consider using segment_long for longer sentences.\n",
      "WARNING:root:Consider using segment_long for longer sentences.\n",
      "WARNING:root:Consider using segment_long for longer sentences.\n"
     ]
    },
    {
     "name": "stdout",
     "output_type": "stream",
     "text": [
      "\n",
      "==============================================================================================================\n",
      "NOTE: There are multiple checkpoints present for this language.\n",
      "['C:\\\\Users\\\\user\\\\.DeepSegment_en\\\\checkpoint_finetuned_model_name']\n",
      "Default checkpoint is currently being used.\n",
      "To use a different checkpoint, use DeepSegment(\"en\", checkpoint_name=name_of_the_checkpoint)\n",
      "==============================================================================================================\n",
      "\n"
     ]
    },
    {
     "name": "stderr",
     "output_type": "stream",
     "text": [
      "WARNING:root:Using default n_window=10. Set this parameter based on your data.\n",
      "WARNING:root:Consider using segment_long for longer sentences.\n",
      "WARNING:root:Consider using segment_long for longer sentences.\n",
      "WARNING:root:Consider using segment_long for longer sentences.\n",
      "WARNING:root:Consider using segment_long for longer sentences.\n",
      "WARNING:root:Consider using segment_long for longer sentences.\n",
      "WARNING:root:Consider using segment_long for longer sentences.\n"
     ]
    },
    {
     "name": "stdout",
     "output_type": "stream",
     "text": [
      "\n",
      "==============================================================================================================\n",
      "NOTE: There are multiple checkpoints present for this language.\n",
      "['C:\\\\Users\\\\user\\\\.DeepSegment_en\\\\checkpoint_finetuned_model_name']\n",
      "Default checkpoint is currently being used.\n",
      "To use a different checkpoint, use DeepSegment(\"en\", checkpoint_name=name_of_the_checkpoint)\n",
      "==============================================================================================================\n",
      "\n"
     ]
    },
    {
     "name": "stderr",
     "output_type": "stream",
     "text": [
      "WARNING:root:Using default n_window=10. Set this parameter based on your data.\n",
      "WARNING:root:Consider using segment_long for longer sentences.\n",
      "WARNING:root:Consider using segment_long for longer sentences.\n"
     ]
    },
    {
     "name": "stdout",
     "output_type": "stream",
     "text": [
      "\n",
      "==============================================================================================================\n",
      "NOTE: There are multiple checkpoints present for this language.\n",
      "['C:\\\\Users\\\\user\\\\.DeepSegment_en\\\\checkpoint_finetuned_model_name']\n",
      "Default checkpoint is currently being used.\n",
      "To use a different checkpoint, use DeepSegment(\"en\", checkpoint_name=name_of_the_checkpoint)\n",
      "==============================================================================================================\n",
      "\n"
     ]
    },
    {
     "name": "stderr",
     "output_type": "stream",
     "text": [
      "WARNING:root:Using default n_window=10. Set this parameter based on your data.\n",
      "WARNING:root:Consider using segment_long for longer sentences.\n",
      "WARNING:root:Consider using segment_long for longer sentences.\n",
      "WARNING:root:Consider using segment_long for longer sentences.\n",
      "WARNING:root:Consider using segment_long for longer sentences.\n"
     ]
    },
    {
     "name": "stdout",
     "output_type": "stream",
     "text": [
      "\n",
      "==============================================================================================================\n",
      "NOTE: There are multiple checkpoints present for this language.\n",
      "['C:\\\\Users\\\\user\\\\.DeepSegment_en\\\\checkpoint_finetuned_model_name']\n",
      "Default checkpoint is currently being used.\n",
      "To use a different checkpoint, use DeepSegment(\"en\", checkpoint_name=name_of_the_checkpoint)\n",
      "==============================================================================================================\n",
      "\n"
     ]
    },
    {
     "name": "stderr",
     "output_type": "stream",
     "text": [
      "WARNING:root:Using default n_window=10. Set this parameter based on your data.\n",
      "WARNING:root:Consider using segment_long for longer sentences.\n",
      "WARNING:root:Consider using segment_long for longer sentences.\n",
      "WARNING:root:Consider using segment_long for longer sentences.\n",
      "WARNING:root:Consider using segment_long for longer sentences.\n",
      "WARNING:root:Consider using segment_long for longer sentences.\n",
      "WARNING:root:Consider using segment_long for longer sentences.\n",
      "WARNING:root:Consider using segment_long for longer sentences.\n"
     ]
    },
    {
     "name": "stdout",
     "output_type": "stream",
     "text": [
      "\n",
      "==============================================================================================================\n",
      "NOTE: There are multiple checkpoints present for this language.\n",
      "['C:\\\\Users\\\\user\\\\.DeepSegment_en\\\\checkpoint_finetuned_model_name']\n",
      "Default checkpoint is currently being used.\n",
      "To use a different checkpoint, use DeepSegment(\"en\", checkpoint_name=name_of_the_checkpoint)\n",
      "==============================================================================================================\n",
      "\n"
     ]
    },
    {
     "name": "stderr",
     "output_type": "stream",
     "text": [
      "WARNING:root:Using default n_window=10. Set this parameter based on your data.\n",
      "WARNING:root:Consider using segment_long for longer sentences.\n",
      "WARNING:root:Consider using segment_long for longer sentences.\n",
      "WARNING:root:Consider using segment_long for longer sentences.\n",
      "WARNING:root:Consider using segment_long for longer sentences.\n"
     ]
    },
    {
     "name": "stdout",
     "output_type": "stream",
     "text": [
      "\n",
      "==============================================================================================================\n",
      "NOTE: There are multiple checkpoints present for this language.\n",
      "['C:\\\\Users\\\\user\\\\.DeepSegment_en\\\\checkpoint_finetuned_model_name']\n",
      "Default checkpoint is currently being used.\n",
      "To use a different checkpoint, use DeepSegment(\"en\", checkpoint_name=name_of_the_checkpoint)\n",
      "==============================================================================================================\n",
      "\n"
     ]
    },
    {
     "name": "stderr",
     "output_type": "stream",
     "text": [
      "WARNING:root:Using default n_window=10. Set this parameter based on your data.\n",
      "WARNING:root:Consider using segment_long for longer sentences.\n",
      "WARNING:root:Consider using segment_long for longer sentences.\n",
      "WARNING:root:Consider using segment_long for longer sentences.\n",
      "WARNING:root:Consider using segment_long for longer sentences.\n",
      "WARNING:root:Consider using segment_long for longer sentences.\n",
      "WARNING:root:Consider using segment_long for longer sentences.\n",
      "WARNING:root:Consider using segment_long for longer sentences.\n",
      "WARNING:root:Consider using segment_long for longer sentences.\n"
     ]
    },
    {
     "name": "stdout",
     "output_type": "stream",
     "text": [
      "\n",
      "==============================================================================================================\n",
      "NOTE: There are multiple checkpoints present for this language.\n",
      "['C:\\\\Users\\\\user\\\\.DeepSegment_en\\\\checkpoint_finetuned_model_name']\n",
      "Default checkpoint is currently being used.\n",
      "To use a different checkpoint, use DeepSegment(\"en\", checkpoint_name=name_of_the_checkpoint)\n",
      "==============================================================================================================\n",
      "\n"
     ]
    },
    {
     "name": "stderr",
     "output_type": "stream",
     "text": [
      "WARNING:root:Using default n_window=10. Set this parameter based on your data.\n",
      "WARNING:root:Consider using segment_long for longer sentences.\n",
      "WARNING:root:Consider using segment_long for longer sentences.\n",
      "WARNING:root:Consider using segment_long for longer sentences.\n",
      "WARNING:root:Consider using segment_long for longer sentences.\n",
      "WARNING:root:Consider using segment_long for longer sentences.\n",
      "WARNING:root:Consider using segment_long for longer sentences.\n"
     ]
    },
    {
     "name": "stdout",
     "output_type": "stream",
     "text": [
      "\n",
      "==============================================================================================================\n",
      "NOTE: There are multiple checkpoints present for this language.\n",
      "['C:\\\\Users\\\\user\\\\.DeepSegment_en\\\\checkpoint_finetuned_model_name']\n",
      "Default checkpoint is currently being used.\n",
      "To use a different checkpoint, use DeepSegment(\"en\", checkpoint_name=name_of_the_checkpoint)\n",
      "==============================================================================================================\n",
      "\n"
     ]
    },
    {
     "name": "stderr",
     "output_type": "stream",
     "text": [
      "WARNING:root:Using default n_window=10. Set this parameter based on your data.\n",
      "WARNING:root:Consider using segment_long for longer sentences.\n",
      "WARNING:root:Consider using segment_long for longer sentences.\n",
      "WARNING:root:Consider using segment_long for longer sentences.\n",
      "WARNING:root:Consider using segment_long for longer sentences.\n",
      "WARNING:root:Consider using segment_long for longer sentences.\n"
     ]
    },
    {
     "name": "stdout",
     "output_type": "stream",
     "text": [
      "\n",
      "==============================================================================================================\n",
      "NOTE: There are multiple checkpoints present for this language.\n",
      "['C:\\\\Users\\\\user\\\\.DeepSegment_en\\\\checkpoint_finetuned_model_name']\n",
      "Default checkpoint is currently being used.\n",
      "To use a different checkpoint, use DeepSegment(\"en\", checkpoint_name=name_of_the_checkpoint)\n",
      "==============================================================================================================\n",
      "\n"
     ]
    },
    {
     "name": "stderr",
     "output_type": "stream",
     "text": [
      "WARNING:root:Using default n_window=10. Set this parameter based on your data.\n",
      "WARNING:root:Consider using segment_long for longer sentences.\n"
     ]
    },
    {
     "name": "stdout",
     "output_type": "stream",
     "text": [
      "\n",
      "==============================================================================================================\n",
      "NOTE: There are multiple checkpoints present for this language.\n",
      "['C:\\\\Users\\\\user\\\\.DeepSegment_en\\\\checkpoint_finetuned_model_name']\n",
      "Default checkpoint is currently being used.\n",
      "To use a different checkpoint, use DeepSegment(\"en\", checkpoint_name=name_of_the_checkpoint)\n",
      "==============================================================================================================\n",
      "\n"
     ]
    },
    {
     "name": "stderr",
     "output_type": "stream",
     "text": [
      "WARNING:root:Using default n_window=10. Set this parameter based on your data.\n",
      "WARNING:root:Consider using segment_long for longer sentences.\n",
      "WARNING:root:Consider using segment_long for longer sentences.\n",
      "WARNING:root:Consider using segment_long for longer sentences.\n",
      "WARNING:root:Consider using segment_long for longer sentences.\n",
      "WARNING:root:Consider using segment_long for longer sentences.\n",
      "WARNING:root:Consider using segment_long for longer sentences.\n",
      "WARNING:root:Consider using segment_long for longer sentences.\n"
     ]
    },
    {
     "name": "stdout",
     "output_type": "stream",
     "text": [
      "\n",
      "==============================================================================================================\n",
      "NOTE: There are multiple checkpoints present for this language.\n",
      "['C:\\\\Users\\\\user\\\\.DeepSegment_en\\\\checkpoint_finetuned_model_name']\n",
      "Default checkpoint is currently being used.\n",
      "To use a different checkpoint, use DeepSegment(\"en\", checkpoint_name=name_of_the_checkpoint)\n",
      "==============================================================================================================\n",
      "\n"
     ]
    },
    {
     "name": "stderr",
     "output_type": "stream",
     "text": [
      "WARNING:root:Using default n_window=10. Set this parameter based on your data.\n",
      "WARNING:root:Consider using segment_long for longer sentences.\n",
      "WARNING:root:Consider using segment_long for longer sentences.\n",
      "WARNING:root:Consider using segment_long for longer sentences.\n",
      "WARNING:root:Consider using segment_long for longer sentences.\n",
      "WARNING:root:Consider using segment_long for longer sentences.\n",
      "WARNING:root:Consider using segment_long for longer sentences.\n",
      "WARNING:root:Consider using segment_long for longer sentences.\n",
      "WARNING:root:Consider using segment_long for longer sentences.\n",
      "WARNING:root:Consider using segment_long for longer sentences.\n",
      "WARNING:root:Consider using segment_long for longer sentences.\n"
     ]
    },
    {
     "name": "stdout",
     "output_type": "stream",
     "text": [
      "\n",
      "==============================================================================================================\n",
      "NOTE: There are multiple checkpoints present for this language.\n",
      "['C:\\\\Users\\\\user\\\\.DeepSegment_en\\\\checkpoint_finetuned_model_name']\n",
      "Default checkpoint is currently being used.\n",
      "To use a different checkpoint, use DeepSegment(\"en\", checkpoint_name=name_of_the_checkpoint)\n",
      "==============================================================================================================\n",
      "\n"
     ]
    },
    {
     "name": "stderr",
     "output_type": "stream",
     "text": [
      "WARNING:root:Using default n_window=10. Set this parameter based on your data.\n",
      "WARNING:root:Consider using segment_long for longer sentences.\n",
      "WARNING:root:Consider using segment_long for longer sentences.\n"
     ]
    },
    {
     "name": "stdout",
     "output_type": "stream",
     "text": [
      "\n",
      "==============================================================================================================\n",
      "NOTE: There are multiple checkpoints present for this language.\n",
      "['C:\\\\Users\\\\user\\\\.DeepSegment_en\\\\checkpoint_finetuned_model_name']\n",
      "Default checkpoint is currently being used.\n",
      "To use a different checkpoint, use DeepSegment(\"en\", checkpoint_name=name_of_the_checkpoint)\n",
      "==============================================================================================================\n",
      "\n"
     ]
    },
    {
     "name": "stderr",
     "output_type": "stream",
     "text": [
      "WARNING:root:Using default n_window=10. Set this parameter based on your data.\n",
      "WARNING:root:Consider using segment_long for longer sentences.\n",
      "WARNING:root:Consider using segment_long for longer sentences.\n",
      "WARNING:root:Consider using segment_long for longer sentences.\n"
     ]
    },
    {
     "name": "stdout",
     "output_type": "stream",
     "text": [
      "\n",
      "==============================================================================================================\n",
      "NOTE: There are multiple checkpoints present for this language.\n",
      "['C:\\\\Users\\\\user\\\\.DeepSegment_en\\\\checkpoint_finetuned_model_name']\n",
      "Default checkpoint is currently being used.\n",
      "To use a different checkpoint, use DeepSegment(\"en\", checkpoint_name=name_of_the_checkpoint)\n",
      "==============================================================================================================\n",
      "\n"
     ]
    },
    {
     "name": "stderr",
     "output_type": "stream",
     "text": [
      "WARNING:root:Using default n_window=10. Set this parameter based on your data.\n",
      "WARNING:root:Consider using segment_long for longer sentences.\n",
      "WARNING:root:Consider using segment_long for longer sentences.\n",
      "WARNING:root:Consider using segment_long for longer sentences.\n",
      "WARNING:root:Consider using segment_long for longer sentences.\n",
      "WARNING:root:Consider using segment_long for longer sentences.\n"
     ]
    },
    {
     "name": "stdout",
     "output_type": "stream",
     "text": [
      "\n",
      "==============================================================================================================\n",
      "NOTE: There are multiple checkpoints present for this language.\n",
      "['C:\\\\Users\\\\user\\\\.DeepSegment_en\\\\checkpoint_finetuned_model_name']\n",
      "Default checkpoint is currently being used.\n",
      "To use a different checkpoint, use DeepSegment(\"en\", checkpoint_name=name_of_the_checkpoint)\n",
      "==============================================================================================================\n",
      "\n"
     ]
    },
    {
     "name": "stderr",
     "output_type": "stream",
     "text": [
      "WARNING:root:Using default n_window=10. Set this parameter based on your data.\n",
      "WARNING:root:Consider using segment_long for longer sentences.\n",
      "WARNING:root:Consider using segment_long for longer sentences.\n",
      "WARNING:root:Consider using segment_long for longer sentences.\n",
      "WARNING:root:Consider using segment_long for longer sentences.\n",
      "WARNING:root:Consider using segment_long for longer sentences.\n",
      "WARNING:root:Consider using segment_long for longer sentences.\n",
      "WARNING:root:Consider using segment_long for longer sentences.\n",
      "WARNING:root:Consider using segment_long for longer sentences.\n",
      "WARNING:root:Consider using segment_long for longer sentences.\n"
     ]
    },
    {
     "name": "stdout",
     "output_type": "stream",
     "text": [
      "\n",
      "==============================================================================================================\n",
      "NOTE: There are multiple checkpoints present for this language.\n",
      "['C:\\\\Users\\\\user\\\\.DeepSegment_en\\\\checkpoint_finetuned_model_name']\n",
      "Default checkpoint is currently being used.\n",
      "To use a different checkpoint, use DeepSegment(\"en\", checkpoint_name=name_of_the_checkpoint)\n",
      "==============================================================================================================\n",
      "\n"
     ]
    },
    {
     "name": "stderr",
     "output_type": "stream",
     "text": [
      "WARNING:root:Using default n_window=10. Set this parameter based on your data.\n",
      "WARNING:root:Consider using segment_long for longer sentences.\n",
      "WARNING:root:Consider using segment_long for longer sentences.\n",
      "WARNING:root:Consider using segment_long for longer sentences.\n",
      "WARNING:root:Consider using segment_long for longer sentences.\n",
      "WARNING:root:Consider using segment_long for longer sentences.\n"
     ]
    },
    {
     "name": "stdout",
     "output_type": "stream",
     "text": [
      "\n",
      "==============================================================================================================\n",
      "NOTE: There are multiple checkpoints present for this language.\n",
      "['C:\\\\Users\\\\user\\\\.DeepSegment_en\\\\checkpoint_finetuned_model_name']\n",
      "Default checkpoint is currently being used.\n",
      "To use a different checkpoint, use DeepSegment(\"en\", checkpoint_name=name_of_the_checkpoint)\n",
      "==============================================================================================================\n",
      "\n"
     ]
    },
    {
     "name": "stderr",
     "output_type": "stream",
     "text": [
      "WARNING:root:Using default n_window=10. Set this parameter based on your data.\n",
      "WARNING:root:Consider using segment_long for longer sentences.\n",
      "WARNING:root:Consider using segment_long for longer sentences.\n",
      "WARNING:root:Consider using segment_long for longer sentences.\n",
      "WARNING:root:Consider using segment_long for longer sentences.\n",
      "WARNING:root:Consider using segment_long for longer sentences.\n"
     ]
    },
    {
     "name": "stdout",
     "output_type": "stream",
     "text": [
      "\n",
      "==============================================================================================================\n",
      "NOTE: There are multiple checkpoints present for this language.\n",
      "['C:\\\\Users\\\\user\\\\.DeepSegment_en\\\\checkpoint_finetuned_model_name']\n",
      "Default checkpoint is currently being used.\n",
      "To use a different checkpoint, use DeepSegment(\"en\", checkpoint_name=name_of_the_checkpoint)\n",
      "==============================================================================================================\n",
      "\n"
     ]
    },
    {
     "name": "stderr",
     "output_type": "stream",
     "text": [
      "WARNING:root:Using default n_window=10. Set this parameter based on your data.\n",
      "WARNING:root:Consider using segment_long for longer sentences.\n",
      "WARNING:root:Consider using segment_long for longer sentences.\n",
      "WARNING:root:Consider using segment_long for longer sentences.\n",
      "WARNING:root:Consider using segment_long for longer sentences.\n",
      "WARNING:root:Consider using segment_long for longer sentences.\n",
      "WARNING:root:Consider using segment_long for longer sentences.\n",
      "WARNING:root:Consider using segment_long for longer sentences.\n",
      "WARNING:root:Consider using segment_long for longer sentences.\n",
      "WARNING:root:Consider using segment_long for longer sentences.\n"
     ]
    },
    {
     "name": "stdout",
     "output_type": "stream",
     "text": [
      "\n",
      "==============================================================================================================\n",
      "NOTE: There are multiple checkpoints present for this language.\n",
      "['C:\\\\Users\\\\user\\\\.DeepSegment_en\\\\checkpoint_finetuned_model_name']\n",
      "Default checkpoint is currently being used.\n",
      "To use a different checkpoint, use DeepSegment(\"en\", checkpoint_name=name_of_the_checkpoint)\n",
      "==============================================================================================================\n",
      "\n"
     ]
    },
    {
     "name": "stderr",
     "output_type": "stream",
     "text": [
      "WARNING:root:Using default n_window=10. Set this parameter based on your data.\n",
      "WARNING:root:Consider using segment_long for longer sentences.\n",
      "WARNING:root:Consider using segment_long for longer sentences.\n",
      "WARNING:root:Consider using segment_long for longer sentences.\n",
      "WARNING:root:Consider using segment_long for longer sentences.\n",
      "WARNING:root:Consider using segment_long for longer sentences.\n",
      "WARNING:root:Consider using segment_long for longer sentences.\n"
     ]
    },
    {
     "name": "stdout",
     "output_type": "stream",
     "text": [
      "\n",
      "==============================================================================================================\n",
      "NOTE: There are multiple checkpoints present for this language.\n",
      "['C:\\\\Users\\\\user\\\\.DeepSegment_en\\\\checkpoint_finetuned_model_name']\n",
      "Default checkpoint is currently being used.\n",
      "To use a different checkpoint, use DeepSegment(\"en\", checkpoint_name=name_of_the_checkpoint)\n",
      "==============================================================================================================\n",
      "\n"
     ]
    },
    {
     "name": "stderr",
     "output_type": "stream",
     "text": [
      "WARNING:root:Using default n_window=10. Set this parameter based on your data.\n",
      "WARNING:root:Consider using segment_long for longer sentences.\n",
      "WARNING:root:Consider using segment_long for longer sentences.\n",
      "WARNING:root:Consider using segment_long for longer sentences.\n"
     ]
    },
    {
     "name": "stdout",
     "output_type": "stream",
     "text": [
      "\n",
      "==============================================================================================================\n",
      "NOTE: There are multiple checkpoints present for this language.\n",
      "['C:\\\\Users\\\\user\\\\.DeepSegment_en\\\\checkpoint_finetuned_model_name']\n",
      "Default checkpoint is currently being used.\n",
      "To use a different checkpoint, use DeepSegment(\"en\", checkpoint_name=name_of_the_checkpoint)\n",
      "==============================================================================================================\n",
      "\n"
     ]
    },
    {
     "name": "stderr",
     "output_type": "stream",
     "text": [
      "WARNING:root:Using default n_window=10. Set this parameter based on your data.\n",
      "WARNING:root:Consider using segment_long for longer sentences.\n"
     ]
    },
    {
     "name": "stdout",
     "output_type": "stream",
     "text": [
      "\n",
      "==============================================================================================================\n",
      "NOTE: There are multiple checkpoints present for this language.\n",
      "['C:\\\\Users\\\\user\\\\.DeepSegment_en\\\\checkpoint_finetuned_model_name']\n",
      "Default checkpoint is currently being used.\n",
      "To use a different checkpoint, use DeepSegment(\"en\", checkpoint_name=name_of_the_checkpoint)\n",
      "==============================================================================================================\n",
      "\n"
     ]
    },
    {
     "name": "stderr",
     "output_type": "stream",
     "text": [
      "WARNING:root:Using default n_window=10. Set this parameter based on your data.\n",
      "WARNING:root:Consider using segment_long for longer sentences.\n",
      "WARNING:root:Consider using segment_long for longer sentences.\n",
      "WARNING:root:Consider using segment_long for longer sentences.\n",
      "WARNING:root:Consider using segment_long for longer sentences.\n",
      "WARNING:root:Consider using segment_long for longer sentences.\n",
      "WARNING:root:Consider using segment_long for longer sentences.\n",
      "WARNING:root:Consider using segment_long for longer sentences.\n",
      "WARNING:root:Consider using segment_long for longer sentences.\n"
     ]
    },
    {
     "name": "stdout",
     "output_type": "stream",
     "text": [
      "\n",
      "==============================================================================================================\n",
      "NOTE: There are multiple checkpoints present for this language.\n",
      "['C:\\\\Users\\\\user\\\\.DeepSegment_en\\\\checkpoint_finetuned_model_name']\n",
      "Default checkpoint is currently being used.\n",
      "To use a different checkpoint, use DeepSegment(\"en\", checkpoint_name=name_of_the_checkpoint)\n",
      "==============================================================================================================\n",
      "\n"
     ]
    },
    {
     "name": "stderr",
     "output_type": "stream",
     "text": [
      "WARNING:root:Using default n_window=10. Set this parameter based on your data.\n",
      "WARNING:root:Consider using segment_long for longer sentences.\n",
      "WARNING:root:Consider using segment_long for longer sentences.\n",
      "WARNING:root:Consider using segment_long for longer sentences.\n",
      "WARNING:root:Consider using segment_long for longer sentences.\n",
      "WARNING:root:Consider using segment_long for longer sentences.\n",
      "WARNING:root:Consider using segment_long for longer sentences.\n",
      "WARNING:root:Consider using segment_long for longer sentences.\n"
     ]
    },
    {
     "name": "stdout",
     "output_type": "stream",
     "text": [
      "\n",
      "==============================================================================================================\n",
      "NOTE: There are multiple checkpoints present for this language.\n",
      "['C:\\\\Users\\\\user\\\\.DeepSegment_en\\\\checkpoint_finetuned_model_name']\n",
      "Default checkpoint is currently being used.\n",
      "To use a different checkpoint, use DeepSegment(\"en\", checkpoint_name=name_of_the_checkpoint)\n",
      "==============================================================================================================\n",
      "\n"
     ]
    },
    {
     "name": "stderr",
     "output_type": "stream",
     "text": [
      "WARNING:root:Using default n_window=10. Set this parameter based on your data.\n",
      "WARNING:root:Consider using segment_long for longer sentences.\n",
      "WARNING:root:Consider using segment_long for longer sentences.\n",
      "WARNING:root:Consider using segment_long for longer sentences.\n",
      "WARNING:root:Consider using segment_long for longer sentences.\n",
      "WARNING:root:Consider using segment_long for longer sentences.\n",
      "WARNING:root:Consider using segment_long for longer sentences.\n",
      "WARNING:root:Consider using segment_long for longer sentences.\n",
      "WARNING:root:Consider using segment_long for longer sentences.\n",
      "WARNING:root:Consider using segment_long for longer sentences.\n"
     ]
    },
    {
     "name": "stdout",
     "output_type": "stream",
     "text": [
      "\n",
      "==============================================================================================================\n",
      "NOTE: There are multiple checkpoints present for this language.\n",
      "['C:\\\\Users\\\\user\\\\.DeepSegment_en\\\\checkpoint_finetuned_model_name']\n",
      "Default checkpoint is currently being used.\n",
      "To use a different checkpoint, use DeepSegment(\"en\", checkpoint_name=name_of_the_checkpoint)\n",
      "==============================================================================================================\n",
      "\n"
     ]
    },
    {
     "name": "stderr",
     "output_type": "stream",
     "text": [
      "WARNING:root:Using default n_window=10. Set this parameter based on your data.\n",
      "WARNING:root:Consider using segment_long for longer sentences.\n"
     ]
    },
    {
     "name": "stdout",
     "output_type": "stream",
     "text": [
      "\n",
      "==============================================================================================================\n",
      "NOTE: There are multiple checkpoints present for this language.\n",
      "['C:\\\\Users\\\\user\\\\.DeepSegment_en\\\\checkpoint_finetuned_model_name']\n",
      "Default checkpoint is currently being used.\n",
      "To use a different checkpoint, use DeepSegment(\"en\", checkpoint_name=name_of_the_checkpoint)\n",
      "==============================================================================================================\n",
      "\n"
     ]
    },
    {
     "name": "stderr",
     "output_type": "stream",
     "text": [
      "WARNING:root:Using default n_window=10. Set this parameter based on your data.\n",
      "WARNING:root:Consider using segment_long for longer sentences.\n",
      "WARNING:root:Consider using segment_long for longer sentences.\n",
      "WARNING:root:Consider using segment_long for longer sentences.\n",
      "WARNING:root:Consider using segment_long for longer sentences.\n",
      "WARNING:root:Consider using segment_long for longer sentences.\n",
      "WARNING:root:Consider using segment_long for longer sentences.\n"
     ]
    },
    {
     "name": "stdout",
     "output_type": "stream",
     "text": [
      "\n",
      "==============================================================================================================\n",
      "NOTE: There are multiple checkpoints present for this language.\n",
      "['C:\\\\Users\\\\user\\\\.DeepSegment_en\\\\checkpoint_finetuned_model_name']\n",
      "Default checkpoint is currently being used.\n",
      "To use a different checkpoint, use DeepSegment(\"en\", checkpoint_name=name_of_the_checkpoint)\n",
      "==============================================================================================================\n",
      "\n"
     ]
    },
    {
     "name": "stderr",
     "output_type": "stream",
     "text": [
      "WARNING:root:Using default n_window=10. Set this parameter based on your data.\n",
      "WARNING:root:Consider using segment_long for longer sentences.\n",
      "WARNING:root:Consider using segment_long for longer sentences.\n",
      "WARNING:root:Consider using segment_long for longer sentences.\n",
      "WARNING:root:Consider using segment_long for longer sentences.\n",
      "WARNING:root:Consider using segment_long for longer sentences.\n",
      "WARNING:root:Consider using segment_long for longer sentences.\n",
      "WARNING:root:Consider using segment_long for longer sentences.\n",
      "WARNING:root:Consider using segment_long for longer sentences.\n"
     ]
    },
    {
     "name": "stdout",
     "output_type": "stream",
     "text": [
      "\n",
      "==============================================================================================================\n",
      "NOTE: There are multiple checkpoints present for this language.\n",
      "['C:\\\\Users\\\\user\\\\.DeepSegment_en\\\\checkpoint_finetuned_model_name']\n",
      "Default checkpoint is currently being used.\n",
      "To use a different checkpoint, use DeepSegment(\"en\", checkpoint_name=name_of_the_checkpoint)\n",
      "==============================================================================================================\n",
      "\n"
     ]
    },
    {
     "name": "stderr",
     "output_type": "stream",
     "text": [
      "WARNING:root:Using default n_window=10. Set this parameter based on your data.\n",
      "WARNING:root:Consider using segment_long for longer sentences.\n",
      "WARNING:root:Consider using segment_long for longer sentences.\n",
      "WARNING:root:Consider using segment_long for longer sentences.\n",
      "WARNING:root:Consider using segment_long for longer sentences.\n"
     ]
    },
    {
     "name": "stdout",
     "output_type": "stream",
     "text": [
      "\n",
      "==============================================================================================================\n",
      "NOTE: There are multiple checkpoints present for this language.\n",
      "['C:\\\\Users\\\\user\\\\.DeepSegment_en\\\\checkpoint_finetuned_model_name']\n",
      "Default checkpoint is currently being used.\n",
      "To use a different checkpoint, use DeepSegment(\"en\", checkpoint_name=name_of_the_checkpoint)\n",
      "==============================================================================================================\n",
      "\n"
     ]
    },
    {
     "name": "stderr",
     "output_type": "stream",
     "text": [
      "WARNING:root:Using default n_window=10. Set this parameter based on your data.\n",
      "WARNING:root:Consider using segment_long for longer sentences.\n",
      "WARNING:root:Consider using segment_long for longer sentences.\n",
      "WARNING:root:Consider using segment_long for longer sentences.\n",
      "WARNING:root:Consider using segment_long for longer sentences.\n"
     ]
    },
    {
     "name": "stdout",
     "output_type": "stream",
     "text": [
      "\n",
      "==============================================================================================================\n",
      "NOTE: There are multiple checkpoints present for this language.\n",
      "['C:\\\\Users\\\\user\\\\.DeepSegment_en\\\\checkpoint_finetuned_model_name']\n",
      "Default checkpoint is currently being used.\n",
      "To use a different checkpoint, use DeepSegment(\"en\", checkpoint_name=name_of_the_checkpoint)\n",
      "==============================================================================================================\n",
      "\n"
     ]
    },
    {
     "name": "stderr",
     "output_type": "stream",
     "text": [
      "WARNING:root:Using default n_window=10. Set this parameter based on your data.\n",
      "WARNING:root:Consider using segment_long for longer sentences.\n",
      "WARNING:root:Consider using segment_long for longer sentences.\n",
      "WARNING:root:Consider using segment_long for longer sentences.\n",
      "WARNING:root:Consider using segment_long for longer sentences.\n",
      "WARNING:root:Consider using segment_long for longer sentences.\n",
      "WARNING:root:Consider using segment_long for longer sentences.\n",
      "WARNING:root:Consider using segment_long for longer sentences.\n",
      "WARNING:root:Consider using segment_long for longer sentences.\n"
     ]
    },
    {
     "name": "stdout",
     "output_type": "stream",
     "text": [
      "\n",
      "==============================================================================================================\n",
      "NOTE: There are multiple checkpoints present for this language.\n",
      "['C:\\\\Users\\\\user\\\\.DeepSegment_en\\\\checkpoint_finetuned_model_name']\n",
      "Default checkpoint is currently being used.\n",
      "To use a different checkpoint, use DeepSegment(\"en\", checkpoint_name=name_of_the_checkpoint)\n",
      "==============================================================================================================\n",
      "\n"
     ]
    },
    {
     "name": "stderr",
     "output_type": "stream",
     "text": [
      "WARNING:root:Using default n_window=10. Set this parameter based on your data.\n",
      "WARNING:root:Consider using segment_long for longer sentences.\n",
      "WARNING:root:Consider using segment_long for longer sentences.\n",
      "WARNING:root:Consider using segment_long for longer sentences.\n",
      "WARNING:root:Consider using segment_long for longer sentences.\n",
      "WARNING:root:Consider using segment_long for longer sentences.\n",
      "WARNING:root:Consider using segment_long for longer sentences.\n",
      "WARNING:root:Consider using segment_long for longer sentences.\n",
      "WARNING:root:Consider using segment_long for longer sentences.\n",
      "WARNING:root:Consider using segment_long for longer sentences.\n",
      "WARNING:root:Consider using segment_long for longer sentences.\n",
      "WARNING:root:Consider using segment_long for longer sentences.\n",
      "WARNING:root:Consider using segment_long for longer sentences.\n",
      "WARNING:root:Consider using segment_long for longer sentences.\n",
      "WARNING:root:Consider using segment_long for longer sentences.\n"
     ]
    },
    {
     "name": "stdout",
     "output_type": "stream",
     "text": [
      "\n",
      "==============================================================================================================\n",
      "NOTE: There are multiple checkpoints present for this language.\n",
      "['C:\\\\Users\\\\user\\\\.DeepSegment_en\\\\checkpoint_finetuned_model_name']\n",
      "Default checkpoint is currently being used.\n",
      "To use a different checkpoint, use DeepSegment(\"en\", checkpoint_name=name_of_the_checkpoint)\n",
      "==============================================================================================================\n",
      "\n"
     ]
    },
    {
     "name": "stderr",
     "output_type": "stream",
     "text": [
      "WARNING:root:Using default n_window=10. Set this parameter based on your data.\n",
      "WARNING:root:Consider using segment_long for longer sentences.\n",
      "WARNING:root:Consider using segment_long for longer sentences.\n",
      "WARNING:root:Consider using segment_long for longer sentences.\n",
      "WARNING:root:Consider using segment_long for longer sentences.\n",
      "WARNING:root:Consider using segment_long for longer sentences.\n",
      "WARNING:root:Consider using segment_long for longer sentences.\n"
     ]
    },
    {
     "name": "stdout",
     "output_type": "stream",
     "text": [
      "\n",
      "==============================================================================================================\n",
      "NOTE: There are multiple checkpoints present for this language.\n",
      "['C:\\\\Users\\\\user\\\\.DeepSegment_en\\\\checkpoint_finetuned_model_name']\n",
      "Default checkpoint is currently being used.\n",
      "To use a different checkpoint, use DeepSegment(\"en\", checkpoint_name=name_of_the_checkpoint)\n",
      "==============================================================================================================\n",
      "\n"
     ]
    },
    {
     "name": "stderr",
     "output_type": "stream",
     "text": [
      "WARNING:root:Using default n_window=10. Set this parameter based on your data.\n",
      "WARNING:root:Consider using segment_long for longer sentences.\n",
      "WARNING:root:Consider using segment_long for longer sentences.\n",
      "WARNING:root:Consider using segment_long for longer sentences.\n",
      "WARNING:root:Consider using segment_long for longer sentences.\n",
      "WARNING:root:Consider using segment_long for longer sentences.\n"
     ]
    },
    {
     "name": "stdout",
     "output_type": "stream",
     "text": [
      "\n",
      "==============================================================================================================\n",
      "NOTE: There are multiple checkpoints present for this language.\n",
      "['C:\\\\Users\\\\user\\\\.DeepSegment_en\\\\checkpoint_finetuned_model_name']\n",
      "Default checkpoint is currently being used.\n",
      "To use a different checkpoint, use DeepSegment(\"en\", checkpoint_name=name_of_the_checkpoint)\n",
      "==============================================================================================================\n",
      "\n"
     ]
    },
    {
     "name": "stderr",
     "output_type": "stream",
     "text": [
      "WARNING:root:Using default n_window=10. Set this parameter based on your data.\n",
      "WARNING:root:Consider using segment_long for longer sentences.\n",
      "WARNING:root:Consider using segment_long for longer sentences.\n",
      "WARNING:root:Consider using segment_long for longer sentences.\n",
      "WARNING:root:Consider using segment_long for longer sentences.\n"
     ]
    },
    {
     "name": "stdout",
     "output_type": "stream",
     "text": [
      "\n",
      "==============================================================================================================\n",
      "NOTE: There are multiple checkpoints present for this language.\n",
      "['C:\\\\Users\\\\user\\\\.DeepSegment_en\\\\checkpoint_finetuned_model_name']\n",
      "Default checkpoint is currently being used.\n",
      "To use a different checkpoint, use DeepSegment(\"en\", checkpoint_name=name_of_the_checkpoint)\n",
      "==============================================================================================================\n",
      "\n"
     ]
    },
    {
     "name": "stderr",
     "output_type": "stream",
     "text": [
      "WARNING:root:Using default n_window=10. Set this parameter based on your data.\n",
      "WARNING:root:Consider using segment_long for longer sentences.\n",
      "WARNING:root:Consider using segment_long for longer sentences.\n",
      "WARNING:root:Consider using segment_long for longer sentences.\n",
      "WARNING:root:Consider using segment_long for longer sentences.\n",
      "WARNING:root:Consider using segment_long for longer sentences.\n"
     ]
    },
    {
     "name": "stdout",
     "output_type": "stream",
     "text": [
      "\n",
      "==============================================================================================================\n",
      "NOTE: There are multiple checkpoints present for this language.\n",
      "['C:\\\\Users\\\\user\\\\.DeepSegment_en\\\\checkpoint_finetuned_model_name']\n",
      "Default checkpoint is currently being used.\n",
      "To use a different checkpoint, use DeepSegment(\"en\", checkpoint_name=name_of_the_checkpoint)\n",
      "==============================================================================================================\n",
      "\n"
     ]
    },
    {
     "name": "stderr",
     "output_type": "stream",
     "text": [
      "WARNING:root:Using default n_window=10. Set this parameter based on your data.\n",
      "WARNING:root:Consider using segment_long for longer sentences.\n",
      "WARNING:root:Consider using segment_long for longer sentences.\n",
      "WARNING:root:Consider using segment_long for longer sentences.\n",
      "WARNING:root:Consider using segment_long for longer sentences.\n",
      "WARNING:root:Consider using segment_long for longer sentences.\n",
      "WARNING:root:Consider using segment_long for longer sentences.\n"
     ]
    },
    {
     "name": "stdout",
     "output_type": "stream",
     "text": [
      "\n",
      "==============================================================================================================\n",
      "NOTE: There are multiple checkpoints present for this language.\n",
      "['C:\\\\Users\\\\user\\\\.DeepSegment_en\\\\checkpoint_finetuned_model_name']\n",
      "Default checkpoint is currently being used.\n",
      "To use a different checkpoint, use DeepSegment(\"en\", checkpoint_name=name_of_the_checkpoint)\n",
      "==============================================================================================================\n",
      "\n"
     ]
    },
    {
     "name": "stderr",
     "output_type": "stream",
     "text": [
      "WARNING:root:Using default n_window=10. Set this parameter based on your data.\n",
      "WARNING:root:Consider using segment_long for longer sentences.\n",
      "WARNING:root:Consider using segment_long for longer sentences.\n",
      "WARNING:root:Consider using segment_long for longer sentences.\n",
      "WARNING:root:Consider using segment_long for longer sentences.\n",
      "WARNING:root:Consider using segment_long for longer sentences.\n",
      "WARNING:root:Consider using segment_long for longer sentences.\n",
      "WARNING:root:Consider using segment_long for longer sentences.\n"
     ]
    },
    {
     "name": "stdout",
     "output_type": "stream",
     "text": [
      "\n",
      "==============================================================================================================\n",
      "NOTE: There are multiple checkpoints present for this language.\n",
      "['C:\\\\Users\\\\user\\\\.DeepSegment_en\\\\checkpoint_finetuned_model_name']\n",
      "Default checkpoint is currently being used.\n",
      "To use a different checkpoint, use DeepSegment(\"en\", checkpoint_name=name_of_the_checkpoint)\n",
      "==============================================================================================================\n",
      "\n"
     ]
    },
    {
     "name": "stderr",
     "output_type": "stream",
     "text": [
      "WARNING:root:Using default n_window=10. Set this parameter based on your data.\n",
      "WARNING:root:Consider using segment_long for longer sentences.\n",
      "WARNING:root:Consider using segment_long for longer sentences.\n",
      "WARNING:root:Consider using segment_long for longer sentences.\n",
      "WARNING:root:Consider using segment_long for longer sentences.\n",
      "WARNING:root:Consider using segment_long for longer sentences.\n",
      "WARNING:root:Consider using segment_long for longer sentences.\n",
      "WARNING:root:Consider using segment_long for longer sentences.\n",
      "WARNING:root:Consider using segment_long for longer sentences.\n"
     ]
    },
    {
     "name": "stdout",
     "output_type": "stream",
     "text": [
      "\n",
      "==============================================================================================================\n",
      "NOTE: There are multiple checkpoints present for this language.\n",
      "['C:\\\\Users\\\\user\\\\.DeepSegment_en\\\\checkpoint_finetuned_model_name']\n",
      "Default checkpoint is currently being used.\n",
      "To use a different checkpoint, use DeepSegment(\"en\", checkpoint_name=name_of_the_checkpoint)\n",
      "==============================================================================================================\n",
      "\n"
     ]
    },
    {
     "name": "stderr",
     "output_type": "stream",
     "text": [
      "WARNING:root:Using default n_window=10. Set this parameter based on your data.\n",
      "WARNING:root:Consider using segment_long for longer sentences.\n",
      "WARNING:root:Consider using segment_long for longer sentences.\n",
      "WARNING:root:Consider using segment_long for longer sentences.\n"
     ]
    },
    {
     "name": "stdout",
     "output_type": "stream",
     "text": [
      "\n",
      "==============================================================================================================\n",
      "NOTE: There are multiple checkpoints present for this language.\n",
      "['C:\\\\Users\\\\user\\\\.DeepSegment_en\\\\checkpoint_finetuned_model_name']\n",
      "Default checkpoint is currently being used.\n",
      "To use a different checkpoint, use DeepSegment(\"en\", checkpoint_name=name_of_the_checkpoint)\n",
      "==============================================================================================================\n",
      "\n"
     ]
    },
    {
     "name": "stderr",
     "output_type": "stream",
     "text": [
      "WARNING:root:Using default n_window=10. Set this parameter based on your data.\n",
      "WARNING:root:Consider using segment_long for longer sentences.\n",
      "WARNING:root:Consider using segment_long for longer sentences.\n",
      "WARNING:root:Consider using segment_long for longer sentences.\n",
      "WARNING:root:Consider using segment_long for longer sentences.\n",
      "WARNING:root:Consider using segment_long for longer sentences.\n",
      "WARNING:root:Consider using segment_long for longer sentences.\n"
     ]
    },
    {
     "name": "stdout",
     "output_type": "stream",
     "text": [
      "\n",
      "==============================================================================================================\n",
      "NOTE: There are multiple checkpoints present for this language.\n",
      "['C:\\\\Users\\\\user\\\\.DeepSegment_en\\\\checkpoint_finetuned_model_name']\n",
      "Default checkpoint is currently being used.\n",
      "To use a different checkpoint, use DeepSegment(\"en\", checkpoint_name=name_of_the_checkpoint)\n",
      "==============================================================================================================\n",
      "\n"
     ]
    },
    {
     "name": "stderr",
     "output_type": "stream",
     "text": [
      "WARNING:root:Using default n_window=10. Set this parameter based on your data.\n",
      "WARNING:root:Consider using segment_long for longer sentences.\n",
      "WARNING:root:Consider using segment_long for longer sentences.\n",
      "WARNING:root:Consider using segment_long for longer sentences.\n",
      "WARNING:root:Consider using segment_long for longer sentences.\n",
      "WARNING:root:Consider using segment_long for longer sentences.\n"
     ]
    },
    {
     "name": "stdout",
     "output_type": "stream",
     "text": [
      "\n",
      "==============================================================================================================\n",
      "NOTE: There are multiple checkpoints present for this language.\n",
      "['C:\\\\Users\\\\user\\\\.DeepSegment_en\\\\checkpoint_finetuned_model_name']\n",
      "Default checkpoint is currently being used.\n",
      "To use a different checkpoint, use DeepSegment(\"en\", checkpoint_name=name_of_the_checkpoint)\n",
      "==============================================================================================================\n",
      "\n"
     ]
    },
    {
     "name": "stderr",
     "output_type": "stream",
     "text": [
      "WARNING:root:Using default n_window=10. Set this parameter based on your data.\n",
      "WARNING:root:Consider using segment_long for longer sentences.\n",
      "WARNING:root:Consider using segment_long for longer sentences.\n",
      "WARNING:root:Consider using segment_long for longer sentences.\n"
     ]
    },
    {
     "name": "stdout",
     "output_type": "stream",
     "text": [
      "\n",
      "==============================================================================================================\n",
      "NOTE: There are multiple checkpoints present for this language.\n",
      "['C:\\\\Users\\\\user\\\\.DeepSegment_en\\\\checkpoint_finetuned_model_name']\n",
      "Default checkpoint is currently being used.\n",
      "To use a different checkpoint, use DeepSegment(\"en\", checkpoint_name=name_of_the_checkpoint)\n",
      "==============================================================================================================\n",
      "\n"
     ]
    },
    {
     "name": "stderr",
     "output_type": "stream",
     "text": [
      "WARNING:root:Using default n_window=10. Set this parameter based on your data.\n",
      "WARNING:root:Consider using segment_long for longer sentences.\n",
      "WARNING:root:Consider using segment_long for longer sentences.\n",
      "WARNING:root:Consider using segment_long for longer sentences.\n",
      "WARNING:root:Consider using segment_long for longer sentences.\n",
      "WARNING:root:Consider using segment_long for longer sentences.\n"
     ]
    },
    {
     "name": "stdout",
     "output_type": "stream",
     "text": [
      "\n",
      "==============================================================================================================\n",
      "NOTE: There are multiple checkpoints present for this language.\n",
      "['C:\\\\Users\\\\user\\\\.DeepSegment_en\\\\checkpoint_finetuned_model_name']\n",
      "Default checkpoint is currently being used.\n",
      "To use a different checkpoint, use DeepSegment(\"en\", checkpoint_name=name_of_the_checkpoint)\n",
      "==============================================================================================================\n",
      "\n"
     ]
    },
    {
     "name": "stderr",
     "output_type": "stream",
     "text": [
      "WARNING:root:Using default n_window=10. Set this parameter based on your data.\n",
      "WARNING:root:Consider using segment_long for longer sentences.\n",
      "WARNING:root:Consider using segment_long for longer sentences.\n",
      "WARNING:root:Consider using segment_long for longer sentences.\n",
      "WARNING:root:Consider using segment_long for longer sentences.\n"
     ]
    },
    {
     "name": "stdout",
     "output_type": "stream",
     "text": [
      "\n",
      "==============================================================================================================\n",
      "NOTE: There are multiple checkpoints present for this language.\n",
      "['C:\\\\Users\\\\user\\\\.DeepSegment_en\\\\checkpoint_finetuned_model_name']\n",
      "Default checkpoint is currently being used.\n",
      "To use a different checkpoint, use DeepSegment(\"en\", checkpoint_name=name_of_the_checkpoint)\n",
      "==============================================================================================================\n",
      "\n"
     ]
    },
    {
     "name": "stderr",
     "output_type": "stream",
     "text": [
      "WARNING:root:Using default n_window=10. Set this parameter based on your data.\n",
      "WARNING:root:Consider using segment_long for longer sentences.\n",
      "WARNING:root:Consider using segment_long for longer sentences.\n",
      "WARNING:root:Consider using segment_long for longer sentences.\n",
      "WARNING:root:Consider using segment_long for longer sentences.\n",
      "WARNING:root:Consider using segment_long for longer sentences.\n",
      "WARNING:root:Consider using segment_long for longer sentences.\n",
      "WARNING:root:Consider using segment_long for longer sentences.\n",
      "WARNING:root:Consider using segment_long for longer sentences.\n"
     ]
    },
    {
     "name": "stdout",
     "output_type": "stream",
     "text": [
      "\n",
      "==============================================================================================================\n",
      "NOTE: There are multiple checkpoints present for this language.\n",
      "['C:\\\\Users\\\\user\\\\.DeepSegment_en\\\\checkpoint_finetuned_model_name']\n",
      "Default checkpoint is currently being used.\n",
      "To use a different checkpoint, use DeepSegment(\"en\", checkpoint_name=name_of_the_checkpoint)\n",
      "==============================================================================================================\n",
      "\n"
     ]
    },
    {
     "name": "stderr",
     "output_type": "stream",
     "text": [
      "WARNING:root:Using default n_window=10. Set this parameter based on your data.\n",
      "WARNING:root:Consider using segment_long for longer sentences.\n",
      "WARNING:root:Consider using segment_long for longer sentences.\n",
      "WARNING:root:Consider using segment_long for longer sentences.\n",
      "WARNING:root:Consider using segment_long for longer sentences.\n"
     ]
    },
    {
     "name": "stdout",
     "output_type": "stream",
     "text": [
      "\n",
      "==============================================================================================================\n",
      "NOTE: There are multiple checkpoints present for this language.\n",
      "['C:\\\\Users\\\\user\\\\.DeepSegment_en\\\\checkpoint_finetuned_model_name']\n",
      "Default checkpoint is currently being used.\n",
      "To use a different checkpoint, use DeepSegment(\"en\", checkpoint_name=name_of_the_checkpoint)\n",
      "==============================================================================================================\n",
      "\n"
     ]
    },
    {
     "name": "stderr",
     "output_type": "stream",
     "text": [
      "WARNING:root:Using default n_window=10. Set this parameter based on your data.\n",
      "WARNING:root:Consider using segment_long for longer sentences.\n",
      "WARNING:root:Consider using segment_long for longer sentences.\n",
      "WARNING:root:Consider using segment_long for longer sentences.\n",
      "WARNING:root:Consider using segment_long for longer sentences.\n",
      "WARNING:root:Consider using segment_long for longer sentences.\n"
     ]
    },
    {
     "name": "stdout",
     "output_type": "stream",
     "text": [
      "\n",
      "==============================================================================================================\n",
      "NOTE: There are multiple checkpoints present for this language.\n",
      "['C:\\\\Users\\\\user\\\\.DeepSegment_en\\\\checkpoint_finetuned_model_name']\n",
      "Default checkpoint is currently being used.\n",
      "To use a different checkpoint, use DeepSegment(\"en\", checkpoint_name=name_of_the_checkpoint)\n",
      "==============================================================================================================\n",
      "\n"
     ]
    },
    {
     "name": "stderr",
     "output_type": "stream",
     "text": [
      "WARNING:root:Using default n_window=10. Set this parameter based on your data.\n",
      "WARNING:root:Consider using segment_long for longer sentences.\n",
      "WARNING:root:Consider using segment_long for longer sentences.\n",
      "WARNING:root:Consider using segment_long for longer sentences.\n",
      "WARNING:root:Consider using segment_long for longer sentences.\n",
      "WARNING:root:Consider using segment_long for longer sentences.\n",
      "WARNING:root:Consider using segment_long for longer sentences.\n"
     ]
    },
    {
     "name": "stdout",
     "output_type": "stream",
     "text": [
      "\n",
      "==============================================================================================================\n",
      "NOTE: There are multiple checkpoints present for this language.\n",
      "['C:\\\\Users\\\\user\\\\.DeepSegment_en\\\\checkpoint_finetuned_model_name']\n",
      "Default checkpoint is currently being used.\n",
      "To use a different checkpoint, use DeepSegment(\"en\", checkpoint_name=name_of_the_checkpoint)\n",
      "==============================================================================================================\n",
      "\n"
     ]
    },
    {
     "name": "stderr",
     "output_type": "stream",
     "text": [
      "WARNING:root:Using default n_window=10. Set this parameter based on your data.\n",
      "WARNING:root:Consider using segment_long for longer sentences.\n",
      "WARNING:root:Consider using segment_long for longer sentences.\n",
      "WARNING:root:Consider using segment_long for longer sentences.\n",
      "WARNING:root:Consider using segment_long for longer sentences.\n",
      "WARNING:root:Consider using segment_long for longer sentences.\n"
     ]
    },
    {
     "name": "stdout",
     "output_type": "stream",
     "text": [
      "\n",
      "==============================================================================================================\n",
      "NOTE: There are multiple checkpoints present for this language.\n",
      "['C:\\\\Users\\\\user\\\\.DeepSegment_en\\\\checkpoint_finetuned_model_name']\n",
      "Default checkpoint is currently being used.\n",
      "To use a different checkpoint, use DeepSegment(\"en\", checkpoint_name=name_of_the_checkpoint)\n",
      "==============================================================================================================\n",
      "\n"
     ]
    },
    {
     "name": "stderr",
     "output_type": "stream",
     "text": [
      "WARNING:root:Using default n_window=10. Set this parameter based on your data.\n",
      "WARNING:root:Consider using segment_long for longer sentences.\n",
      "WARNING:root:Consider using segment_long for longer sentences.\n",
      "WARNING:root:Consider using segment_long for longer sentences.\n",
      "WARNING:root:Consider using segment_long for longer sentences.\n"
     ]
    },
    {
     "name": "stdout",
     "output_type": "stream",
     "text": [
      "\n",
      "==============================================================================================================\n",
      "NOTE: There are multiple checkpoints present for this language.\n",
      "['C:\\\\Users\\\\user\\\\.DeepSegment_en\\\\checkpoint_finetuned_model_name']\n",
      "Default checkpoint is currently being used.\n",
      "To use a different checkpoint, use DeepSegment(\"en\", checkpoint_name=name_of_the_checkpoint)\n",
      "==============================================================================================================\n",
      "\n"
     ]
    },
    {
     "name": "stderr",
     "output_type": "stream",
     "text": [
      "WARNING:root:Using default n_window=10. Set this parameter based on your data.\n",
      "WARNING:root:Consider using segment_long for longer sentences.\n"
     ]
    },
    {
     "name": "stdout",
     "output_type": "stream",
     "text": [
      "\n",
      "==============================================================================================================\n",
      "NOTE: There are multiple checkpoints present for this language.\n",
      "['C:\\\\Users\\\\user\\\\.DeepSegment_en\\\\checkpoint_finetuned_model_name']\n",
      "Default checkpoint is currently being used.\n",
      "To use a different checkpoint, use DeepSegment(\"en\", checkpoint_name=name_of_the_checkpoint)\n",
      "==============================================================================================================\n",
      "\n"
     ]
    },
    {
     "name": "stderr",
     "output_type": "stream",
     "text": [
      "WARNING:root:Using default n_window=10. Set this parameter based on your data.\n",
      "WARNING:root:Consider using segment_long for longer sentences.\n",
      "WARNING:root:Consider using segment_long for longer sentences.\n",
      "WARNING:root:Consider using segment_long for longer sentences.\n",
      "WARNING:root:Consider using segment_long for longer sentences.\n",
      "WARNING:root:Consider using segment_long for longer sentences.\n",
      "WARNING:root:Consider using segment_long for longer sentences.\n"
     ]
    },
    {
     "name": "stdout",
     "output_type": "stream",
     "text": [
      "\n",
      "==============================================================================================================\n",
      "NOTE: There are multiple checkpoints present for this language.\n",
      "['C:\\\\Users\\\\user\\\\.DeepSegment_en\\\\checkpoint_finetuned_model_name']\n",
      "Default checkpoint is currently being used.\n",
      "To use a different checkpoint, use DeepSegment(\"en\", checkpoint_name=name_of_the_checkpoint)\n",
      "==============================================================================================================\n",
      "\n"
     ]
    },
    {
     "name": "stderr",
     "output_type": "stream",
     "text": [
      "WARNING:root:Using default n_window=10. Set this parameter based on your data.\n",
      "WARNING:root:Consider using segment_long for longer sentences.\n",
      "WARNING:root:Consider using segment_long for longer sentences.\n",
      "WARNING:root:Consider using segment_long for longer sentences.\n",
      "WARNING:root:Consider using segment_long for longer sentences.\n"
     ]
    },
    {
     "name": "stdout",
     "output_type": "stream",
     "text": [
      "\n",
      "==============================================================================================================\n",
      "NOTE: There are multiple checkpoints present for this language.\n",
      "['C:\\\\Users\\\\user\\\\.DeepSegment_en\\\\checkpoint_finetuned_model_name']\n",
      "Default checkpoint is currently being used.\n",
      "To use a different checkpoint, use DeepSegment(\"en\", checkpoint_name=name_of_the_checkpoint)\n",
      "==============================================================================================================\n",
      "\n"
     ]
    },
    {
     "name": "stderr",
     "output_type": "stream",
     "text": [
      "WARNING:root:Using default n_window=10. Set this parameter based on your data.\n",
      "WARNING:root:Consider using segment_long for longer sentences.\n",
      "WARNING:root:Consider using segment_long for longer sentences.\n",
      "WARNING:root:Consider using segment_long for longer sentences.\n",
      "WARNING:root:Consider using segment_long for longer sentences.\n",
      "WARNING:root:Consider using segment_long for longer sentences.\n",
      "WARNING:root:Consider using segment_long for longer sentences.\n",
      "WARNING:root:Consider using segment_long for longer sentences.\n"
     ]
    },
    {
     "name": "stdout",
     "output_type": "stream",
     "text": [
      "\n",
      "==============================================================================================================\n",
      "NOTE: There are multiple checkpoints present for this language.\n",
      "['C:\\\\Users\\\\user\\\\.DeepSegment_en\\\\checkpoint_finetuned_model_name']\n",
      "Default checkpoint is currently being used.\n",
      "To use a different checkpoint, use DeepSegment(\"en\", checkpoint_name=name_of_the_checkpoint)\n",
      "==============================================================================================================\n",
      "\n"
     ]
    },
    {
     "name": "stderr",
     "output_type": "stream",
     "text": [
      "WARNING:root:Using default n_window=10. Set this parameter based on your data.\n"
     ]
    },
    {
     "name": "stdout",
     "output_type": "stream",
     "text": [
      "\n",
      "==============================================================================================================\n",
      "NOTE: There are multiple checkpoints present for this language.\n",
      "['C:\\\\Users\\\\user\\\\.DeepSegment_en\\\\checkpoint_finetuned_model_name']\n",
      "Default checkpoint is currently being used.\n",
      "To use a different checkpoint, use DeepSegment(\"en\", checkpoint_name=name_of_the_checkpoint)\n",
      "==============================================================================================================\n",
      "\n"
     ]
    },
    {
     "name": "stderr",
     "output_type": "stream",
     "text": [
      "WARNING:root:Using default n_window=10. Set this parameter based on your data.\n",
      "WARNING:root:Consider using segment_long for longer sentences.\n",
      "WARNING:root:Consider using segment_long for longer sentences.\n",
      "WARNING:root:Consider using segment_long for longer sentences.\n",
      "WARNING:root:Consider using segment_long for longer sentences.\n",
      "WARNING:root:Consider using segment_long for longer sentences.\n",
      "WARNING:root:Consider using segment_long for longer sentences.\n",
      "WARNING:root:Consider using segment_long for longer sentences.\n",
      "WARNING:root:Consider using segment_long for longer sentences.\n",
      "WARNING:root:Consider using segment_long for longer sentences.\n"
     ]
    },
    {
     "name": "stdout",
     "output_type": "stream",
     "text": [
      "\n",
      "==============================================================================================================\n",
      "NOTE: There are multiple checkpoints present for this language.\n",
      "['C:\\\\Users\\\\user\\\\.DeepSegment_en\\\\checkpoint_finetuned_model_name']\n",
      "Default checkpoint is currently being used.\n",
      "To use a different checkpoint, use DeepSegment(\"en\", checkpoint_name=name_of_the_checkpoint)\n",
      "==============================================================================================================\n",
      "\n"
     ]
    },
    {
     "name": "stderr",
     "output_type": "stream",
     "text": [
      "WARNING:root:Using default n_window=10. Set this parameter based on your data.\n",
      "WARNING:root:Consider using segment_long for longer sentences.\n",
      "WARNING:root:Consider using segment_long for longer sentences.\n",
      "WARNING:root:Consider using segment_long for longer sentences.\n"
     ]
    },
    {
     "name": "stdout",
     "output_type": "stream",
     "text": [
      "\n",
      "==============================================================================================================\n",
      "NOTE: There are multiple checkpoints present for this language.\n",
      "['C:\\\\Users\\\\user\\\\.DeepSegment_en\\\\checkpoint_finetuned_model_name']\n",
      "Default checkpoint is currently being used.\n",
      "To use a different checkpoint, use DeepSegment(\"en\", checkpoint_name=name_of_the_checkpoint)\n",
      "==============================================================================================================\n",
      "\n"
     ]
    },
    {
     "name": "stderr",
     "output_type": "stream",
     "text": [
      "WARNING:root:Using default n_window=10. Set this parameter based on your data.\n",
      "WARNING:root:Consider using segment_long for longer sentences.\n",
      "WARNING:root:Consider using segment_long for longer sentences.\n",
      "WARNING:root:Consider using segment_long for longer sentences.\n",
      "WARNING:root:Consider using segment_long for longer sentences.\n",
      "WARNING:root:Consider using segment_long for longer sentences.\n"
     ]
    },
    {
     "name": "stdout",
     "output_type": "stream",
     "text": [
      "\n",
      "==============================================================================================================\n",
      "NOTE: There are multiple checkpoints present for this language.\n",
      "['C:\\\\Users\\\\user\\\\.DeepSegment_en\\\\checkpoint_finetuned_model_name']\n",
      "Default checkpoint is currently being used.\n",
      "To use a different checkpoint, use DeepSegment(\"en\", checkpoint_name=name_of_the_checkpoint)\n",
      "==============================================================================================================\n",
      "\n"
     ]
    },
    {
     "name": "stderr",
     "output_type": "stream",
     "text": [
      "WARNING:root:Using default n_window=10. Set this parameter based on your data.\n"
     ]
    },
    {
     "name": "stdout",
     "output_type": "stream",
     "text": [
      "\n",
      "==============================================================================================================\n",
      "NOTE: There are multiple checkpoints present for this language.\n",
      "['C:\\\\Users\\\\user\\\\.DeepSegment_en\\\\checkpoint_finetuned_model_name']\n",
      "Default checkpoint is currently being used.\n",
      "To use a different checkpoint, use DeepSegment(\"en\", checkpoint_name=name_of_the_checkpoint)\n",
      "==============================================================================================================\n",
      "\n"
     ]
    },
    {
     "name": "stderr",
     "output_type": "stream",
     "text": [
      "WARNING:root:Using default n_window=10. Set this parameter based on your data.\n",
      "WARNING:root:Consider using segment_long for longer sentences.\n",
      "WARNING:root:Consider using segment_long for longer sentences.\n",
      "WARNING:root:Consider using segment_long for longer sentences.\n",
      "WARNING:root:Consider using segment_long for longer sentences.\n",
      "WARNING:root:Consider using segment_long for longer sentences.\n"
     ]
    },
    {
     "name": "stdout",
     "output_type": "stream",
     "text": [
      "\n",
      "==============================================================================================================\n",
      "NOTE: There are multiple checkpoints present for this language.\n",
      "['C:\\\\Users\\\\user\\\\.DeepSegment_en\\\\checkpoint_finetuned_model_name']\n",
      "Default checkpoint is currently being used.\n",
      "To use a different checkpoint, use DeepSegment(\"en\", checkpoint_name=name_of_the_checkpoint)\n",
      "==============================================================================================================\n",
      "\n"
     ]
    },
    {
     "name": "stderr",
     "output_type": "stream",
     "text": [
      "WARNING:root:Using default n_window=10. Set this parameter based on your data.\n",
      "WARNING:root:Consider using segment_long for longer sentences.\n",
      "WARNING:root:Consider using segment_long for longer sentences.\n",
      "WARNING:root:Consider using segment_long for longer sentences.\n",
      "WARNING:root:Consider using segment_long for longer sentences.\n",
      "WARNING:root:Consider using segment_long for longer sentences.\n",
      "WARNING:root:Consider using segment_long for longer sentences.\n",
      "WARNING:root:Consider using segment_long for longer sentences.\n"
     ]
    },
    {
     "name": "stdout",
     "output_type": "stream",
     "text": [
      "\n",
      "==============================================================================================================\n",
      "NOTE: There are multiple checkpoints present for this language.\n",
      "['C:\\\\Users\\\\user\\\\.DeepSegment_en\\\\checkpoint_finetuned_model_name']\n",
      "Default checkpoint is currently being used.\n",
      "To use a different checkpoint, use DeepSegment(\"en\", checkpoint_name=name_of_the_checkpoint)\n",
      "==============================================================================================================\n",
      "\n"
     ]
    },
    {
     "name": "stderr",
     "output_type": "stream",
     "text": [
      "WARNING:root:Using default n_window=10. Set this parameter based on your data.\n",
      "WARNING:root:Consider using segment_long for longer sentences.\n",
      "WARNING:root:Consider using segment_long for longer sentences.\n",
      "WARNING:root:Consider using segment_long for longer sentences.\n",
      "WARNING:root:Consider using segment_long for longer sentences.\n",
      "WARNING:root:Consider using segment_long for longer sentences.\n",
      "WARNING:root:Consider using segment_long for longer sentences.\n",
      "WARNING:root:Consider using segment_long for longer sentences.\n"
     ]
    },
    {
     "name": "stdout",
     "output_type": "stream",
     "text": [
      "\n",
      "==============================================================================================================\n",
      "NOTE: There are multiple checkpoints present for this language.\n",
      "['C:\\\\Users\\\\user\\\\.DeepSegment_en\\\\checkpoint_finetuned_model_name']\n",
      "Default checkpoint is currently being used.\n",
      "To use a different checkpoint, use DeepSegment(\"en\", checkpoint_name=name_of_the_checkpoint)\n",
      "==============================================================================================================\n",
      "\n"
     ]
    },
    {
     "name": "stderr",
     "output_type": "stream",
     "text": [
      "WARNING:root:Using default n_window=10. Set this parameter based on your data.\n",
      "WARNING:root:Consider using segment_long for longer sentences.\n",
      "WARNING:root:Consider using segment_long for longer sentences.\n",
      "WARNING:root:Consider using segment_long for longer sentences.\n",
      "WARNING:root:Consider using segment_long for longer sentences.\n",
      "WARNING:root:Consider using segment_long for longer sentences.\n",
      "WARNING:root:Consider using segment_long for longer sentences.\n",
      "WARNING:root:Consider using segment_long for longer sentences.\n",
      "WARNING:root:Consider using segment_long for longer sentences.\n"
     ]
    },
    {
     "name": "stdout",
     "output_type": "stream",
     "text": [
      "\n",
      "==============================================================================================================\n",
      "NOTE: There are multiple checkpoints present for this language.\n",
      "['C:\\\\Users\\\\user\\\\.DeepSegment_en\\\\checkpoint_finetuned_model_name']\n",
      "Default checkpoint is currently being used.\n",
      "To use a different checkpoint, use DeepSegment(\"en\", checkpoint_name=name_of_the_checkpoint)\n",
      "==============================================================================================================\n",
      "\n"
     ]
    },
    {
     "name": "stderr",
     "output_type": "stream",
     "text": [
      "WARNING:root:Using default n_window=10. Set this parameter based on your data.\n",
      "WARNING:root:Consider using segment_long for longer sentences.\n",
      "WARNING:root:Consider using segment_long for longer sentences.\n",
      "WARNING:root:Consider using segment_long for longer sentences.\n",
      "WARNING:root:Consider using segment_long for longer sentences.\n",
      "WARNING:root:Consider using segment_long for longer sentences.\n"
     ]
    },
    {
     "name": "stdout",
     "output_type": "stream",
     "text": [
      "\n",
      "==============================================================================================================\n",
      "NOTE: There are multiple checkpoints present for this language.\n",
      "['C:\\\\Users\\\\user\\\\.DeepSegment_en\\\\checkpoint_finetuned_model_name']\n",
      "Default checkpoint is currently being used.\n",
      "To use a different checkpoint, use DeepSegment(\"en\", checkpoint_name=name_of_the_checkpoint)\n",
      "==============================================================================================================\n",
      "\n"
     ]
    },
    {
     "name": "stderr",
     "output_type": "stream",
     "text": [
      "WARNING:root:Using default n_window=10. Set this parameter based on your data.\n",
      "WARNING:root:Consider using segment_long for longer sentences.\n",
      "WARNING:root:Consider using segment_long for longer sentences.\n",
      "WARNING:root:Consider using segment_long for longer sentences.\n",
      "WARNING:root:Consider using segment_long for longer sentences.\n",
      "WARNING:root:Consider using segment_long for longer sentences.\n"
     ]
    },
    {
     "name": "stdout",
     "output_type": "stream",
     "text": [
      "\n",
      "==============================================================================================================\n",
      "NOTE: There are multiple checkpoints present for this language.\n",
      "['C:\\\\Users\\\\user\\\\.DeepSegment_en\\\\checkpoint_finetuned_model_name']\n",
      "Default checkpoint is currently being used.\n",
      "To use a different checkpoint, use DeepSegment(\"en\", checkpoint_name=name_of_the_checkpoint)\n",
      "==============================================================================================================\n",
      "\n"
     ]
    },
    {
     "name": "stderr",
     "output_type": "stream",
     "text": [
      "WARNING:root:Using default n_window=10. Set this parameter based on your data.\n",
      "WARNING:root:Consider using segment_long for longer sentences.\n",
      "WARNING:root:Consider using segment_long for longer sentences.\n",
      "WARNING:root:Consider using segment_long for longer sentences.\n",
      "WARNING:root:Consider using segment_long for longer sentences.\n",
      "WARNING:root:Consider using segment_long for longer sentences.\n",
      "WARNING:root:Consider using segment_long for longer sentences.\n"
     ]
    },
    {
     "name": "stdout",
     "output_type": "stream",
     "text": [
      "\n",
      "==============================================================================================================\n",
      "NOTE: There are multiple checkpoints present for this language.\n",
      "['C:\\\\Users\\\\user\\\\.DeepSegment_en\\\\checkpoint_finetuned_model_name']\n",
      "Default checkpoint is currently being used.\n",
      "To use a different checkpoint, use DeepSegment(\"en\", checkpoint_name=name_of_the_checkpoint)\n",
      "==============================================================================================================\n",
      "\n"
     ]
    },
    {
     "name": "stderr",
     "output_type": "stream",
     "text": [
      "WARNING:root:Using default n_window=10. Set this parameter based on your data.\n",
      "WARNING:root:Consider using segment_long for longer sentences.\n",
      "WARNING:root:Consider using segment_long for longer sentences.\n",
      "WARNING:root:Consider using segment_long for longer sentences.\n",
      "WARNING:root:Consider using segment_long for longer sentences.\n",
      "WARNING:root:Consider using segment_long for longer sentences.\n",
      "WARNING:root:Consider using segment_long for longer sentences.\n",
      "WARNING:root:Consider using segment_long for longer sentences.\n",
      "WARNING:root:Consider using segment_long for longer sentences.\n"
     ]
    },
    {
     "name": "stdout",
     "output_type": "stream",
     "text": [
      "\n",
      "==============================================================================================================\n",
      "NOTE: There are multiple checkpoints present for this language.\n",
      "['C:\\\\Users\\\\user\\\\.DeepSegment_en\\\\checkpoint_finetuned_model_name']\n",
      "Default checkpoint is currently being used.\n",
      "To use a different checkpoint, use DeepSegment(\"en\", checkpoint_name=name_of_the_checkpoint)\n",
      "==============================================================================================================\n",
      "\n"
     ]
    },
    {
     "name": "stderr",
     "output_type": "stream",
     "text": [
      "WARNING:root:Using default n_window=10. Set this parameter based on your data.\n",
      "WARNING:root:Consider using segment_long for longer sentences.\n",
      "WARNING:root:Consider using segment_long for longer sentences.\n",
      "WARNING:root:Consider using segment_long for longer sentences.\n",
      "WARNING:root:Consider using segment_long for longer sentences.\n",
      "WARNING:root:Consider using segment_long for longer sentences.\n",
      "WARNING:root:Consider using segment_long for longer sentences.\n"
     ]
    },
    {
     "name": "stdout",
     "output_type": "stream",
     "text": [
      "\n",
      "==============================================================================================================\n",
      "NOTE: There are multiple checkpoints present for this language.\n",
      "['C:\\\\Users\\\\user\\\\.DeepSegment_en\\\\checkpoint_finetuned_model_name']\n",
      "Default checkpoint is currently being used.\n",
      "To use a different checkpoint, use DeepSegment(\"en\", checkpoint_name=name_of_the_checkpoint)\n",
      "==============================================================================================================\n",
      "\n"
     ]
    },
    {
     "name": "stderr",
     "output_type": "stream",
     "text": [
      "WARNING:root:Using default n_window=10. Set this parameter based on your data.\n",
      "WARNING:root:Consider using segment_long for longer sentences.\n",
      "WARNING:root:Consider using segment_long for longer sentences.\n",
      "WARNING:root:Consider using segment_long for longer sentences.\n",
      "WARNING:root:Consider using segment_long for longer sentences.\n",
      "WARNING:root:Consider using segment_long for longer sentences.\n",
      "WARNING:root:Consider using segment_long for longer sentences.\n",
      "WARNING:root:Consider using segment_long for longer sentences.\n",
      "WARNING:root:Consider using segment_long for longer sentences.\n"
     ]
    },
    {
     "name": "stdout",
     "output_type": "stream",
     "text": [
      "\n",
      "==============================================================================================================\n",
      "NOTE: There are multiple checkpoints present for this language.\n",
      "['C:\\\\Users\\\\user\\\\.DeepSegment_en\\\\checkpoint_finetuned_model_name']\n",
      "Default checkpoint is currently being used.\n",
      "To use a different checkpoint, use DeepSegment(\"en\", checkpoint_name=name_of_the_checkpoint)\n",
      "==============================================================================================================\n",
      "\n"
     ]
    },
    {
     "name": "stderr",
     "output_type": "stream",
     "text": [
      "WARNING:root:Using default n_window=10. Set this parameter based on your data.\n",
      "WARNING:root:Consider using segment_long for longer sentences.\n",
      "WARNING:root:Consider using segment_long for longer sentences.\n",
      "WARNING:root:Consider using segment_long for longer sentences.\n",
      "WARNING:root:Consider using segment_long for longer sentences.\n",
      "WARNING:root:Consider using segment_long for longer sentences.\n"
     ]
    },
    {
     "name": "stdout",
     "output_type": "stream",
     "text": [
      "\n",
      "==============================================================================================================\n",
      "NOTE: There are multiple checkpoints present for this language.\n",
      "['C:\\\\Users\\\\user\\\\.DeepSegment_en\\\\checkpoint_finetuned_model_name']\n",
      "Default checkpoint is currently being used.\n",
      "To use a different checkpoint, use DeepSegment(\"en\", checkpoint_name=name_of_the_checkpoint)\n",
      "==============================================================================================================\n",
      "\n"
     ]
    },
    {
     "name": "stderr",
     "output_type": "stream",
     "text": [
      "WARNING:root:Using default n_window=10. Set this parameter based on your data.\n",
      "WARNING:root:Consider using segment_long for longer sentences.\n",
      "WARNING:root:Consider using segment_long for longer sentences.\n",
      "WARNING:root:Consider using segment_long for longer sentences.\n",
      "WARNING:root:Consider using segment_long for longer sentences.\n",
      "WARNING:root:Consider using segment_long for longer sentences.\n"
     ]
    },
    {
     "name": "stdout",
     "output_type": "stream",
     "text": [
      "\n",
      "==============================================================================================================\n",
      "NOTE: There are multiple checkpoints present for this language.\n",
      "['C:\\\\Users\\\\user\\\\.DeepSegment_en\\\\checkpoint_finetuned_model_name']\n",
      "Default checkpoint is currently being used.\n",
      "To use a different checkpoint, use DeepSegment(\"en\", checkpoint_name=name_of_the_checkpoint)\n",
      "==============================================================================================================\n",
      "\n"
     ]
    },
    {
     "name": "stderr",
     "output_type": "stream",
     "text": [
      "WARNING:root:Using default n_window=10. Set this parameter based on your data.\n",
      "WARNING:root:Consider using segment_long for longer sentences.\n",
      "WARNING:root:Consider using segment_long for longer sentences.\n",
      "WARNING:root:Consider using segment_long for longer sentences.\n"
     ]
    },
    {
     "name": "stdout",
     "output_type": "stream",
     "text": [
      "\n",
      "==============================================================================================================\n",
      "NOTE: There are multiple checkpoints present for this language.\n",
      "['C:\\\\Users\\\\user\\\\.DeepSegment_en\\\\checkpoint_finetuned_model_name']\n",
      "Default checkpoint is currently being used.\n",
      "To use a different checkpoint, use DeepSegment(\"en\", checkpoint_name=name_of_the_checkpoint)\n",
      "==============================================================================================================\n",
      "\n"
     ]
    },
    {
     "name": "stderr",
     "output_type": "stream",
     "text": [
      "WARNING:root:Using default n_window=10. Set this parameter based on your data.\n",
      "WARNING:root:Consider using segment_long for longer sentences.\n",
      "WARNING:root:Consider using segment_long for longer sentences.\n",
      "WARNING:root:Consider using segment_long for longer sentences.\n"
     ]
    },
    {
     "name": "stdout",
     "output_type": "stream",
     "text": [
      "\n",
      "==============================================================================================================\n",
      "NOTE: There are multiple checkpoints present for this language.\n",
      "['C:\\\\Users\\\\user\\\\.DeepSegment_en\\\\checkpoint_finetuned_model_name']\n",
      "Default checkpoint is currently being used.\n",
      "To use a different checkpoint, use DeepSegment(\"en\", checkpoint_name=name_of_the_checkpoint)\n",
      "==============================================================================================================\n",
      "\n"
     ]
    },
    {
     "name": "stderr",
     "output_type": "stream",
     "text": [
      "WARNING:root:Using default n_window=10. Set this parameter based on your data.\n",
      "WARNING:root:Consider using segment_long for longer sentences.\n",
      "WARNING:root:Consider using segment_long for longer sentences.\n",
      "WARNING:root:Consider using segment_long for longer sentences.\n"
     ]
    },
    {
     "name": "stdout",
     "output_type": "stream",
     "text": [
      "\n",
      "==============================================================================================================\n",
      "NOTE: There are multiple checkpoints present for this language.\n",
      "['C:\\\\Users\\\\user\\\\.DeepSegment_en\\\\checkpoint_finetuned_model_name']\n",
      "Default checkpoint is currently being used.\n",
      "To use a different checkpoint, use DeepSegment(\"en\", checkpoint_name=name_of_the_checkpoint)\n",
      "==============================================================================================================\n",
      "\n"
     ]
    },
    {
     "name": "stderr",
     "output_type": "stream",
     "text": [
      "WARNING:root:Using default n_window=10. Set this parameter based on your data.\n",
      "WARNING:root:Consider using segment_long for longer sentences.\n",
      "WARNING:root:Consider using segment_long for longer sentences.\n",
      "WARNING:root:Consider using segment_long for longer sentences.\n",
      "WARNING:root:Consider using segment_long for longer sentences.\n"
     ]
    },
    {
     "name": "stdout",
     "output_type": "stream",
     "text": [
      "\n",
      "==============================================================================================================\n",
      "NOTE: There are multiple checkpoints present for this language.\n",
      "['C:\\\\Users\\\\user\\\\.DeepSegment_en\\\\checkpoint_finetuned_model_name']\n",
      "Default checkpoint is currently being used.\n",
      "To use a different checkpoint, use DeepSegment(\"en\", checkpoint_name=name_of_the_checkpoint)\n",
      "==============================================================================================================\n",
      "\n"
     ]
    },
    {
     "name": "stderr",
     "output_type": "stream",
     "text": [
      "WARNING:root:Using default n_window=10. Set this parameter based on your data.\n",
      "WARNING:root:Consider using segment_long for longer sentences.\n",
      "WARNING:root:Consider using segment_long for longer sentences.\n",
      "WARNING:root:Consider using segment_long for longer sentences.\n",
      "WARNING:root:Consider using segment_long for longer sentences.\n",
      "WARNING:root:Consider using segment_long for longer sentences.\n"
     ]
    },
    {
     "name": "stdout",
     "output_type": "stream",
     "text": [
      "\n",
      "==============================================================================================================\n",
      "NOTE: There are multiple checkpoints present for this language.\n",
      "['C:\\\\Users\\\\user\\\\.DeepSegment_en\\\\checkpoint_finetuned_model_name']\n",
      "Default checkpoint is currently being used.\n",
      "To use a different checkpoint, use DeepSegment(\"en\", checkpoint_name=name_of_the_checkpoint)\n",
      "==============================================================================================================\n",
      "\n"
     ]
    },
    {
     "name": "stderr",
     "output_type": "stream",
     "text": [
      "WARNING:root:Using default n_window=10. Set this parameter based on your data.\n",
      "WARNING:root:Consider using segment_long for longer sentences.\n",
      "WARNING:root:Consider using segment_long for longer sentences.\n",
      "WARNING:root:Consider using segment_long for longer sentences.\n",
      "WARNING:root:Consider using segment_long for longer sentences.\n",
      "WARNING:root:Consider using segment_long for longer sentences.\n",
      "WARNING:root:Consider using segment_long for longer sentences.\n",
      "WARNING:root:Consider using segment_long for longer sentences.\n"
     ]
    },
    {
     "name": "stdout",
     "output_type": "stream",
     "text": [
      "\n",
      "==============================================================================================================\n",
      "NOTE: There are multiple checkpoints present for this language.\n",
      "['C:\\\\Users\\\\user\\\\.DeepSegment_en\\\\checkpoint_finetuned_model_name']\n",
      "Default checkpoint is currently being used.\n",
      "To use a different checkpoint, use DeepSegment(\"en\", checkpoint_name=name_of_the_checkpoint)\n",
      "==============================================================================================================\n",
      "\n"
     ]
    },
    {
     "name": "stderr",
     "output_type": "stream",
     "text": [
      "WARNING:root:Using default n_window=10. Set this parameter based on your data.\n",
      "WARNING:root:Consider using segment_long for longer sentences.\n",
      "WARNING:root:Consider using segment_long for longer sentences.\n",
      "WARNING:root:Consider using segment_long for longer sentences.\n",
      "WARNING:root:Consider using segment_long for longer sentences.\n",
      "WARNING:root:Consider using segment_long for longer sentences.\n"
     ]
    },
    {
     "name": "stdout",
     "output_type": "stream",
     "text": [
      "\n",
      "==============================================================================================================\n",
      "NOTE: There are multiple checkpoints present for this language.\n",
      "['C:\\\\Users\\\\user\\\\.DeepSegment_en\\\\checkpoint_finetuned_model_name']\n",
      "Default checkpoint is currently being used.\n",
      "To use a different checkpoint, use DeepSegment(\"en\", checkpoint_name=name_of_the_checkpoint)\n",
      "==============================================================================================================\n",
      "\n"
     ]
    },
    {
     "name": "stderr",
     "output_type": "stream",
     "text": [
      "WARNING:root:Using default n_window=10. Set this parameter based on your data.\n",
      "WARNING:root:Consider using segment_long for longer sentences.\n",
      "WARNING:root:Consider using segment_long for longer sentences.\n",
      "WARNING:root:Consider using segment_long for longer sentences.\n",
      "WARNING:root:Consider using segment_long for longer sentences.\n",
      "WARNING:root:Consider using segment_long for longer sentences.\n",
      "WARNING:root:Consider using segment_long for longer sentences.\n",
      "WARNING:root:Consider using segment_long for longer sentences.\n"
     ]
    },
    {
     "name": "stdout",
     "output_type": "stream",
     "text": [
      "\n",
      "==============================================================================================================\n",
      "NOTE: There are multiple checkpoints present for this language.\n",
      "['C:\\\\Users\\\\user\\\\.DeepSegment_en\\\\checkpoint_finetuned_model_name']\n",
      "Default checkpoint is currently being used.\n",
      "To use a different checkpoint, use DeepSegment(\"en\", checkpoint_name=name_of_the_checkpoint)\n",
      "==============================================================================================================\n",
      "\n"
     ]
    },
    {
     "name": "stderr",
     "output_type": "stream",
     "text": [
      "WARNING:root:Using default n_window=10. Set this parameter based on your data.\n",
      "WARNING:root:Consider using segment_long for longer sentences.\n",
      "WARNING:root:Consider using segment_long for longer sentences.\n",
      "WARNING:root:Consider using segment_long for longer sentences.\n",
      "WARNING:root:Consider using segment_long for longer sentences.\n"
     ]
    },
    {
     "name": "stdout",
     "output_type": "stream",
     "text": [
      "\n",
      "==============================================================================================================\n",
      "NOTE: There are multiple checkpoints present for this language.\n",
      "['C:\\\\Users\\\\user\\\\.DeepSegment_en\\\\checkpoint_finetuned_model_name']\n",
      "Default checkpoint is currently being used.\n",
      "To use a different checkpoint, use DeepSegment(\"en\", checkpoint_name=name_of_the_checkpoint)\n",
      "==============================================================================================================\n",
      "\n"
     ]
    },
    {
     "name": "stderr",
     "output_type": "stream",
     "text": [
      "WARNING:root:Using default n_window=10. Set this parameter based on your data.\n",
      "WARNING:root:Consider using segment_long for longer sentences.\n",
      "WARNING:root:Consider using segment_long for longer sentences.\n",
      "WARNING:root:Consider using segment_long for longer sentences.\n",
      "WARNING:root:Consider using segment_long for longer sentences.\n",
      "WARNING:root:Consider using segment_long for longer sentences.\n",
      "WARNING:root:Consider using segment_long for longer sentences.\n",
      "WARNING:root:Consider using segment_long for longer sentences.\n"
     ]
    },
    {
     "name": "stdout",
     "output_type": "stream",
     "text": [
      "\n",
      "==============================================================================================================\n",
      "NOTE: There are multiple checkpoints present for this language.\n",
      "['C:\\\\Users\\\\user\\\\.DeepSegment_en\\\\checkpoint_finetuned_model_name']\n",
      "Default checkpoint is currently being used.\n",
      "To use a different checkpoint, use DeepSegment(\"en\", checkpoint_name=name_of_the_checkpoint)\n",
      "==============================================================================================================\n",
      "\n"
     ]
    },
    {
     "name": "stderr",
     "output_type": "stream",
     "text": [
      "WARNING:root:Using default n_window=10. Set this parameter based on your data.\n",
      "WARNING:root:Consider using segment_long for longer sentences.\n",
      "WARNING:root:Consider using segment_long for longer sentences.\n",
      "WARNING:root:Consider using segment_long for longer sentences.\n",
      "WARNING:root:Consider using segment_long for longer sentences.\n",
      "WARNING:root:Consider using segment_long for longer sentences.\n"
     ]
    },
    {
     "name": "stdout",
     "output_type": "stream",
     "text": [
      "\n",
      "==============================================================================================================\n",
      "NOTE: There are multiple checkpoints present for this language.\n",
      "['C:\\\\Users\\\\user\\\\.DeepSegment_en\\\\checkpoint_finetuned_model_name']\n",
      "Default checkpoint is currently being used.\n",
      "To use a different checkpoint, use DeepSegment(\"en\", checkpoint_name=name_of_the_checkpoint)\n",
      "==============================================================================================================\n",
      "\n"
     ]
    },
    {
     "name": "stderr",
     "output_type": "stream",
     "text": [
      "WARNING:root:Using default n_window=10. Set this parameter based on your data.\n",
      "WARNING:root:Consider using segment_long for longer sentences.\n",
      "WARNING:root:Consider using segment_long for longer sentences.\n",
      "WARNING:root:Consider using segment_long for longer sentences.\n",
      "WARNING:root:Consider using segment_long for longer sentences.\n",
      "WARNING:root:Consider using segment_long for longer sentences.\n",
      "WARNING:root:Consider using segment_long for longer sentences.\n",
      "WARNING:root:Consider using segment_long for longer sentences.\n",
      "WARNING:root:Consider using segment_long for longer sentences.\n"
     ]
    },
    {
     "name": "stdout",
     "output_type": "stream",
     "text": [
      "\n",
      "==============================================================================================================\n",
      "NOTE: There are multiple checkpoints present for this language.\n",
      "['C:\\\\Users\\\\user\\\\.DeepSegment_en\\\\checkpoint_finetuned_model_name']\n",
      "Default checkpoint is currently being used.\n",
      "To use a different checkpoint, use DeepSegment(\"en\", checkpoint_name=name_of_the_checkpoint)\n",
      "==============================================================================================================\n",
      "\n"
     ]
    },
    {
     "name": "stderr",
     "output_type": "stream",
     "text": [
      "WARNING:root:Using default n_window=10. Set this parameter based on your data.\n",
      "WARNING:root:Consider using segment_long for longer sentences.\n",
      "WARNING:root:Consider using segment_long for longer sentences.\n",
      "WARNING:root:Consider using segment_long for longer sentences.\n"
     ]
    },
    {
     "name": "stdout",
     "output_type": "stream",
     "text": [
      "\n",
      "==============================================================================================================\n",
      "NOTE: There are multiple checkpoints present for this language.\n",
      "['C:\\\\Users\\\\user\\\\.DeepSegment_en\\\\checkpoint_finetuned_model_name']\n",
      "Default checkpoint is currently being used.\n",
      "To use a different checkpoint, use DeepSegment(\"en\", checkpoint_name=name_of_the_checkpoint)\n",
      "==============================================================================================================\n",
      "\n"
     ]
    },
    {
     "name": "stderr",
     "output_type": "stream",
     "text": [
      "WARNING:root:Using default n_window=10. Set this parameter based on your data.\n",
      "WARNING:root:Consider using segment_long for longer sentences.\n",
      "WARNING:root:Consider using segment_long for longer sentences.\n",
      "WARNING:root:Consider using segment_long for longer sentences.\n"
     ]
    },
    {
     "name": "stdout",
     "output_type": "stream",
     "text": [
      "\n",
      "==============================================================================================================\n",
      "NOTE: There are multiple checkpoints present for this language.\n",
      "['C:\\\\Users\\\\user\\\\.DeepSegment_en\\\\checkpoint_finetuned_model_name']\n",
      "Default checkpoint is currently being used.\n",
      "To use a different checkpoint, use DeepSegment(\"en\", checkpoint_name=name_of_the_checkpoint)\n",
      "==============================================================================================================\n",
      "\n"
     ]
    },
    {
     "name": "stderr",
     "output_type": "stream",
     "text": [
      "WARNING:root:Using default n_window=10. Set this parameter based on your data.\n",
      "WARNING:root:Consider using segment_long for longer sentences.\n",
      "WARNING:root:Consider using segment_long for longer sentences.\n",
      "WARNING:root:Consider using segment_long for longer sentences.\n",
      "WARNING:root:Consider using segment_long for longer sentences.\n",
      "WARNING:root:Consider using segment_long for longer sentences.\n"
     ]
    },
    {
     "name": "stdout",
     "output_type": "stream",
     "text": [
      "\n",
      "==============================================================================================================\n",
      "NOTE: There are multiple checkpoints present for this language.\n",
      "['C:\\\\Users\\\\user\\\\.DeepSegment_en\\\\checkpoint_finetuned_model_name']\n",
      "Default checkpoint is currently being used.\n",
      "To use a different checkpoint, use DeepSegment(\"en\", checkpoint_name=name_of_the_checkpoint)\n",
      "==============================================================================================================\n",
      "\n"
     ]
    },
    {
     "name": "stderr",
     "output_type": "stream",
     "text": [
      "WARNING:root:Using default n_window=10. Set this parameter based on your data.\n",
      "WARNING:root:Consider using segment_long for longer sentences.\n",
      "WARNING:root:Consider using segment_long for longer sentences.\n",
      "WARNING:root:Consider using segment_long for longer sentences.\n"
     ]
    },
    {
     "name": "stdout",
     "output_type": "stream",
     "text": [
      "\n",
      "==============================================================================================================\n",
      "NOTE: There are multiple checkpoints present for this language.\n",
      "['C:\\\\Users\\\\user\\\\.DeepSegment_en\\\\checkpoint_finetuned_model_name']\n",
      "Default checkpoint is currently being used.\n",
      "To use a different checkpoint, use DeepSegment(\"en\", checkpoint_name=name_of_the_checkpoint)\n",
      "==============================================================================================================\n",
      "\n"
     ]
    },
    {
     "name": "stderr",
     "output_type": "stream",
     "text": [
      "WARNING:root:Using default n_window=10. Set this parameter based on your data.\n",
      "WARNING:root:Consider using segment_long for longer sentences.\n",
      "WARNING:root:Consider using segment_long for longer sentences.\n",
      "WARNING:root:Consider using segment_long for longer sentences.\n",
      "WARNING:root:Consider using segment_long for longer sentences.\n",
      "WARNING:root:Consider using segment_long for longer sentences.\n",
      "WARNING:root:Consider using segment_long for longer sentences.\n",
      "WARNING:root:Consider using segment_long for longer sentences.\n"
     ]
    },
    {
     "name": "stdout",
     "output_type": "stream",
     "text": [
      "\n",
      "==============================================================================================================\n",
      "NOTE: There are multiple checkpoints present for this language.\n",
      "['C:\\\\Users\\\\user\\\\.DeepSegment_en\\\\checkpoint_finetuned_model_name']\n",
      "Default checkpoint is currently being used.\n",
      "To use a different checkpoint, use DeepSegment(\"en\", checkpoint_name=name_of_the_checkpoint)\n",
      "==============================================================================================================\n",
      "\n"
     ]
    },
    {
     "name": "stderr",
     "output_type": "stream",
     "text": [
      "WARNING:root:Using default n_window=10. Set this parameter based on your data.\n",
      "WARNING:root:Consider using segment_long for longer sentences.\n",
      "WARNING:root:Consider using segment_long for longer sentences.\n",
      "WARNING:root:Consider using segment_long for longer sentences.\n",
      "WARNING:root:Consider using segment_long for longer sentences.\n",
      "WARNING:root:Consider using segment_long for longer sentences.\n",
      "WARNING:root:Consider using segment_long for longer sentences.\n",
      "WARNING:root:Consider using segment_long for longer sentences.\n",
      "WARNING:root:Consider using segment_long for longer sentences.\n"
     ]
    },
    {
     "name": "stdout",
     "output_type": "stream",
     "text": [
      "\n",
      "==============================================================================================================\n",
      "NOTE: There are multiple checkpoints present for this language.\n",
      "['C:\\\\Users\\\\user\\\\.DeepSegment_en\\\\checkpoint_finetuned_model_name']\n",
      "Default checkpoint is currently being used.\n",
      "To use a different checkpoint, use DeepSegment(\"en\", checkpoint_name=name_of_the_checkpoint)\n",
      "==============================================================================================================\n",
      "\n"
     ]
    },
    {
     "name": "stderr",
     "output_type": "stream",
     "text": [
      "WARNING:root:Using default n_window=10. Set this parameter based on your data.\n",
      "WARNING:root:Consider using segment_long for longer sentences.\n",
      "WARNING:root:Consider using segment_long for longer sentences.\n",
      "WARNING:root:Consider using segment_long for longer sentences.\n",
      "WARNING:root:Consider using segment_long for longer sentences.\n"
     ]
    },
    {
     "name": "stdout",
     "output_type": "stream",
     "text": [
      "\n",
      "==============================================================================================================\n",
      "NOTE: There are multiple checkpoints present for this language.\n",
      "['C:\\\\Users\\\\user\\\\.DeepSegment_en\\\\checkpoint_finetuned_model_name']\n",
      "Default checkpoint is currently being used.\n",
      "To use a different checkpoint, use DeepSegment(\"en\", checkpoint_name=name_of_the_checkpoint)\n",
      "==============================================================================================================\n",
      "\n"
     ]
    },
    {
     "name": "stderr",
     "output_type": "stream",
     "text": [
      "WARNING:root:Using default n_window=10. Set this parameter based on your data.\n",
      "WARNING:root:Consider using segment_long for longer sentences.\n",
      "WARNING:root:Consider using segment_long for longer sentences.\n",
      "WARNING:root:Consider using segment_long for longer sentences.\n",
      "WARNING:root:Consider using segment_long for longer sentences.\n"
     ]
    },
    {
     "name": "stdout",
     "output_type": "stream",
     "text": [
      "\n",
      "==============================================================================================================\n",
      "NOTE: There are multiple checkpoints present for this language.\n",
      "['C:\\\\Users\\\\user\\\\.DeepSegment_en\\\\checkpoint_finetuned_model_name']\n",
      "Default checkpoint is currently being used.\n",
      "To use a different checkpoint, use DeepSegment(\"en\", checkpoint_name=name_of_the_checkpoint)\n",
      "==============================================================================================================\n",
      "\n"
     ]
    },
    {
     "name": "stderr",
     "output_type": "stream",
     "text": [
      "WARNING:root:Using default n_window=10. Set this parameter based on your data.\n",
      "WARNING:root:Consider using segment_long for longer sentences.\n",
      "WARNING:root:Consider using segment_long for longer sentences.\n",
      "WARNING:root:Consider using segment_long for longer sentences.\n",
      "WARNING:root:Consider using segment_long for longer sentences.\n",
      "WARNING:root:Consider using segment_long for longer sentences.\n"
     ]
    },
    {
     "name": "stdout",
     "output_type": "stream",
     "text": [
      "\n",
      "==============================================================================================================\n",
      "NOTE: There are multiple checkpoints present for this language.\n",
      "['C:\\\\Users\\\\user\\\\.DeepSegment_en\\\\checkpoint_finetuned_model_name']\n",
      "Default checkpoint is currently being used.\n",
      "To use a different checkpoint, use DeepSegment(\"en\", checkpoint_name=name_of_the_checkpoint)\n",
      "==============================================================================================================\n",
      "\n"
     ]
    },
    {
     "name": "stderr",
     "output_type": "stream",
     "text": [
      "WARNING:root:Using default n_window=10. Set this parameter based on your data.\n",
      "WARNING:root:Consider using segment_long for longer sentences.\n",
      "WARNING:root:Consider using segment_long for longer sentences.\n"
     ]
    },
    {
     "name": "stdout",
     "output_type": "stream",
     "text": [
      "\n",
      "==============================================================================================================\n",
      "NOTE: There are multiple checkpoints present for this language.\n",
      "['C:\\\\Users\\\\user\\\\.DeepSegment_en\\\\checkpoint_finetuned_model_name']\n",
      "Default checkpoint is currently being used.\n",
      "To use a different checkpoint, use DeepSegment(\"en\", checkpoint_name=name_of_the_checkpoint)\n",
      "==============================================================================================================\n",
      "\n"
     ]
    },
    {
     "name": "stderr",
     "output_type": "stream",
     "text": [
      "WARNING:root:Using default n_window=10. Set this parameter based on your data.\n",
      "WARNING:root:Consider using segment_long for longer sentences.\n",
      "WARNING:root:Consider using segment_long for longer sentences.\n",
      "WARNING:root:Consider using segment_long for longer sentences.\n",
      "WARNING:root:Consider using segment_long for longer sentences.\n"
     ]
    },
    {
     "name": "stdout",
     "output_type": "stream",
     "text": [
      "\n",
      "==============================================================================================================\n",
      "NOTE: There are multiple checkpoints present for this language.\n",
      "['C:\\\\Users\\\\user\\\\.DeepSegment_en\\\\checkpoint_finetuned_model_name']\n",
      "Default checkpoint is currently being used.\n",
      "To use a different checkpoint, use DeepSegment(\"en\", checkpoint_name=name_of_the_checkpoint)\n",
      "==============================================================================================================\n",
      "\n"
     ]
    },
    {
     "name": "stderr",
     "output_type": "stream",
     "text": [
      "WARNING:root:Using default n_window=10. Set this parameter based on your data.\n",
      "WARNING:root:Consider using segment_long for longer sentences.\n",
      "WARNING:root:Consider using segment_long for longer sentences.\n",
      "WARNING:root:Consider using segment_long for longer sentences.\n",
      "WARNING:root:Consider using segment_long for longer sentences.\n",
      "WARNING:root:Consider using segment_long for longer sentences.\n",
      "WARNING:root:Consider using segment_long for longer sentences.\n",
      "WARNING:root:Consider using segment_long for longer sentences.\n",
      "WARNING:root:Consider using segment_long for longer sentences.\n"
     ]
    },
    {
     "name": "stdout",
     "output_type": "stream",
     "text": [
      "\n",
      "==============================================================================================================\n",
      "NOTE: There are multiple checkpoints present for this language.\n",
      "['C:\\\\Users\\\\user\\\\.DeepSegment_en\\\\checkpoint_finetuned_model_name']\n",
      "Default checkpoint is currently being used.\n",
      "To use a different checkpoint, use DeepSegment(\"en\", checkpoint_name=name_of_the_checkpoint)\n",
      "==============================================================================================================\n",
      "\n"
     ]
    },
    {
     "name": "stderr",
     "output_type": "stream",
     "text": [
      "WARNING:root:Using default n_window=10. Set this parameter based on your data.\n",
      "WARNING:root:Consider using segment_long for longer sentences.\n",
      "WARNING:root:Consider using segment_long for longer sentences.\n",
      "WARNING:root:Consider using segment_long for longer sentences.\n",
      "WARNING:root:Consider using segment_long for longer sentences.\n"
     ]
    },
    {
     "name": "stdout",
     "output_type": "stream",
     "text": [
      "\n",
      "==============================================================================================================\n",
      "NOTE: There are multiple checkpoints present for this language.\n",
      "['C:\\\\Users\\\\user\\\\.DeepSegment_en\\\\checkpoint_finetuned_model_name']\n",
      "Default checkpoint is currently being used.\n",
      "To use a different checkpoint, use DeepSegment(\"en\", checkpoint_name=name_of_the_checkpoint)\n",
      "==============================================================================================================\n",
      "\n"
     ]
    },
    {
     "name": "stderr",
     "output_type": "stream",
     "text": [
      "WARNING:root:Using default n_window=10. Set this parameter based on your data.\n",
      "WARNING:root:Consider using segment_long for longer sentences.\n",
      "WARNING:root:Consider using segment_long for longer sentences.\n",
      "WARNING:root:Consider using segment_long for longer sentences.\n",
      "WARNING:root:Consider using segment_long for longer sentences.\n"
     ]
    },
    {
     "name": "stdout",
     "output_type": "stream",
     "text": [
      "\n",
      "==============================================================================================================\n",
      "NOTE: There are multiple checkpoints present for this language.\n",
      "['C:\\\\Users\\\\user\\\\.DeepSegment_en\\\\checkpoint_finetuned_model_name']\n",
      "Default checkpoint is currently being used.\n",
      "To use a different checkpoint, use DeepSegment(\"en\", checkpoint_name=name_of_the_checkpoint)\n",
      "==============================================================================================================\n",
      "\n"
     ]
    },
    {
     "name": "stderr",
     "output_type": "stream",
     "text": [
      "WARNING:root:Using default n_window=10. Set this parameter based on your data.\n",
      "WARNING:root:Consider using segment_long for longer sentences.\n",
      "WARNING:root:Consider using segment_long for longer sentences.\n",
      "WARNING:root:Consider using segment_long for longer sentences.\n",
      "WARNING:root:Consider using segment_long for longer sentences.\n"
     ]
    },
    {
     "name": "stdout",
     "output_type": "stream",
     "text": [
      "\n",
      "==============================================================================================================\n",
      "NOTE: There are multiple checkpoints present for this language.\n",
      "['C:\\\\Users\\\\user\\\\.DeepSegment_en\\\\checkpoint_finetuned_model_name']\n",
      "Default checkpoint is currently being used.\n",
      "To use a different checkpoint, use DeepSegment(\"en\", checkpoint_name=name_of_the_checkpoint)\n",
      "==============================================================================================================\n",
      "\n"
     ]
    },
    {
     "name": "stderr",
     "output_type": "stream",
     "text": [
      "WARNING:root:Using default n_window=10. Set this parameter based on your data.\n",
      "WARNING:root:Consider using segment_long for longer sentences.\n",
      "WARNING:root:Consider using segment_long for longer sentences.\n"
     ]
    },
    {
     "name": "stdout",
     "output_type": "stream",
     "text": [
      "\n",
      "==============================================================================================================\n",
      "NOTE: There are multiple checkpoints present for this language.\n",
      "['C:\\\\Users\\\\user\\\\.DeepSegment_en\\\\checkpoint_finetuned_model_name']\n",
      "Default checkpoint is currently being used.\n",
      "To use a different checkpoint, use DeepSegment(\"en\", checkpoint_name=name_of_the_checkpoint)\n",
      "==============================================================================================================\n",
      "\n"
     ]
    },
    {
     "name": "stderr",
     "output_type": "stream",
     "text": [
      "WARNING:root:Using default n_window=10. Set this parameter based on your data.\n",
      "WARNING:root:Consider using segment_long for longer sentences.\n",
      "WARNING:root:Consider using segment_long for longer sentences.\n",
      "WARNING:root:Consider using segment_long for longer sentences.\n",
      "WARNING:root:Consider using segment_long for longer sentences.\n",
      "WARNING:root:Consider using segment_long for longer sentences.\n",
      "WARNING:root:Consider using segment_long for longer sentences.\n",
      "WARNING:root:Consider using segment_long for longer sentences.\n",
      "WARNING:root:Consider using segment_long for longer sentences.\n"
     ]
    },
    {
     "name": "stdout",
     "output_type": "stream",
     "text": [
      "\n",
      "==============================================================================================================\n",
      "NOTE: There are multiple checkpoints present for this language.\n",
      "['C:\\\\Users\\\\user\\\\.DeepSegment_en\\\\checkpoint_finetuned_model_name']\n",
      "Default checkpoint is currently being used.\n",
      "To use a different checkpoint, use DeepSegment(\"en\", checkpoint_name=name_of_the_checkpoint)\n",
      "==============================================================================================================\n",
      "\n"
     ]
    },
    {
     "name": "stderr",
     "output_type": "stream",
     "text": [
      "WARNING:root:Using default n_window=10. Set this parameter based on your data.\n",
      "WARNING:root:Consider using segment_long for longer sentences.\n",
      "WARNING:root:Consider using segment_long for longer sentences.\n",
      "WARNING:root:Consider using segment_long for longer sentences.\n",
      "WARNING:root:Consider using segment_long for longer sentences.\n",
      "WARNING:root:Consider using segment_long for longer sentences.\n"
     ]
    },
    {
     "name": "stdout",
     "output_type": "stream",
     "text": [
      "\n",
      "==============================================================================================================\n",
      "NOTE: There are multiple checkpoints present for this language.\n",
      "['C:\\\\Users\\\\user\\\\.DeepSegment_en\\\\checkpoint_finetuned_model_name']\n",
      "Default checkpoint is currently being used.\n",
      "To use a different checkpoint, use DeepSegment(\"en\", checkpoint_name=name_of_the_checkpoint)\n",
      "==============================================================================================================\n",
      "\n"
     ]
    },
    {
     "name": "stderr",
     "output_type": "stream",
     "text": [
      "WARNING:root:Using default n_window=10. Set this parameter based on your data.\n",
      "WARNING:root:Consider using segment_long for longer sentences.\n",
      "WARNING:root:Consider using segment_long for longer sentences.\n",
      "WARNING:root:Consider using segment_long for longer sentences.\n",
      "WARNING:root:Consider using segment_long for longer sentences.\n",
      "WARNING:root:Consider using segment_long for longer sentences.\n",
      "WARNING:root:Consider using segment_long for longer sentences.\n",
      "WARNING:root:Consider using segment_long for longer sentences.\n",
      "WARNING:root:Consider using segment_long for longer sentences.\n",
      "WARNING:root:Consider using segment_long for longer sentences.\n",
      "WARNING:root:Consider using segment_long for longer sentences.\n",
      "WARNING:root:Consider using segment_long for longer sentences.\n",
      "WARNING:root:Consider using segment_long for longer sentences.\n"
     ]
    },
    {
     "name": "stdout",
     "output_type": "stream",
     "text": [
      "\n",
      "==============================================================================================================\n",
      "NOTE: There are multiple checkpoints present for this language.\n",
      "['C:\\\\Users\\\\user\\\\.DeepSegment_en\\\\checkpoint_finetuned_model_name']\n",
      "Default checkpoint is currently being used.\n",
      "To use a different checkpoint, use DeepSegment(\"en\", checkpoint_name=name_of_the_checkpoint)\n",
      "==============================================================================================================\n",
      "\n"
     ]
    },
    {
     "name": "stderr",
     "output_type": "stream",
     "text": [
      "WARNING:root:Using default n_window=10. Set this parameter based on your data.\n",
      "WARNING:root:Consider using segment_long for longer sentences.\n",
      "WARNING:root:Consider using segment_long for longer sentences.\n"
     ]
    },
    {
     "name": "stdout",
     "output_type": "stream",
     "text": [
      "\n",
      "==============================================================================================================\n",
      "NOTE: There are multiple checkpoints present for this language.\n",
      "['C:\\\\Users\\\\user\\\\.DeepSegment_en\\\\checkpoint_finetuned_model_name']\n",
      "Default checkpoint is currently being used.\n",
      "To use a different checkpoint, use DeepSegment(\"en\", checkpoint_name=name_of_the_checkpoint)\n",
      "==============================================================================================================\n",
      "\n"
     ]
    },
    {
     "name": "stderr",
     "output_type": "stream",
     "text": [
      "WARNING:root:Using default n_window=10. Set this parameter based on your data.\n",
      "WARNING:root:Consider using segment_long for longer sentences.\n",
      "WARNING:root:Consider using segment_long for longer sentences.\n",
      "WARNING:root:Consider using segment_long for longer sentences.\n",
      "WARNING:root:Consider using segment_long for longer sentences.\n"
     ]
    },
    {
     "name": "stdout",
     "output_type": "stream",
     "text": [
      "\n",
      "==============================================================================================================\n",
      "NOTE: There are multiple checkpoints present for this language.\n",
      "['C:\\\\Users\\\\user\\\\.DeepSegment_en\\\\checkpoint_finetuned_model_name']\n",
      "Default checkpoint is currently being used.\n",
      "To use a different checkpoint, use DeepSegment(\"en\", checkpoint_name=name_of_the_checkpoint)\n",
      "==============================================================================================================\n",
      "\n"
     ]
    },
    {
     "name": "stderr",
     "output_type": "stream",
     "text": [
      "WARNING:root:Using default n_window=10. Set this parameter based on your data.\n",
      "WARNING:root:Consider using segment_long for longer sentences.\n",
      "WARNING:root:Consider using segment_long for longer sentences.\n",
      "WARNING:root:Consider using segment_long for longer sentences.\n"
     ]
    },
    {
     "name": "stdout",
     "output_type": "stream",
     "text": [
      "\n",
      "==============================================================================================================\n",
      "NOTE: There are multiple checkpoints present for this language.\n",
      "['C:\\\\Users\\\\user\\\\.DeepSegment_en\\\\checkpoint_finetuned_model_name']\n",
      "Default checkpoint is currently being used.\n",
      "To use a different checkpoint, use DeepSegment(\"en\", checkpoint_name=name_of_the_checkpoint)\n",
      "==============================================================================================================\n",
      "\n"
     ]
    },
    {
     "name": "stderr",
     "output_type": "stream",
     "text": [
      "WARNING:root:Using default n_window=10. Set this parameter based on your data.\n",
      "WARNING:root:Consider using segment_long for longer sentences.\n",
      "WARNING:root:Consider using segment_long for longer sentences.\n",
      "WARNING:root:Consider using segment_long for longer sentences.\n",
      "WARNING:root:Consider using segment_long for longer sentences.\n",
      "WARNING:root:Consider using segment_long for longer sentences.\n"
     ]
    },
    {
     "name": "stdout",
     "output_type": "stream",
     "text": [
      "\n",
      "==============================================================================================================\n",
      "NOTE: There are multiple checkpoints present for this language.\n",
      "['C:\\\\Users\\\\user\\\\.DeepSegment_en\\\\checkpoint_finetuned_model_name']\n",
      "Default checkpoint is currently being used.\n",
      "To use a different checkpoint, use DeepSegment(\"en\", checkpoint_name=name_of_the_checkpoint)\n",
      "==============================================================================================================\n",
      "\n"
     ]
    },
    {
     "name": "stderr",
     "output_type": "stream",
     "text": [
      "WARNING:root:Using default n_window=10. Set this parameter based on your data.\n",
      "WARNING:root:Consider using segment_long for longer sentences.\n",
      "WARNING:root:Consider using segment_long for longer sentences.\n"
     ]
    },
    {
     "name": "stdout",
     "output_type": "stream",
     "text": [
      "\n",
      "==============================================================================================================\n",
      "NOTE: There are multiple checkpoints present for this language.\n",
      "['C:\\\\Users\\\\user\\\\.DeepSegment_en\\\\checkpoint_finetuned_model_name']\n",
      "Default checkpoint is currently being used.\n",
      "To use a different checkpoint, use DeepSegment(\"en\", checkpoint_name=name_of_the_checkpoint)\n",
      "==============================================================================================================\n",
      "\n"
     ]
    },
    {
     "name": "stderr",
     "output_type": "stream",
     "text": [
      "WARNING:root:Using default n_window=10. Set this parameter based on your data.\n",
      "WARNING:root:Consider using segment_long for longer sentences.\n",
      "WARNING:root:Consider using segment_long for longer sentences.\n",
      "WARNING:root:Consider using segment_long for longer sentences.\n",
      "WARNING:root:Consider using segment_long for longer sentences.\n",
      "WARNING:root:Consider using segment_long for longer sentences.\n",
      "WARNING:root:Consider using segment_long for longer sentences.\n"
     ]
    },
    {
     "name": "stdout",
     "output_type": "stream",
     "text": [
      "\n",
      "==============================================================================================================\n",
      "NOTE: There are multiple checkpoints present for this language.\n",
      "['C:\\\\Users\\\\user\\\\.DeepSegment_en\\\\checkpoint_finetuned_model_name']\n",
      "Default checkpoint is currently being used.\n",
      "To use a different checkpoint, use DeepSegment(\"en\", checkpoint_name=name_of_the_checkpoint)\n",
      "==============================================================================================================\n",
      "\n"
     ]
    },
    {
     "name": "stderr",
     "output_type": "stream",
     "text": [
      "WARNING:root:Using default n_window=10. Set this parameter based on your data.\n",
      "WARNING:root:Consider using segment_long for longer sentences.\n",
      "WARNING:root:Consider using segment_long for longer sentences.\n",
      "WARNING:root:Consider using segment_long for longer sentences.\n"
     ]
    },
    {
     "name": "stdout",
     "output_type": "stream",
     "text": [
      "\n",
      "==============================================================================================================\n",
      "NOTE: There are multiple checkpoints present for this language.\n",
      "['C:\\\\Users\\\\user\\\\.DeepSegment_en\\\\checkpoint_finetuned_model_name']\n",
      "Default checkpoint is currently being used.\n",
      "To use a different checkpoint, use DeepSegment(\"en\", checkpoint_name=name_of_the_checkpoint)\n",
      "==============================================================================================================\n",
      "\n"
     ]
    },
    {
     "name": "stderr",
     "output_type": "stream",
     "text": [
      "WARNING:root:Using default n_window=10. Set this parameter based on your data.\n"
     ]
    }
   ],
   "source": [
    "tp, fp, fn = test_('deepsegment')"
   ]
  },
  {
   "cell_type": "code",
   "execution_count": 6,
   "metadata": {},
   "outputs": [
    {
     "name": "stdout",
     "output_type": "stream",
     "text": [
      "0.5250569476082004 0.5317185697808535 0.5283667621776506\n"
     ]
    }
   ],
   "source": [
    "pre = tp/(tp+fp) if fp else nan\n",
    "rec = tp/(tp+fn) if fn else nan\n",
    "f1 = (2.*pre*rec)/(pre+rec) if (pre + rec) else nan\n",
    "print(pre, rec, f1)"
   ]
  },
  {
   "cell_type": "code",
   "execution_count": 7,
   "metadata": {},
   "outputs": [
    {
     "name": "stdout",
     "output_type": "stream",
     "text": [
      "ep-00-01-17.txt\n"
     ]
    }
   ],
   "source": [
    "tp, fp, fn = test_('punctuator')"
   ]
  },
  {
   "cell_type": "code",
   "execution_count": 8,
   "metadata": {},
   "outputs": [
    {
     "name": "stdout",
     "output_type": "stream",
     "text": [
      "0.3468286099865047 0.9178571428571428 0.5034280117531831\n"
     ]
    }
   ],
   "source": [
    "pre = tp/(tp+fp) if fp else nan\n",
    "rec = tp/(tp+fn) if fn else nan\n",
    "f1 = (2.*pre*rec)/(pre+rec) if (pre + rec) else nan\n",
    "print(pre, rec, f1)"
   ]
  },
  {
   "cell_type": "code",
   "execution_count": null,
   "metadata": {},
   "outputs": [],
   "source": []
  }
 ],
 "metadata": {
  "kernelspec": {
   "display_name": "Python 3",
   "language": "python",
   "name": "python3"
  }
 },
 "nbformat": 4,
 "nbformat_minor": 2
}
