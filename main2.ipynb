{
 "cells": [
  {
   "cell_type": "code",
   "execution_count": 1,
   "metadata": {},
   "outputs": [
    {
     "name": "stderr",
     "output_type": "stream",
     "text": [
      "c:\\users\\user\\appdata\\local\\programs\\python\\python37\\lib\\site-packages\\tensorboard\\compat\\tensorflow_stub\\dtypes.py:541: FutureWarning: Passing (type, 1) or '1type' as a synonym of type is deprecated; in a future version of numpy, it will be understood as (type, (1,)) / '(1,)type'.\n",
      "  _np_qint8 = np.dtype([(\"qint8\", np.int8, 1)])\n",
      "c:\\users\\user\\appdata\\local\\programs\\python\\python37\\lib\\site-packages\\tensorboard\\compat\\tensorflow_stub\\dtypes.py:542: FutureWarning: Passing (type, 1) or '1type' as a synonym of type is deprecated; in a future version of numpy, it will be understood as (type, (1,)) / '(1,)type'.\n",
      "  _np_quint8 = np.dtype([(\"quint8\", np.uint8, 1)])\n",
      "c:\\users\\user\\appdata\\local\\programs\\python\\python37\\lib\\site-packages\\tensorboard\\compat\\tensorflow_stub\\dtypes.py:543: FutureWarning: Passing (type, 1) or '1type' as a synonym of type is deprecated; in a future version of numpy, it will be understood as (type, (1,)) / '(1,)type'.\n",
      "  _np_qint16 = np.dtype([(\"qint16\", np.int16, 1)])\n",
      "c:\\users\\user\\appdata\\local\\programs\\python\\python37\\lib\\site-packages\\tensorboard\\compat\\tensorflow_stub\\dtypes.py:544: FutureWarning: Passing (type, 1) or '1type' as a synonym of type is deprecated; in a future version of numpy, it will be understood as (type, (1,)) / '(1,)type'.\n",
      "  _np_quint16 = np.dtype([(\"quint16\", np.uint16, 1)])\n",
      "c:\\users\\user\\appdata\\local\\programs\\python\\python37\\lib\\site-packages\\tensorboard\\compat\\tensorflow_stub\\dtypes.py:545: FutureWarning: Passing (type, 1) or '1type' as a synonym of type is deprecated; in a future version of numpy, it will be understood as (type, (1,)) / '(1,)type'.\n",
      "  _np_qint32 = np.dtype([(\"qint32\", np.int32, 1)])\n",
      "c:\\users\\user\\appdata\\local\\programs\\python\\python37\\lib\\site-packages\\tensorboard\\compat\\tensorflow_stub\\dtypes.py:550: FutureWarning: Passing (type, 1) or '1type' as a synonym of type is deprecated; in a future version of numpy, it will be understood as (type, (1,)) / '(1,)type'.\n",
      "  np_resource = np.dtype([(\"resource\", np.ubyte, 1)])\n",
      "Using TensorFlow backend.\n"
     ]
    }
   ],
   "source": [
    "from youtube_transcript_api import YouTubeTranscriptApi\n",
    "\n",
    "from summarizer import Summarizer\n",
    "from nltk.tokenize import TextTilingTokenizer\n",
    "\n",
    "from matplotlib import pylab\n",
    "\n",
    "from gensim.summarization import keywords\n",
    "\n",
    "import my_func\n",
    "import my_segment\n",
    "\n",
    "import warnings\n",
    "\n",
    "warnings.filterwarnings('ignore')"
   ]
  },
  {
   "cell_type": "code",
   "execution_count": 2,
   "metadata": {},
   "outputs": [
    {
     "data": {
      "text/plain": [
       "[{'text': \">> It's my pleasure to\\nwelcome Bhaskar Mitra today.\",\n",
       "  'start': 3.9,\n",
       "  'duration': 3.32},\n",
       " {'text': 'Bhaskar is actually stationed', 'start': 7.231, 'duration': 2.579},\n",
       " {'text': 'in our London office currently.',\n",
       "  'start': 9.811,\n",
       "  'duration': 1.779}]"
      ]
     },
     "execution_count": 2,
     "metadata": {},
     "output_type": "execute_result"
    }
   ],
   "source": [
    "link = 'https://www.youtube.com/watch?v=g1Pgo5yTIKg'\n",
    "# link = 'https://www.youtube.com/watch?v=3vRC5TMbkaU'\n",
    "\n",
    "link_id = link.replace('https://www.youtube.com/watch?v=', '')\n",
    "\n",
    "data = YouTubeTranscriptApi.get_transcript(link_id)\n",
    "data[:3]"
   ]
  },
  {
   "cell_type": "code",
   "execution_count": 3,
   "metadata": {},
   "outputs": [],
   "source": [
    "text = ''.join([data[i]['text']+' ' for i in range(len(data))])"
   ]
  },
  {
   "cell_type": "code",
   "execution_count": 4,
   "metadata": {},
   "outputs": [],
   "source": [
    "text_main = my_func.my_processing(text)\n",
    "my_func.my_save_file('text_main.txt', text_main)\n",
    "text_without_punct = text_main.replace('.', '').lower()"
   ]
  },
  {
   "cell_type": "code",
   "execution_count": 5,
   "metadata": {
    "scrolled": true
   },
   "outputs": [],
   "source": [
    "text_NNsplit = my_segment.segment('NNsplit', text_without_punct)\n",
    "# my_func.my_save_file('NNsplit.txt', text_NNsplit)"
   ]
  },
  {
   "cell_type": "code",
   "execution_count": 8,
   "metadata": {},
   "outputs": [
    {
     "name": "stdout",
     "output_type": "stream",
     "text": [
      "\n",
      "==============================================================================================================\n",
      "NOTE: There are multiple checkpoints present for this language.\n",
      "['C:\\\\Users\\\\user\\\\.DeepSegment_en\\\\checkpoint_finetuned_model_name']\n",
      "Default checkpoint is currently being used.\n",
      "To use a different checkpoint, use DeepSegment(\"en\", checkpoint_name=name_of_the_checkpoint)\n",
      "==============================================================================================================\n",
      "\n"
     ]
    },
    {
     "name": "stderr",
     "output_type": "stream",
     "text": [
      "WARNING:root:Using default n_window=10. Set this parameter based on your data.\n",
      "WARNING:root:Consider using segment_long for longer sentences.\n",
      "WARNING:root:Consider using segment_long for longer sentences.\n",
      "WARNING:root:Consider using segment_long for longer sentences.\n",
      "WARNING:root:Consider using segment_long for longer sentences.\n",
      "WARNING:root:Consider using segment_long for longer sentences.\n",
      "WARNING:root:Consider using segment_long for longer sentences.\n",
      "WARNING:root:Consider using segment_long for longer sentences.\n",
      "WARNING:root:Consider using segment_long for longer sentences.\n",
      "WARNING:root:Consider using segment_long for longer sentences.\n",
      "WARNING:root:Consider using segment_long for longer sentences.\n",
      "WARNING:root:Consider using segment_long for longer sentences.\n",
      "WARNING:root:Consider using segment_long for longer sentences.\n",
      "WARNING:root:Consider using segment_long for longer sentences.\n",
      "WARNING:root:Consider using segment_long for longer sentences.\n",
      "WARNING:root:Consider using segment_long for longer sentences.\n",
      "WARNING:root:Consider using segment_long for longer sentences.\n",
      "WARNING:root:Consider using segment_long for longer sentences.\n",
      "WARNING:root:Consider using segment_long for longer sentences.\n",
      "WARNING:root:Consider using segment_long for longer sentences.\n",
      "WARNING:root:Consider using segment_long for longer sentences.\n",
      "WARNING:root:Consider using segment_long for longer sentences.\n",
      "WARNING:root:Consider using segment_long for longer sentences.\n",
      "WARNING:root:Consider using segment_long for longer sentences.\n",
      "WARNING:root:Consider using segment_long for longer sentences.\n",
      "WARNING:root:Consider using segment_long for longer sentences.\n",
      "WARNING:root:Consider using segment_long for longer sentences.\n",
      "WARNING:root:Consider using segment_long for longer sentences.\n",
      "WARNING:root:Consider using segment_long for longer sentences.\n",
      "WARNING:root:Consider using segment_long for longer sentences.\n",
      "WARNING:root:Consider using segment_long for longer sentences.\n",
      "WARNING:root:Consider using segment_long for longer sentences.\n",
      "WARNING:root:Consider using segment_long for longer sentences.\n",
      "WARNING:root:Consider using segment_long for longer sentences.\n",
      "WARNING:root:Consider using segment_long for longer sentences.\n",
      "WARNING:root:Consider using segment_long for longer sentences.\n",
      "WARNING:root:Consider using segment_long for longer sentences.\n",
      "WARNING:root:Consider using segment_long for longer sentences.\n",
      "WARNING:root:Consider using segment_long for longer sentences.\n",
      "WARNING:root:Consider using segment_long for longer sentences.\n",
      "WARNING:root:Consider using segment_long for longer sentences.\n",
      "WARNING:root:Consider using segment_long for longer sentences.\n",
      "WARNING:root:Consider using segment_long for longer sentences.\n",
      "WARNING:root:Consider using segment_long for longer sentences.\n",
      "WARNING:root:Consider using segment_long for longer sentences.\n",
      "WARNING:root:Consider using segment_long for longer sentences.\n",
      "WARNING:root:Consider using segment_long for longer sentences.\n",
      "WARNING:root:Consider using segment_long for longer sentences.\n",
      "WARNING:root:Consider using segment_long for longer sentences.\n",
      "WARNING:root:Consider using segment_long for longer sentences.\n",
      "WARNING:root:Consider using segment_long for longer sentences.\n",
      "WARNING:root:Consider using segment_long for longer sentences.\n",
      "WARNING:root:Consider using segment_long for longer sentences.\n",
      "WARNING:root:Consider using segment_long for longer sentences.\n",
      "WARNING:root:Consider using segment_long for longer sentences.\n",
      "WARNING:root:Consider using segment_long for longer sentences.\n",
      "WARNING:root:Consider using segment_long for longer sentences.\n",
      "WARNING:root:Consider using segment_long for longer sentences.\n",
      "WARNING:root:Consider using segment_long for longer sentences.\n",
      "WARNING:root:Consider using segment_long for longer sentences.\n",
      "WARNING:root:Consider using segment_long for longer sentences.\n",
      "WARNING:root:Consider using segment_long for longer sentences.\n",
      "WARNING:root:Consider using segment_long for longer sentences.\n",
      "WARNING:root:Consider using segment_long for longer sentences.\n",
      "WARNING:root:Consider using segment_long for longer sentences.\n",
      "WARNING:root:Consider using segment_long for longer sentences.\n",
      "WARNING:root:Consider using segment_long for longer sentences.\n",
      "WARNING:root:Consider using segment_long for longer sentences.\n",
      "WARNING:root:Consider using segment_long for longer sentences.\n",
      "WARNING:root:Consider using segment_long for longer sentences.\n",
      "WARNING:root:Consider using segment_long for longer sentences.\n",
      "WARNING:root:Consider using segment_long for longer sentences.\n",
      "WARNING:root:Consider using segment_long for longer sentences.\n",
      "WARNING:root:Consider using segment_long for longer sentences.\n",
      "WARNING:root:Consider using segment_long for longer sentences.\n",
      "WARNING:root:Consider using segment_long for longer sentences.\n",
      "WARNING:root:Consider using segment_long for longer sentences.\n",
      "WARNING:root:Consider using segment_long for longer sentences.\n",
      "WARNING:root:Consider using segment_long for longer sentences.\n",
      "WARNING:root:Consider using segment_long for longer sentences.\n",
      "WARNING:root:Consider using segment_long for longer sentences.\n",
      "WARNING:root:Consider using segment_long for longer sentences.\n",
      "WARNING:root:Consider using segment_long for longer sentences.\n",
      "WARNING:root:Consider using segment_long for longer sentences.\n",
      "WARNING:root:Consider using segment_long for longer sentences.\n",
      "WARNING:root:Consider using segment_long for longer sentences.\n",
      "WARNING:root:Consider using segment_long for longer sentences.\n",
      "WARNING:root:Consider using segment_long for longer sentences.\n",
      "WARNING:root:Consider using segment_long for longer sentences.\n",
      "WARNING:root:Consider using segment_long for longer sentences.\n",
      "WARNING:root:Consider using segment_long for longer sentences.\n",
      "WARNING:root:Consider using segment_long for longer sentences.\n",
      "WARNING:root:Consider using segment_long for longer sentences.\n",
      "WARNING:root:Consider using segment_long for longer sentences.\n",
      "WARNING:root:Consider using segment_long for longer sentences.\n",
      "WARNING:root:Consider using segment_long for longer sentences.\n",
      "WARNING:root:Consider using segment_long for longer sentences.\n",
      "WARNING:root:Consider using segment_long for longer sentences.\n",
      "WARNING:root:Consider using segment_long for longer sentences.\n",
      "WARNING:root:Consider using segment_long for longer sentences.\n",
      "WARNING:root:Consider using segment_long for longer sentences.\n",
      "WARNING:root:Consider using segment_long for longer sentences.\n",
      "WARNING:root:Consider using segment_long for longer sentences.\n",
      "WARNING:root:Consider using segment_long for longer sentences.\n",
      "WARNING:root:Consider using segment_long for longer sentences.\n",
      "WARNING:root:Consider using segment_long for longer sentences.\n",
      "WARNING:root:Consider using segment_long for longer sentences.\n",
      "WARNING:root:Consider using segment_long for longer sentences.\n",
      "WARNING:root:Consider using segment_long for longer sentences.\n",
      "WARNING:root:Consider using segment_long for longer sentences.\n",
      "WARNING:root:Consider using segment_long for longer sentences.\n",
      "WARNING:root:Consider using segment_long for longer sentences.\n",
      "WARNING:root:Consider using segment_long for longer sentences.\n",
      "WARNING:root:Consider using segment_long for longer sentences.\n",
      "WARNING:root:Consider using segment_long for longer sentences.\n",
      "WARNING:root:Consider using segment_long for longer sentences.\n",
      "WARNING:root:Consider using segment_long for longer sentences.\n",
      "WARNING:root:Consider using segment_long for longer sentences.\n",
      "WARNING:root:Consider using segment_long for longer sentences.\n",
      "WARNING:root:Consider using segment_long for longer sentences.\n",
      "WARNING:root:Consider using segment_long for longer sentences.\n",
      "WARNING:root:Consider using segment_long for longer sentences.\n",
      "WARNING:root:Consider using segment_long for longer sentences.\n",
      "WARNING:root:Consider using segment_long for longer sentences.\n",
      "WARNING:root:Consider using segment_long for longer sentences.\n",
      "WARNING:root:Consider using segment_long for longer sentences.\n",
      "WARNING:root:Consider using segment_long for longer sentences.\n",
      "WARNING:root:Consider using segment_long for longer sentences.\n",
      "WARNING:root:Consider using segment_long for longer sentences.\n",
      "WARNING:root:Consider using segment_long for longer sentences.\n"
     ]
    },
    {
     "name": "stderr",
     "output_type": "stream",
     "text": [
      "WARNING:root:Consider using segment_long for longer sentences.\n",
      "WARNING:root:Consider using segment_long for longer sentences.\n",
      "WARNING:root:Consider using segment_long for longer sentences.\n",
      "WARNING:root:Consider using segment_long for longer sentences.\n",
      "WARNING:root:Consider using segment_long for longer sentences.\n",
      "WARNING:root:Consider using segment_long for longer sentences.\n",
      "WARNING:root:Consider using segment_long for longer sentences.\n",
      "WARNING:root:Consider using segment_long for longer sentences.\n",
      "WARNING:root:Consider using segment_long for longer sentences.\n",
      "WARNING:root:Consider using segment_long for longer sentences.\n",
      "WARNING:root:Consider using segment_long for longer sentences.\n",
      "WARNING:root:Consider using segment_long for longer sentences.\n",
      "WARNING:root:Consider using segment_long for longer sentences.\n",
      "WARNING:root:Consider using segment_long for longer sentences.\n",
      "WARNING:root:Consider using segment_long for longer sentences.\n",
      "WARNING:root:Consider using segment_long for longer sentences.\n",
      "WARNING:root:Consider using segment_long for longer sentences.\n",
      "WARNING:root:Consider using segment_long for longer sentences.\n",
      "WARNING:root:Consider using segment_long for longer sentences.\n",
      "WARNING:root:Consider using segment_long for longer sentences.\n",
      "WARNING:root:Consider using segment_long for longer sentences.\n",
      "WARNING:root:Consider using segment_long for longer sentences.\n",
      "WARNING:root:Consider using segment_long for longer sentences.\n",
      "WARNING:root:Consider using segment_long for longer sentences.\n",
      "WARNING:root:Consider using segment_long for longer sentences.\n",
      "WARNING:root:Consider using segment_long for longer sentences.\n",
      "WARNING:root:Consider using segment_long for longer sentences.\n",
      "WARNING:root:Consider using segment_long for longer sentences.\n",
      "WARNING:root:Consider using segment_long for longer sentences.\n",
      "WARNING:root:Consider using segment_long for longer sentences.\n",
      "WARNING:root:Consider using segment_long for longer sentences.\n",
      "WARNING:root:Consider using segment_long for longer sentences.\n",
      "WARNING:root:Consider using segment_long for longer sentences.\n",
      "WARNING:root:Consider using segment_long for longer sentences.\n",
      "WARNING:root:Consider using segment_long for longer sentences.\n",
      "WARNING:root:Consider using segment_long for longer sentences.\n",
      "WARNING:root:Consider using segment_long for longer sentences.\n",
      "WARNING:root:Consider using segment_long for longer sentences.\n",
      "WARNING:root:Consider using segment_long for longer sentences.\n",
      "WARNING:root:Consider using segment_long for longer sentences.\n",
      "WARNING:root:Consider using segment_long for longer sentences.\n",
      "WARNING:root:Consider using segment_long for longer sentences.\n",
      "WARNING:root:Consider using segment_long for longer sentences.\n",
      "WARNING:root:Consider using segment_long for longer sentences.\n",
      "WARNING:root:Consider using segment_long for longer sentences.\n",
      "WARNING:root:Consider using segment_long for longer sentences.\n",
      "WARNING:root:Consider using segment_long for longer sentences.\n",
      "WARNING:root:Consider using segment_long for longer sentences.\n",
      "WARNING:root:Consider using segment_long for longer sentences.\n",
      "WARNING:root:Consider using segment_long for longer sentences.\n",
      "WARNING:root:Consider using segment_long for longer sentences.\n",
      "WARNING:root:Consider using segment_long for longer sentences.\n",
      "WARNING:root:Consider using segment_long for longer sentences.\n",
      "WARNING:root:Consider using segment_long for longer sentences.\n",
      "WARNING:root:Consider using segment_long for longer sentences.\n",
      "WARNING:root:Consider using segment_long for longer sentences.\n",
      "WARNING:root:Consider using segment_long for longer sentences.\n",
      "WARNING:root:Consider using segment_long for longer sentences.\n",
      "WARNING:root:Consider using segment_long for longer sentences.\n",
      "WARNING:root:Consider using segment_long for longer sentences.\n",
      "WARNING:root:Consider using segment_long for longer sentences.\n",
      "WARNING:root:Consider using segment_long for longer sentences.\n",
      "WARNING:root:Consider using segment_long for longer sentences.\n",
      "WARNING:root:Consider using segment_long for longer sentences.\n",
      "WARNING:root:Consider using segment_long for longer sentences.\n",
      "WARNING:root:Consider using segment_long for longer sentences.\n",
      "WARNING:root:Consider using segment_long for longer sentences.\n",
      "WARNING:root:Consider using segment_long for longer sentences.\n",
      "WARNING:root:Consider using segment_long for longer sentences.\n",
      "WARNING:root:Consider using segment_long for longer sentences.\n",
      "WARNING:root:Consider using segment_long for longer sentences.\n",
      "WARNING:root:Consider using segment_long for longer sentences.\n",
      "WARNING:root:Consider using segment_long for longer sentences.\n",
      "WARNING:root:Consider using segment_long for longer sentences.\n",
      "WARNING:root:Consider using segment_long for longer sentences.\n",
      "WARNING:root:Consider using segment_long for longer sentences.\n",
      "WARNING:root:Consider using segment_long for longer sentences.\n",
      "WARNING:root:Consider using segment_long for longer sentences.\n",
      "WARNING:root:Consider using segment_long for longer sentences.\n",
      "WARNING:root:Consider using segment_long for longer sentences.\n",
      "WARNING:root:Consider using segment_long for longer sentences.\n",
      "WARNING:root:Consider using segment_long for longer sentences.\n",
      "WARNING:root:Consider using segment_long for longer sentences.\n",
      "WARNING:root:Consider using segment_long for longer sentences.\n",
      "WARNING:root:Consider using segment_long for longer sentences.\n",
      "WARNING:root:Consider using segment_long for longer sentences.\n",
      "WARNING:root:Consider using segment_long for longer sentences.\n",
      "WARNING:root:Consider using segment_long for longer sentences.\n",
      "WARNING:root:Consider using segment_long for longer sentences.\n",
      "WARNING:root:Consider using segment_long for longer sentences.\n",
      "WARNING:root:Consider using segment_long for longer sentences.\n",
      "WARNING:root:Consider using segment_long for longer sentences.\n",
      "WARNING:root:Consider using segment_long for longer sentences.\n",
      "WARNING:root:Consider using segment_long for longer sentences.\n",
      "WARNING:root:Consider using segment_long for longer sentences.\n",
      "WARNING:root:Consider using segment_long for longer sentences.\n",
      "WARNING:root:Consider using segment_long for longer sentences.\n",
      "WARNING:root:Consider using segment_long for longer sentences.\n",
      "WARNING:root:Consider using segment_long for longer sentences.\n",
      "WARNING:root:Consider using segment_long for longer sentences.\n",
      "WARNING:root:Consider using segment_long for longer sentences.\n",
      "WARNING:root:Consider using segment_long for longer sentences.\n",
      "WARNING:root:Consider using segment_long for longer sentences.\n",
      "WARNING:root:Consider using segment_long for longer sentences.\n",
      "WARNING:root:Consider using segment_long for longer sentences.\n",
      "WARNING:root:Consider using segment_long for longer sentences.\n",
      "WARNING:root:Consider using segment_long for longer sentences.\n",
      "WARNING:root:Consider using segment_long for longer sentences.\n",
      "WARNING:root:Consider using segment_long for longer sentences.\n",
      "WARNING:root:Consider using segment_long for longer sentences.\n",
      "WARNING:root:Consider using segment_long for longer sentences.\n",
      "WARNING:root:Consider using segment_long for longer sentences.\n",
      "WARNING:root:Consider using segment_long for longer sentences.\n",
      "WARNING:root:Consider using segment_long for longer sentences.\n",
      "WARNING:root:Consider using segment_long for longer sentences.\n",
      "WARNING:root:Consider using segment_long for longer sentences.\n",
      "WARNING:root:Consider using segment_long for longer sentences.\n",
      "WARNING:root:Consider using segment_long for longer sentences.\n",
      "WARNING:root:Consider using segment_long for longer sentences.\n",
      "WARNING:root:Consider using segment_long for longer sentences.\n",
      "WARNING:root:Consider using segment_long for longer sentences.\n",
      "WARNING:root:Consider using segment_long for longer sentences.\n",
      "WARNING:root:Consider using segment_long for longer sentences.\n",
      "WARNING:root:Consider using segment_long for longer sentences.\n",
      "WARNING:root:Consider using segment_long for longer sentences.\n",
      "WARNING:root:Consider using segment_long for longer sentences.\n",
      "WARNING:root:Consider using segment_long for longer sentences.\n",
      "WARNING:root:Consider using segment_long for longer sentences.\n",
      "WARNING:root:Consider using segment_long for longer sentences.\n",
      "WARNING:root:Consider using segment_long for longer sentences.\n",
      "WARNING:root:Consider using segment_long for longer sentences.\n"
     ]
    },
    {
     "name": "stderr",
     "output_type": "stream",
     "text": [
      "WARNING:root:Consider using segment_long for longer sentences.\n",
      "WARNING:root:Consider using segment_long for longer sentences.\n",
      "WARNING:root:Consider using segment_long for longer sentences.\n",
      "WARNING:root:Consider using segment_long for longer sentences.\n",
      "WARNING:root:Consider using segment_long for longer sentences.\n",
      "WARNING:root:Consider using segment_long for longer sentences.\n",
      "WARNING:root:Consider using segment_long for longer sentences.\n",
      "WARNING:root:Consider using segment_long for longer sentences.\n",
      "WARNING:root:Consider using segment_long for longer sentences.\n",
      "WARNING:root:Consider using segment_long for longer sentences.\n",
      "WARNING:root:Consider using segment_long for longer sentences.\n",
      "WARNING:root:Consider using segment_long for longer sentences.\n",
      "WARNING:root:Consider using segment_long for longer sentences.\n",
      "WARNING:root:Consider using segment_long for longer sentences.\n",
      "WARNING:root:Consider using segment_long for longer sentences.\n",
      "WARNING:root:Consider using segment_long for longer sentences.\n",
      "WARNING:root:Consider using segment_long for longer sentences.\n",
      "WARNING:root:Consider using segment_long for longer sentences.\n",
      "WARNING:root:Consider using segment_long for longer sentences.\n",
      "WARNING:root:Consider using segment_long for longer sentences.\n",
      "WARNING:root:Consider using segment_long for longer sentences.\n",
      "WARNING:root:Consider using segment_long for longer sentences.\n",
      "WARNING:root:Consider using segment_long for longer sentences.\n",
      "WARNING:root:Consider using segment_long for longer sentences.\n",
      "WARNING:root:Consider using segment_long for longer sentences.\n",
      "WARNING:root:Consider using segment_long for longer sentences.\n",
      "WARNING:root:Consider using segment_long for longer sentences.\n",
      "WARNING:root:Consider using segment_long for longer sentences.\n",
      "WARNING:root:Consider using segment_long for longer sentences.\n",
      "WARNING:root:Consider using segment_long for longer sentences.\n",
      "WARNING:root:Consider using segment_long for longer sentences.\n",
      "WARNING:root:Consider using segment_long for longer sentences.\n",
      "WARNING:root:Consider using segment_long for longer sentences.\n",
      "WARNING:root:Consider using segment_long for longer sentences.\n",
      "WARNING:root:Consider using segment_long for longer sentences.\n",
      "WARNING:root:Consider using segment_long for longer sentences.\n",
      "WARNING:root:Consider using segment_long for longer sentences.\n",
      "WARNING:root:Consider using segment_long for longer sentences.\n",
      "WARNING:root:Consider using segment_long for longer sentences.\n",
      "WARNING:root:Consider using segment_long for longer sentences.\n",
      "WARNING:root:Consider using segment_long for longer sentences.\n",
      "WARNING:root:Consider using segment_long for longer sentences.\n",
      "WARNING:root:Consider using segment_long for longer sentences.\n",
      "WARNING:root:Consider using segment_long for longer sentences.\n",
      "WARNING:root:Consider using segment_long for longer sentences.\n",
      "WARNING:root:Consider using segment_long for longer sentences.\n",
      "WARNING:root:Consider using segment_long for longer sentences.\n",
      "WARNING:root:Consider using segment_long for longer sentences.\n",
      "WARNING:root:Consider using segment_long for longer sentences.\n",
      "WARNING:root:Consider using segment_long for longer sentences.\n",
      "WARNING:root:Consider using segment_long for longer sentences.\n",
      "WARNING:root:Consider using segment_long for longer sentences.\n",
      "WARNING:root:Consider using segment_long for longer sentences.\n",
      "WARNING:root:Consider using segment_long for longer sentences.\n",
      "WARNING:root:Consider using segment_long for longer sentences.\n",
      "WARNING:root:Consider using segment_long for longer sentences.\n",
      "WARNING:root:Consider using segment_long for longer sentences.\n",
      "WARNING:root:Consider using segment_long for longer sentences.\n",
      "WARNING:root:Consider using segment_long for longer sentences.\n",
      "WARNING:root:Consider using segment_long for longer sentences.\n",
      "WARNING:root:Consider using segment_long for longer sentences.\n",
      "WARNING:root:Consider using segment_long for longer sentences.\n",
      "WARNING:root:Consider using segment_long for longer sentences.\n",
      "WARNING:root:Consider using segment_long for longer sentences.\n",
      "WARNING:root:Consider using segment_long for longer sentences.\n",
      "WARNING:root:Consider using segment_long for longer sentences.\n",
      "WARNING:root:Consider using segment_long for longer sentences.\n",
      "WARNING:root:Consider using segment_long for longer sentences.\n",
      "WARNING:root:Consider using segment_long for longer sentences.\n",
      "WARNING:root:Consider using segment_long for longer sentences.\n",
      "WARNING:root:Consider using segment_long for longer sentences.\n",
      "WARNING:root:Consider using segment_long for longer sentences.\n",
      "WARNING:root:Consider using segment_long for longer sentences.\n",
      "WARNING:root:Consider using segment_long for longer sentences.\n",
      "WARNING:root:Consider using segment_long for longer sentences.\n",
      "WARNING:root:Consider using segment_long for longer sentences.\n",
      "WARNING:root:Consider using segment_long for longer sentences.\n",
      "WARNING:root:Consider using segment_long for longer sentences.\n",
      "WARNING:root:Consider using segment_long for longer sentences.\n",
      "WARNING:root:Consider using segment_long for longer sentences.\n",
      "WARNING:root:Consider using segment_long for longer sentences.\n",
      "WARNING:root:Consider using segment_long for longer sentences.\n",
      "WARNING:root:Consider using segment_long for longer sentences.\n",
      "WARNING:root:Consider using segment_long for longer sentences.\n",
      "WARNING:root:Consider using segment_long for longer sentences.\n",
      "WARNING:root:Consider using segment_long for longer sentences.\n",
      "WARNING:root:Consider using segment_long for longer sentences.\n",
      "WARNING:root:Consider using segment_long for longer sentences.\n",
      "WARNING:root:Consider using segment_long for longer sentences.\n",
      "WARNING:root:Consider using segment_long for longer sentences.\n",
      "WARNING:root:Consider using segment_long for longer sentences.\n",
      "WARNING:root:Consider using segment_long for longer sentences.\n",
      "WARNING:root:Consider using segment_long for longer sentences.\n",
      "WARNING:root:Consider using segment_long for longer sentences.\n",
      "WARNING:root:Consider using segment_long for longer sentences.\n",
      "WARNING:root:Consider using segment_long for longer sentences.\n",
      "WARNING:root:Consider using segment_long for longer sentences.\n",
      "WARNING:root:Consider using segment_long for longer sentences.\n",
      "WARNING:root:Consider using segment_long for longer sentences.\n",
      "WARNING:root:Consider using segment_long for longer sentences.\n",
      "WARNING:root:Consider using segment_long for longer sentences.\n",
      "WARNING:root:Consider using segment_long for longer sentences.\n",
      "WARNING:root:Consider using segment_long for longer sentences.\n",
      "WARNING:root:Consider using segment_long for longer sentences.\n",
      "WARNING:root:Consider using segment_long for longer sentences.\n",
      "WARNING:root:Consider using segment_long for longer sentences.\n",
      "WARNING:root:Consider using segment_long for longer sentences.\n",
      "WARNING:root:Consider using segment_long for longer sentences.\n",
      "WARNING:root:Consider using segment_long for longer sentences.\n",
      "WARNING:root:Consider using segment_long for longer sentences.\n",
      "WARNING:root:Consider using segment_long for longer sentences.\n",
      "WARNING:root:Consider using segment_long for longer sentences.\n",
      "WARNING:root:Consider using segment_long for longer sentences.\n",
      "WARNING:root:Consider using segment_long for longer sentences.\n",
      "WARNING:root:Consider using segment_long for longer sentences.\n",
      "WARNING:root:Consider using segment_long for longer sentences.\n",
      "WARNING:root:Consider using segment_long for longer sentences.\n",
      "WARNING:root:Consider using segment_long for longer sentences.\n",
      "WARNING:root:Consider using segment_long for longer sentences.\n",
      "WARNING:root:Consider using segment_long for longer sentences.\n",
      "WARNING:root:Consider using segment_long for longer sentences.\n",
      "WARNING:root:Consider using segment_long for longer sentences.\n",
      "WARNING:root:Consider using segment_long for longer sentences.\n",
      "WARNING:root:Consider using segment_long for longer sentences.\n",
      "WARNING:root:Consider using segment_long for longer sentences.\n",
      "WARNING:root:Consider using segment_long for longer sentences.\n",
      "WARNING:root:Consider using segment_long for longer sentences.\n",
      "WARNING:root:Consider using segment_long for longer sentences.\n",
      "WARNING:root:Consider using segment_long for longer sentences.\n",
      "WARNING:root:Consider using segment_long for longer sentences.\n",
      "WARNING:root:Consider using segment_long for longer sentences.\n"
     ]
    },
    {
     "name": "stderr",
     "output_type": "stream",
     "text": [
      "WARNING:root:Consider using segment_long for longer sentences.\n",
      "WARNING:root:Consider using segment_long for longer sentences.\n",
      "WARNING:root:Consider using segment_long for longer sentences.\n",
      "WARNING:root:Consider using segment_long for longer sentences.\n",
      "WARNING:root:Consider using segment_long for longer sentences.\n",
      "WARNING:root:Consider using segment_long for longer sentences.\n",
      "WARNING:root:Consider using segment_long for longer sentences.\n",
      "WARNING:root:Consider using segment_long for longer sentences.\n",
      "WARNING:root:Consider using segment_long for longer sentences.\n",
      "WARNING:root:Consider using segment_long for longer sentences.\n",
      "WARNING:root:Consider using segment_long for longer sentences.\n",
      "WARNING:root:Consider using segment_long for longer sentences.\n",
      "WARNING:root:Consider using segment_long for longer sentences.\n",
      "WARNING:root:Consider using segment_long for longer sentences.\n",
      "WARNING:root:Consider using segment_long for longer sentences.\n",
      "WARNING:root:Consider using segment_long for longer sentences.\n",
      "WARNING:root:Consider using segment_long for longer sentences.\n",
      "WARNING:root:Consider using segment_long for longer sentences.\n",
      "WARNING:root:Consider using segment_long for longer sentences.\n",
      "WARNING:root:Consider using segment_long for longer sentences.\n",
      "WARNING:root:Consider using segment_long for longer sentences.\n",
      "WARNING:root:Consider using segment_long for longer sentences.\n",
      "WARNING:root:Consider using segment_long for longer sentences.\n",
      "WARNING:root:Consider using segment_long for longer sentences.\n",
      "WARNING:root:Consider using segment_long for longer sentences.\n",
      "WARNING:root:Consider using segment_long for longer sentences.\n",
      "WARNING:root:Consider using segment_long for longer sentences.\n",
      "WARNING:root:Consider using segment_long for longer sentences.\n",
      "WARNING:root:Consider using segment_long for longer sentences.\n",
      "WARNING:root:Consider using segment_long for longer sentences.\n",
      "WARNING:root:Consider using segment_long for longer sentences.\n",
      "WARNING:root:Consider using segment_long for longer sentences.\n",
      "WARNING:root:Consider using segment_long for longer sentences.\n",
      "WARNING:root:Consider using segment_long for longer sentences.\n",
      "WARNING:root:Consider using segment_long for longer sentences.\n",
      "WARNING:root:Consider using segment_long for longer sentences.\n",
      "WARNING:root:Consider using segment_long for longer sentences.\n",
      "WARNING:root:Consider using segment_long for longer sentences.\n",
      "WARNING:root:Consider using segment_long for longer sentences.\n",
      "WARNING:root:Consider using segment_long for longer sentences.\n",
      "WARNING:root:Consider using segment_long for longer sentences.\n",
      "WARNING:root:Consider using segment_long for longer sentences.\n",
      "WARNING:root:Consider using segment_long for longer sentences.\n",
      "WARNING:root:Consider using segment_long for longer sentences.\n",
      "WARNING:root:Consider using segment_long for longer sentences.\n",
      "WARNING:root:Consider using segment_long for longer sentences.\n",
      "WARNING:root:Consider using segment_long for longer sentences.\n",
      "WARNING:root:Consider using segment_long for longer sentences.\n",
      "WARNING:root:Consider using segment_long for longer sentences.\n",
      "WARNING:root:Consider using segment_long for longer sentences.\n",
      "WARNING:root:Consider using segment_long for longer sentences.\n",
      "WARNING:root:Consider using segment_long for longer sentences.\n",
      "WARNING:root:Consider using segment_long for longer sentences.\n",
      "WARNING:root:Consider using segment_long for longer sentences.\n",
      "WARNING:root:Consider using segment_long for longer sentences.\n",
      "WARNING:root:Consider using segment_long for longer sentences.\n",
      "WARNING:root:Consider using segment_long for longer sentences.\n",
      "WARNING:root:Consider using segment_long for longer sentences.\n",
      "WARNING:root:Consider using segment_long for longer sentences.\n",
      "WARNING:root:Consider using segment_long for longer sentences.\n",
      "WARNING:root:Consider using segment_long for longer sentences.\n",
      "WARNING:root:Consider using segment_long for longer sentences.\n",
      "WARNING:root:Consider using segment_long for longer sentences.\n",
      "WARNING:root:Consider using segment_long for longer sentences.\n",
      "WARNING:root:Consider using segment_long for longer sentences.\n",
      "WARNING:root:Consider using segment_long for longer sentences.\n",
      "WARNING:root:Consider using segment_long for longer sentences.\n",
      "WARNING:root:Consider using segment_long for longer sentences.\n",
      "WARNING:root:Consider using segment_long for longer sentences.\n",
      "WARNING:root:Consider using segment_long for longer sentences.\n",
      "WARNING:root:Consider using segment_long for longer sentences.\n",
      "WARNING:root:Consider using segment_long for longer sentences.\n",
      "WARNING:root:Consider using segment_long for longer sentences.\n",
      "WARNING:root:Consider using segment_long for longer sentences.\n",
      "WARNING:root:Consider using segment_long for longer sentences.\n",
      "WARNING:root:Consider using segment_long for longer sentences.\n",
      "WARNING:root:Consider using segment_long for longer sentences.\n",
      "WARNING:root:Consider using segment_long for longer sentences.\n",
      "WARNING:root:Consider using segment_long for longer sentences.\n"
     ]
    }
   ],
   "source": [
    "text_deepsegment = my_segment.segment('deepsegment', text_without_punct)\n",
    "my_func.my_save_file('deepsegment.txt', text_deepsegment)"
   ]
  },
  {
   "cell_type": "code",
   "execution_count": 9,
   "metadata": {},
   "outputs": [],
   "source": [
    "text_punctuator = my_segment.segment('punctuator', text_without_punct)\n",
    "my_func.my_save_file('punctuator.txt', text_punctuator)"
   ]
  },
  {
   "cell_type": "markdown",
   "metadata": {},
   "source": [
    "# error_calculator"
   ]
  },
  {
   "cell_type": "code",
   "execution_count": 24,
   "metadata": {},
   "outputs": [],
   "source": [
    "import error_calculator"
   ]
  },
  {
   "cell_type": "code",
   "execution_count": 25,
   "metadata": {},
   "outputs": [
    {
     "ename": "AssertionError",
     "evalue": "File: text_main.txt \nError: 100 (4622) != 100000 (4325) \nTarget context: say .PERIOD 100 .PERIOD000 \nPredicted context: lets say 100000 most",
     "output_type": "error",
     "traceback": [
      "\u001b[1;31m---------------------------------------------------------------------------\u001b[0m",
      "\u001b[1;31mAssertionError\u001b[0m                            Traceback (most recent call last)",
      "\u001b[1;32m<ipython-input-25-2352dd0a6bd5>\u001b[0m in \u001b[0;36m<module>\u001b[1;34m\u001b[0m\n\u001b[1;32m----> 1\u001b[1;33m \u001b[0merror_calculator\u001b[0m\u001b[1;33m.\u001b[0m\u001b[0mcompute_error\u001b[0m\u001b[1;33m(\u001b[0m\u001b[1;33m[\u001b[0m\u001b[1;34m'text_main.txt'\u001b[0m\u001b[1;33m]\u001b[0m\u001b[1;33m,\u001b[0m \u001b[1;33m[\u001b[0m\u001b[1;34m'deepsegment.txt'\u001b[0m\u001b[1;33m]\u001b[0m\u001b[1;33m)\u001b[0m\u001b[1;33m\u001b[0m\u001b[1;33m\u001b[0m\u001b[0m\n\u001b[0m",
      "\u001b[1;32m~\\Desktop\\diploma\\jpt\\main2\\error_calculator.py\u001b[0m in \u001b[0;36mcompute_error\u001b[1;34m(target_paths, predicted_paths)\u001b[0m\n\u001b[0;32m     82\u001b[0m                         \u001b[0mtarget_stream\u001b[0m\u001b[1;33m[\u001b[0m\u001b[0mt_i\u001b[0m\u001b[1;33m]\u001b[0m\u001b[1;33m,\u001b[0m \u001b[0mt_i\u001b[0m\u001b[1;33m,\u001b[0m \u001b[0mpredicted_stream\u001b[0m\u001b[1;33m[\u001b[0m\u001b[0mp_i\u001b[0m\u001b[1;33m]\u001b[0m\u001b[1;33m,\u001b[0m \u001b[0mp_i\u001b[0m\u001b[1;33m,\u001b[0m\u001b[1;33m\u001b[0m\u001b[1;33m\u001b[0m\u001b[0m\n\u001b[0;32m     83\u001b[0m                         \u001b[1;34m\" \"\u001b[0m\u001b[1;33m.\u001b[0m\u001b[0mjoin\u001b[0m\u001b[1;33m(\u001b[0m\u001b[0mtarget_stream\u001b[0m\u001b[1;33m[\u001b[0m\u001b[0mt_i\u001b[0m\u001b[1;33m-\u001b[0m\u001b[1;36m2\u001b[0m\u001b[1;33m:\u001b[0m\u001b[0mt_i\u001b[0m\u001b[1;33m+\u001b[0m\u001b[1;36m2\u001b[0m\u001b[1;33m]\u001b[0m\u001b[1;33m)\u001b[0m\u001b[1;33m,\u001b[0m\u001b[1;33m\u001b[0m\u001b[1;33m\u001b[0m\u001b[0m\n\u001b[1;32m---> 84\u001b[1;33m                         \" \".join(predicted_stream[p_i-2:p_i+2]))\n\u001b[0m\u001b[0;32m     85\u001b[0m \u001b[1;33m\u001b[0m\u001b[0m\n\u001b[0;32m     86\u001b[0m                 \u001b[0mt_i\u001b[0m \u001b[1;33m+=\u001b[0m \u001b[1;36m1\u001b[0m\u001b[1;33m\u001b[0m\u001b[1;33m\u001b[0m\u001b[0m\n",
      "\u001b[1;31mAssertionError\u001b[0m: File: text_main.txt \nError: 100 (4622) != 100000 (4325) \nTarget context: say .PERIOD 100 .PERIOD000 \nPredicted context: lets say 100000 most"
     ]
    }
   ],
   "source": [
    "error_calculator.compute_error(['text_main.txt'], ['deepsegment.txt'])"
   ]
  },
  {
   "cell_type": "code",
   "execution_count": 26,
   "metadata": {},
   "outputs": [
    {
     "ename": "AssertionError",
     "evalue": "File: text_main.txt \nError: im (203) != i (190) \nTarget context: talk .PERIOD im going \nPredicted context: todays talk i m",
     "output_type": "error",
     "traceback": [
      "\u001b[1;31m---------------------------------------------------------------------------\u001b[0m",
      "\u001b[1;31mAssertionError\u001b[0m                            Traceback (most recent call last)",
      "\u001b[1;32m<ipython-input-26-c634e4bd7af8>\u001b[0m in \u001b[0;36m<module>\u001b[1;34m\u001b[0m\n\u001b[1;32m----> 1\u001b[1;33m \u001b[0merror_calculator\u001b[0m\u001b[1;33m.\u001b[0m\u001b[0mcompute_error\u001b[0m\u001b[1;33m(\u001b[0m\u001b[1;33m[\u001b[0m\u001b[1;34m'text_main.txt'\u001b[0m\u001b[1;33m]\u001b[0m\u001b[1;33m,\u001b[0m \u001b[1;33m[\u001b[0m\u001b[1;34m'NNsplit.txt'\u001b[0m\u001b[1;33m]\u001b[0m\u001b[1;33m)\u001b[0m\u001b[1;33m\u001b[0m\u001b[1;33m\u001b[0m\u001b[0m\n\u001b[0m",
      "\u001b[1;32m~\\Desktop\\diploma\\jpt\\main2\\error_calculator.py\u001b[0m in \u001b[0;36mcompute_error\u001b[1;34m(target_paths, predicted_paths)\u001b[0m\n\u001b[0;32m     82\u001b[0m                         \u001b[0mtarget_stream\u001b[0m\u001b[1;33m[\u001b[0m\u001b[0mt_i\u001b[0m\u001b[1;33m]\u001b[0m\u001b[1;33m,\u001b[0m \u001b[0mt_i\u001b[0m\u001b[1;33m,\u001b[0m \u001b[0mpredicted_stream\u001b[0m\u001b[1;33m[\u001b[0m\u001b[0mp_i\u001b[0m\u001b[1;33m]\u001b[0m\u001b[1;33m,\u001b[0m \u001b[0mp_i\u001b[0m\u001b[1;33m,\u001b[0m\u001b[1;33m\u001b[0m\u001b[1;33m\u001b[0m\u001b[0m\n\u001b[0;32m     83\u001b[0m                         \u001b[1;34m\" \"\u001b[0m\u001b[1;33m.\u001b[0m\u001b[0mjoin\u001b[0m\u001b[1;33m(\u001b[0m\u001b[0mtarget_stream\u001b[0m\u001b[1;33m[\u001b[0m\u001b[0mt_i\u001b[0m\u001b[1;33m-\u001b[0m\u001b[1;36m2\u001b[0m\u001b[1;33m:\u001b[0m\u001b[0mt_i\u001b[0m\u001b[1;33m+\u001b[0m\u001b[1;36m2\u001b[0m\u001b[1;33m]\u001b[0m\u001b[1;33m)\u001b[0m\u001b[1;33m,\u001b[0m\u001b[1;33m\u001b[0m\u001b[1;33m\u001b[0m\u001b[0m\n\u001b[1;32m---> 84\u001b[1;33m                         \" \".join(predicted_stream[p_i-2:p_i+2]))\n\u001b[0m\u001b[0;32m     85\u001b[0m \u001b[1;33m\u001b[0m\u001b[0m\n\u001b[0;32m     86\u001b[0m                 \u001b[0mt_i\u001b[0m \u001b[1;33m+=\u001b[0m \u001b[1;36m1\u001b[0m\u001b[1;33m\u001b[0m\u001b[1;33m\u001b[0m\u001b[0m\n",
      "\u001b[1;31mAssertionError\u001b[0m: File: text_main.txt \nError: im (203) != i (190) \nTarget context: talk .PERIOD im going \nPredicted context: todays talk i m"
     ]
    }
   ],
   "source": [
    "error_calculator.compute_error(['text_main.txt'], ['NNsplit.txt'])"
   ]
  },
  {
   "cell_type": "code",
   "execution_count": 27,
   "metadata": {},
   "outputs": [
    {
     "ename": "AssertionError",
     "evalue": "File: text_main.txt \nError: 100 (4622) != 100000 (4565) \nTarget context: say .PERIOD 100 .PERIOD000 \nPredicted context: .PERIOD say 100000 most",
     "output_type": "error",
     "traceback": [
      "\u001b[1;31m---------------------------------------------------------------------------\u001b[0m",
      "\u001b[1;31mAssertionError\u001b[0m                            Traceback (most recent call last)",
      "\u001b[1;32m<ipython-input-27-448121cc9e0a>\u001b[0m in \u001b[0;36m<module>\u001b[1;34m\u001b[0m\n\u001b[1;32m----> 1\u001b[1;33m \u001b[0merror_calculator\u001b[0m\u001b[1;33m.\u001b[0m\u001b[0mcompute_error\u001b[0m\u001b[1;33m(\u001b[0m\u001b[1;33m[\u001b[0m\u001b[1;34m'text_main.txt'\u001b[0m\u001b[1;33m]\u001b[0m\u001b[1;33m,\u001b[0m \u001b[1;33m[\u001b[0m\u001b[1;34m'punctuator.txt'\u001b[0m\u001b[1;33m]\u001b[0m\u001b[1;33m)\u001b[0m\u001b[1;33m\u001b[0m\u001b[1;33m\u001b[0m\u001b[0m\n\u001b[0m",
      "\u001b[1;32m~\\Desktop\\diploma\\jpt\\main2\\error_calculator.py\u001b[0m in \u001b[0;36mcompute_error\u001b[1;34m(target_paths, predicted_paths)\u001b[0m\n\u001b[0;32m     82\u001b[0m                         \u001b[0mtarget_stream\u001b[0m\u001b[1;33m[\u001b[0m\u001b[0mt_i\u001b[0m\u001b[1;33m]\u001b[0m\u001b[1;33m,\u001b[0m \u001b[0mt_i\u001b[0m\u001b[1;33m,\u001b[0m \u001b[0mpredicted_stream\u001b[0m\u001b[1;33m[\u001b[0m\u001b[0mp_i\u001b[0m\u001b[1;33m]\u001b[0m\u001b[1;33m,\u001b[0m \u001b[0mp_i\u001b[0m\u001b[1;33m,\u001b[0m\u001b[1;33m\u001b[0m\u001b[1;33m\u001b[0m\u001b[0m\n\u001b[0;32m     83\u001b[0m                         \u001b[1;34m\" \"\u001b[0m\u001b[1;33m.\u001b[0m\u001b[0mjoin\u001b[0m\u001b[1;33m(\u001b[0m\u001b[0mtarget_stream\u001b[0m\u001b[1;33m[\u001b[0m\u001b[0mt_i\u001b[0m\u001b[1;33m-\u001b[0m\u001b[1;36m2\u001b[0m\u001b[1;33m:\u001b[0m\u001b[0mt_i\u001b[0m\u001b[1;33m+\u001b[0m\u001b[1;36m2\u001b[0m\u001b[1;33m]\u001b[0m\u001b[1;33m)\u001b[0m\u001b[1;33m,\u001b[0m\u001b[1;33m\u001b[0m\u001b[1;33m\u001b[0m\u001b[0m\n\u001b[1;32m---> 84\u001b[1;33m                         \" \".join(predicted_stream[p_i-2:p_i+2]))\n\u001b[0m\u001b[0;32m     85\u001b[0m \u001b[1;33m\u001b[0m\u001b[0m\n\u001b[0;32m     86\u001b[0m                 \u001b[0mt_i\u001b[0m \u001b[1;33m+=\u001b[0m \u001b[1;36m1\u001b[0m\u001b[1;33m\u001b[0m\u001b[1;33m\u001b[0m\u001b[0m\n",
      "\u001b[1;31mAssertionError\u001b[0m: File: text_main.txt \nError: 100 (4622) != 100000 (4565) \nTarget context: say .PERIOD 100 .PERIOD000 \nPredicted context: .PERIOD say 100000 most"
     ]
    }
   ],
   "source": [
    "error_calculator.compute_error(['text_main.txt'], ['punctuator.txt'])"
   ]
  },
  {
   "cell_type": "code",
   "execution_count": 10,
   "metadata": {},
   "outputs": [],
   "source": [
    "model = Summarizer()"
   ]
  },
  {
   "cell_type": "code",
   "execution_count": 28,
   "metadata": {},
   "outputs": [],
   "source": [
    "text = text_deepsegment"
   ]
  },
  {
   "cell_type": "code",
   "execution_count": 29,
   "metadata": {},
   "outputs": [
    {
     "data": {
      "text/plain": [
       "12089"
      ]
     },
     "execution_count": 29,
     "metadata": {},
     "output_type": "execute_result"
    }
   ],
   "source": [
    "len(text.split(' '))"
   ]
  },
  {
   "cell_type": "code",
   "execution_count": 30,
   "metadata": {},
   "outputs": [
    {
     "data": {
      "image/png": "[encoded data removed]",
      "text/plain": [
       "<Figure size 432x288 with 1 Axes>"
      ]
     },
     "metadata": {
      "needs_background": "light"
     },
     "output_type": "display_data"
    }
   ],
   "source": [
    "ww =  500\n",
    "tt = TextTilingTokenizer(demo_mode=True, w = ww)\n",
    "s, ss, d, b = tt.tokenize(text[:].replace(\"\\n\", \" \").replace(\".\", \".\\n\\n\"))\n",
    "ttt = TextTilingTokenizer(w = ww)\n",
    "tokens = ttt.tokenize(text.replace(\"\\n\", \" \").replace(\".\", \".\\n\\n\"))\n",
    "pylab.xlabel(\"Sentence Gap index\")\n",
    "pylab.ylabel(\"Gap Scores\")\n",
    "pylab.plot(range(len(s)), s, label=\"Gap Scores\")\n",
    "pylab.plot(range(len(ss)), ss, label=\"Smoothed Gap scores\")\n",
    "pylab.plot(range(len(d)), d, label=\"Depth scores\")\n",
    "pylab.stem(range(len(b)), b)\n",
    "pylab.legend()\n",
    "pylab.show()"
   ]
  },
  {
   "cell_type": "code",
   "execution_count": 31,
   "metadata": {
    "scrolled": true
   },
   "outputs": [],
   "source": [
    "# tt = TextTilingTokenizer(demo_mode=True)\n",
    "\n",
    "# s, ss, d, b = tt.tokenize(text[:].replace(\"\\n\", \" \").replace(\".\", \".\\n\\n\"))\n",
    "# ttt = TextTilingTokenizer()\n",
    "# tokens = ttt.tokenize(text.replace(\"\\n\", \" \").replace(\".\", \".\\n\\n\"))\n",
    "# pylab.xlabel(\"Sentence Gap index\")\n",
    "# pylab.ylabel(\"Gap Scores\")\n",
    "# pylab.plot(range(len(s)), s, label=\"Gap Scores\")\n",
    "# pylab.plot(range(len(ss)), ss, label=\"Smoothed Gap scores\")\n",
    "# pylab.plot(range(len(d)), d, label=\"Depth scores\")\n",
    "# pylab.stem(range(len(b)), b)\n",
    "# pylab.legend()\n",
    "# pylab.show()"
   ]
  },
  {
   "cell_type": "code",
   "execution_count": 32,
   "metadata": {},
   "outputs": [
    {
     "name": "stdout",
     "output_type": "stream",
     "text": [
      "its my pleasure to welcome bhaskar mitra today. bhaskar is actually stationed in our london office. currently hes been at microsoft now about 11 years. is that right. yes about 11 years as a scientist in bing and somewhere during that time he switched to being a student about a year or two ago still while working at bing so hes working full time and completing his p at ucl under emine yilmaz. who many of us know and have collaborated with as well. hes become one of the leaders in applying neural models specifically to information retrieval problems. he and nick craswell have a nice paper. if you would like to read it thats available on the web right now currently under submission to foundations and trends and information retrieval that compare traditional ways of approaching information retrieval models and where their parallels are in the neural world. and hes going to talk to us about some of his recent work so with that ill have bhaskar take it away. thanks for the nice introduction. so todays talk. im going to be focusing on some of my research that ive been doing for the last couple of years both in the context of my work in bing as well as as paul mentioned ive recently become a year and a half back a research student at ucl so the research in that context as well this is not going to be a general overview of neural ir but as paul already also plugged in nick and i have been working on a manuscript on an overview of the new neural ir field in recent years so this is currently under review for foundations and trends in information retrieval but we put up a early pre print online nick and i and also some folks from university of amsterdam. weve been doing a few tutorials recently this year early specifically wisdm and sigir so if you are interested again on a broad overview of this area theres also all the slides and materials from those tutorials that are available online so having said all that now coming back to the stuff that we are actually going to talk about today neural networks. weve seen a big penetration of neural networks in many different application areas. the same is true for ir. if youve been keeping track for example at sigir papers we have seen a pretty big spike in terms of the papers that focus on neural models in last couple of years and this also happens to be sort of my personal main focus for my p as well as work for bing the part that im really interested in when i talk about neural networks. is that if you look at how neural networks has entered the different fields. whats also has happened is if you look at speech or vision and all of these other application areas. each of these application areas has different requirements and challenges and they have led to different kind of understanding or innovations in the field of machine learning. so thats the area that i really want to get into where were thinking about doing machine learning differently based on being motivated by the specific challenges in ir. so what do i mean by ir. what would a typical ir task look like so the most popular ir task that we probably all familiar with is a web search right so it involves you have a short text query. you have an index of billions of long text documents and then the search engine fetches you top key documents and presents it to the user but when im talking about information retrieval today it also includes other ir tasks so for example i would refer to query auto completion where given a prefix. you are trying to help. the user formulate the query by completing the query or recommending possible suffixes for the prefix. ill also give some examples of ir task where ir task could be like predicting the next query in a search session so ill take these three tasks as example for some of the discussions that well have during this talk one of the ways i can fit any of this. ir task is in this kind of a crude framework so this is very intentionally. a crude frameworks so bear with me. when i describe it this way but basically you can think of all ir task as you have some input text which could be a query it could be a query prefix or something else and then youll have a set of different candidates that you want to retrieve from or rank within so for every candidate and an input pair and you can have some representation of the input and the candidate or potentially a joint representation and then from that representation. you estimate relevance the reason i bring this framework up is because while we were writing that paper for fntir. this helped us classify how different neural approaches have tried either influencing learning query representations or learning representations of documents or even just applying neural networks just for estimating the relevance so for example the very popular learning to rank framework. the way that would fit into this visualization is that you have an input query text you have a document text and then youre generating manually designed features from these two to give a joint representation. and then you can have a neural network or any other machine learning model of your choice for estimating relevance the part that i am primarily interested in is actually the representation learning part. and thats what im going to be focusing on during this talk so but before i talk about specifically neural models for ir i wanted to make a slight segway to talk about something. that personally is a favorite topic of mine to just talk about the basics of different kind of vector representations and specifically this topic of the notions of similarity in different representations. so this slide is really really kind of the fundamental so everybody here knows it so just bear with me as i quickly go through them so just defining a couple of things here. local representations and distributed representations. so what do i mean by them. so these are terms that are pretty popular especially in the neural network literature so a local representation or one hand representation is when you have. lets say you want to present k different items. then you represent each of these items by a vector of length k where all the positions are zero except for a particular position that corresponds to that item. so lets say in this particular example if i had a set of different items of which three items were banana. mango and dog then in my one hand representation or local representation for banana. you have everything as zero. and then one position that has a one or a non zero value on the other side. if you talk about distributed representation this is the idea of distributed representation is value represent items by a vector while a particular item is represented by having more than one non zero items in your vector. a very simple example of this would be if you think of any kind of feature space so imagine i had a feature space where i had features like. does this item bark. is it a fruit. is it of a particular shape. does it have a tail and so on so forth so if you imagine some kind of a feature space like that then you could say that a dog could be represented by something that barks and has a tail but as a banana it could be represented by something thats a fruit and has a particular shape the interesting thing about distributed representation as opposed to local representation. is that the moment you have this kind of a feature representation. you can actually reason about which items are similar to each other based on the features so for example in this space you can see that banana and fruit are similar because theyre both fruits. banana and mango and they are different from dog. because they dont have any overlapping features but as if youre talking about the local representation all of these items are distinct because no vector is similar to another vector in that space. the important corollary here to point out is that the moment you define a feature space you are in fact implicitly or explicitly making a choice of what items are similar to each other for example you could easily come up with the feature space where lets say a banana and a dog might actually be more similar to each other than a banana and a mango. so maybe your feature space is about. i dont know some kind of shape like is it long versus. is it round or something on those lines or some something based on color by which you could actually say that in that feature space. banana and dog is more similar than lets say mango. so my last definition on these slides is about embeddings so youll hear a lot of like especially in the neural network. all of the people say embedding is a very popular topic. one of the things that i just want to highlight is that an embedding is a new latent space that retains the properties and relationships between items from an original feature space. so a lot of the work where we talk about. lets say inaudible or other kind of feature other kind of embeddings that we talked about one thing to keep in mind is that all of them are derived from an original potentially sparse feature space and the embeddings basically have the same relationship as in the original feature space however your embeddings might be because of the nature of them being more smaller dimensional and dense. they might be generalizing more or other factors but the important thing is that a lot of the relationships that are interesting properties that youre seeing in your embedding space are actually existed in your original sparse feature space as well. why is this important. this is important because i personally have found that. its quite difficult to reason about embedding spaces because of the nature of these dense vectors. but if you think about the same items and their original sparse feature space. sometimes you can build a lot of other kind of intuitions that can be used. well ill give some examples of the same thing right so before i go into the example. this is the kind of the question that i wanted to put forward. and this is one of my favorite topic so bear with me if i talk about this a bit too long. so this is the idea of thinking about explicitly thinking about what kind of relationships are you capturing in a certain vector representation. so lets say youve learned an embedding of words or concepts and then you have seattle and the question might arise is seattle similar to sydney because theyre both cities or should seattle be similar to a seahawks because of seattle seahawks. so i want to take some example and actually answer this question about like how some of the choices you make in designing or how you learn your embeddings would actually influence which of these relationships you would actually modeling and your embedding space actually captures so what im going to do here is. im going to take a really small toy corpus of 16 short sentences and from those 16 short sentences. im going to try and derive different kind of representation for the four domes. seattle denver broncos and seahawks and basically my goal. here is to show that depending on how you featurize these words based on this corpus you actually end up capturing different kind of relationships between these four domes so the first thing im going to do is im going to featurize these words. based on which documents they appeared in so we see that in our document for example seattle appears in document one and two seattle seahawks appears in document three. they both appear in document five and so on so forth just a quick note on the colors here so the white here means a zero. the grey means a non zero value. and the only reason i have a light and a dark gray is to indicate those columns where you have more than one non zero element so the diagram basically shows there is some overlap between at least two of the vectors in here so basically if youre going to squint at this particular diagram hard enough youd start seeing that. the vector for seattle based on this very crude rudimentary example actually starts looking very similar to the vector for seahawks and similarly. if you look at denver and broncos these start looking similar to each other for people in ir this immediately would remind you of the dome document metrics that you would typically factorize for lda and other representations right so now lets do a jump and do a very different kind of featurization based on neighboring words but with one small additional detail that im actually going to consider the distance between the two words. so what do i mean by that what i mean by that is that i have a feature seahawks plus one which means that this is a feature that says that on one position to the right. the word seahawks appears so for seattle seahawks. you have a non zero value because somewhere in here. you have a bunch of seattle seahawks that you see in your corpus so then you also have a. lets take the example. seattle seahawks wilson. so the word wilson actually ends up giving you two different features wilson plus one and plus two so wilson plus one means it occurs one position to the right of this word which is true for seahawks. so you will see that wilson. plus one actually is a feature for seahawks but not for seattle but wilson plus two which means its two position to the right is a feature thats non zero for seattle but again its zero for seahawks so you take this feature space and now again. do the same exercise of squinting really harder this diagram and suddenly you start seeing that seattle and denver starts looking similar and seahawks and broncos starts looking similar right so this starts giving you more of a notion of a tie based similarity in this diagram. by the way for people in nop people refer to this for a pretty long time as kind of syntagmatic and paradigmatic relationships on using a different dome.\n",
      "\n",
      "\n",
      " but i mean something very similar. the third version is similar to the previous one. but we do want change where we no longer consider the distance between the words. so now wilson is a single feature thats true for both seahawks and seattle and again. if you do the squinting thing again what would happen here is now. we actually see that pretty much all four of them has some kind of an overlap and like seattle is similar to both seahawks and to denver but because of different sets of features. if you think about it this is exactly the kind of feature space that something like word2vec or glove operates on so the point that im trying to drive towards. is that if you think about this feature space you realize that its the property of which words are similar to each other or the fact that something can do. a vector algebra in the embedding space is actually coming from this original features space so this for example levien goldberg. did this work where they showed that. the vector algebra like in minus man plus woman. you could actually do this on the sparse feature space without even and learning the embedding stuff and similarly it doesnt really matter if youre using metrics factorization on neural nets or some other approach. the relationships youre modeling is actually much more influenced by the basically. what original feature space. youre trying to compress this by the way one of the things about word2vec is the window size that you consider when training word2vec actually has some strong influence on the balance between the type and topic based similarity so basically. if you think of this this is the reason why in the word2vec embeddings you would see seattle being close to both seahawks and denver so it has a mix of this type and topic similarity and how much of this type versus topic might depend on the hyperparameters for example like the window size and stuff and which. im not going to go into details but we can talk about why that it is after the talk. i wanted to jump into this example because this often is pretty intuitive when you look at this visually like this but then obviously the questions come up. why is this important. so why are we talking about this. in the context of neural ir this is important. especially because so if you think about the ir problem to be honest this is true for any variable. you use embeddings not just in ir but taking the example of an ir task what you would typically do is given. lets say an input text like a query or a prefix you could come up with some projection into an embedding space. and then your assumption. is that the neighbors in that. embedding space are the good results or candidates that you want to rank high and show to the user so what that also means is that for a particular input if these are all my right candidates then it means that these right candidates should also be similar to each other now if youre talking about different ir tasks so we talked about in the beginning like document ranking query auto completion or related. search the argument that im really trying to make. is that each of these different. ir tasks expects different notions of similarity between the different items that theyre trying to rank and its important to understand what relationship youve modelled in your feature space and whether or not thats appropriate for the task that you are trying to apply to so going back to the same three examples so lets achieve my document ranking example as that the query is cheap flights to london and lets assume these are the titles of the documents that im ranking so cheap. flights to london obviously should be relevant to the document cheap flights to london but then obviously you dont want to see documents about cheap flights to sydney or hotels in london right. however if you take the query auto completion task imagine this is also modelled in a similar way via given a prefix. i have some prefix embedding. that projects into a space. and then im doing nearest neighbour search based on suffixes so im just ranking suffix. lets assume thats how we do the query auto completion task here so here now what happens is if you have the prefix cheap flights to you actually would as you expect london and sydney to be there they are potentially right answers here. so what that means is that in this space if youve learned the representation london and sydney should actually be close to each other whereas they definitely should not be close to each other here on the other hand. london and big ben should not be close to each other here whereas here you could potentially rank a document high that also mentioned big ben so this very kind of a topical similarity versus type similarity and then well talk of next query suggestion. theres a whole lot of other things that opens up so for example here the same topic is obviously relevant. but youre also trying to predict the next step in the task so here theres almost like a directionality factor as well like you can think of certain pairs of queries where query b will always follow query a and not the other way around so for example if you see two queries like the big clock tower in london and big ben you would probably expect that. the big clock tower in london query came before big ben because it indicates that the user did not know what its called so theres a potentially different kind of relationship that you would need for doing this particular task. im going to stay on this topic a little longer. by showing another single model trained on three different types of data that demonstrates these three different types of relationships so this is the very popular the dssm model so again people here should be pretty familiar with this model. the dssm model is a siamese network it was originally proposed for the document ranking task. what this model basically does is it. takes a query. it takes a document title. it projects the query into some embedding space of 120 dimensional. embedding space it projects. the document title in the same space and if the query and document are relevant to each other then you would expect the distance to be small the cosine similarity to be high. and the way you train this model is you take a query a positive or a relevant document for that query and you take a bunch of negative documents which are not relevant to the same query. and you train to optimize cross entropy at the top to predict the right document from the negative documents so now we take the same exact model. the model doesnt really specify what text like. you could present any pairs of short text here and train this model so lets take the same model and actually train it on three different types of data so were going to train this on query document titles which was originally proposed. we are also going to train it on prefix suffix pairs so well take a query split the query randomly at a word boundary and then train the model on given a prefix predict the suffix and then the third one is to actually take pairs of query from such sessions and then given a query you try to predict the next query in the same session and basically what you end up seeing. is that if youve trained the query lets take a particular example. lets take the two models trained on query document pair and prefix suffix pairs. once youve finished training the model you take the query model from the first set you project a piece of text in the space and then you look at its nearest neighbor and on the other side you take the query that was trained on prefixes and you do the exact same thing youre given a piece of text you project it using this model and then you look at its nearest neighbors. you almost immediately see this pattern especially by the way. the models are trained on short text. sorry this was not for short text. ignore the last comment so what you immediately start seeing. is that the model. thats trained on query document. pair the nearest neighbor to seattle is weather seattle seattle weather ikea seattle everything about seattle whereas if you look at the model thats trained on prefix suffix pairs. its nearest neighbors. are all these other cities chicago san antonio and denver and so on so forth similarly if you project query on the piece of text taylor swift the model thats trained on query document pairs gives you everything about taylor swift whereas the model thats trained on prefix suffix pairs. it actually gives you everything. thats of the same type as taylor swift like celebrities kind of the very same idea as we were looking at before. inaudible sure how do you train the prefix suffix pairs. so you basically take query compass for every query you randomly split at a word boundary. and then you would pass the prefix here and the suffix here and some negative suffixes here so the actual paper that this one cites this is where we were looking at suffix prediction given prefix for dealing with auto completion for rare prefixes where you actually havent seen any query with this prefix. if you still had a candidate of lets say 100000 most popular suffixes. then you might still be able to predict with suffix goes with the prefix. do you have two different endpoints on the left and right. yes so the siamese network whats happening is its actually you have two different models so the weights are not shared between this and this but this is the same model here right. okay that makes sense one question. yeah if you go back to the previous slide. it seems like there are two things going on from what you said earlier. one is the supervision signal of whats related and then the other question is the co occurrence of different approaches. that people often apply if you take the embedding. so take some general embedding embed these things and now use this revision signal to actually learn for each of these domains so that you dont complete both of them go back to the earlier example if the relationships were there in embedding then one thing you can do is just project to the right relationship and there is a separate question of are the relationships even there in the first place. now youre getting. how much did you get from each of those. the other thing is also that you might have learned an embedding with certain relationships. thats almost so orthogonal to the task that you are trying to learn so one example is in bing when we were working on autosuggest somebody took a particular embeddings that was trained basically to capture topical similarity sort of trained on like basically query and documents. and then what they wanted to do is they wanted to actually use that for auto completion. so what they did was they. initialized the embeddings based on what was pre trained and then they did continue training and they actually realized that it was worse than randomly. initializing the embeddings. because what happened is if you think about it. if seattle is close to seahawks and far away from sydney but in the query auto completion where somebody says map off where seattle and sydney should be close together.\n",
      "\n",
      "\n",
      " this embedding had to actually push these two things apart and pull those two things that were far away close together now if thats your only representation of these items and youre just trying to learn a function on top then it depends on whether the original embedding space has captured the useful information in addition to capturing other stuff but it could also be that the original embedding space is completely the wrong space that theres no other function you can apply on top to recover the actual useful information that youre looking for so it depends and basically the argument. im trying to make i was going to have that slide after this is that all of this really matters if youre going to learn representation separately and then use it for a different task which is actually pretty practical. because a lot of time you dont have enough. data for the supervision signal to do the learn representations representation learning takes a lot of data. so thats what people for example will train what to work on the document corpus alone and then you might plug in those embeddings and doing ranking or something else so thats when its becomes important to think about. is this even the right thing. or if the thing doesnt work then when youre debugging then it comes to fact like maybe theres a disconnect between the embeddings ive learned and the tasks that im trying to apply it on or it gives you ideas about how to write learn the right relationships so that it might be more useful for the task so it doesnt matter if youre learning everything and doing then. this question goes away. the third example i wanted to show was the case where the model was the same dssm model is now trained on pairs of queries from surf sessions and this again shows very different kind of regularity so here you can actually see a similar kind of regularities that you might have noticed you can probably make a connection with like the word2vec at a term level so this basically allows you to do similar kind of vector algebra on short text. like you could do with word2vec on terms on because you see that denver. to denver broncos is parallel to san francisco. whoever the team is sorry there you go seattle to seahawks. i should always stick to seattle because i know the answer. and yeah so this basically if you train it on session query pairs you can basically then use the same model to do things like university of washington minus seattle plus chicago gives you chicago state university. obviously this like any. other vector algebra based solution obviously is not always going to be correct. so you also have like wrong answers sometime here but it just kind of shows you that it has a similar property and if you think about it these models of training on pairs of query in a session or training on prefix suffix that actually similar to word2vec but its training on neighbors whereas the original model. if you think about training from query to document is more like training like an lda model where its termed to document id so its kind of. has those the same intuitions. that pops up so yeah so i skipped. i set prematurely. talked about the site but this is the main point that you really care about all of this. if you are going to use pre trained embeddings if your model just learns here embeddings in c2 for the task that youre doing then you can be completely ignorant and let the model learn. whatever is the right representation so i want to give an example quickly of some but this could be useful. this was actually a joint work with eric nalisnick. he was an intern. here and rich. caruana and nick craswell so this basically led us to thinking about using word embeddings for document ranking so in document ranking one of the things that you could use these embedding for is sort of soft matching so for example. let say we have these two passages and we want to know which of these two passage is more relevant to the query albuquerque. so theres a lot of hints if you look at the first passage from the fact that it has words like metropolitan population area and so on and so forth so if you knew at some way you could determine the other words you expect in a passage or a document that correlates with your query terms and that can be a useful signal for relevance unlike typical ir models where you only count the exact occurrence query terms in the document and you can say that the second passage is not relevant because this passage is actually taken from wikipedia described from the wikipedia page on microsoft. that just happens to mention albuquerque in there. so you take this idea so what you can then do. is you could given a query in a document you could represent all the query terms using the word embeddings that you have you can represent all the document terms with the embedding. you have lets assume you just do a simple centroid of the query term centroid of the document terms and you have a simple cosine similarity or a dot product to say if the query and document is relevant. let say thats the simplest model you can do now. the interesting and this is where thinking about these relationship explicitly might help. you is so when we started thinking about this one of the things we suddenly realized is that if you look at the word2vec model theres actually two different embeddings that are being learned. so the work2vec model what happens is you have an input word represented as a one hand vector multiplied by a metrics multiplied by another metrics. this is the bottleneck clear. and then youre trying to predict the correct neighboring words. what happens here is that you actually have two different weight matrices and im going for the ease of reference. im just going to call them. the in metrics and the out metrics so the in embeddings and the out embeddings typically once a word2vec model is trained people completely discard one of these matrices. and just use the other one as the embedding. now if you train your word2vec model on short text for example like queries turns out looking a similarity between two different terms based on both of their in embeddings or based on both of their out embeddings actually gives you a notion of similarity that is closer to a type a similarity so yale becomes close to harvard nyu cornell and so on and so forth however if you were to represent one of the terms with in the other terms with the out embedding and then do the dot product or cosine similarity. you end up. the neighbors of yale starts becoming faculty alumni that is misspelled anyways. orientation and graduate. it took me two years to realize that is misspelled thats something anyways for document ranking what youre really looking for is if you have the query yale youre looking for a document that not only has the word yale in it but likely also has other words like faculty alumni and orientation and so forth at least you expect that more than occurrences of harvard and nyu although harvard and nyus presence might also indicate some kind of relevance so basically what we did in this case is we plugged in this intuition into the word embedding model. we showed before by basically doing something very simple. we would use the in embeddings for the query terms and the out embeddings for the document terms. so that when you do the cosine similarity or the dot product between the query and the document youre basically computing an in out similarity for every query term with every document term and that gives you an improvement in relevance in this context a word and the output is the next word yes so the word2vec is typically trained given a word predict another word within a given context window including itself or not including itself not including itself. its basically lets say if the window size is 10 words on each side it will try to predict each of the 10 words on either side of this particular word. how does that compare to using the dssm sector you mean in performance wise. yeah well the desm would perform better just because its trained specifically for that task i see right and the desm model is learning a topical notion of similarity because desm flips like youre trying to map that query to the document pair so you are extending the query in that sense. yes i should clarify. i mean the desm model trained on query document pairs if you look at the desm model trained on prefix suffix pairs. its basically learning a similar relationship as word2vec training on word and neighboring words again you can use even that model. we havent really worked on this but there is no reason why you cant actually train if you had for example. small amount of query document pair of data you can actually train the desm model on prefix suffix pairs and use it in the same in out way as the desm thing proposes for document ranking as well and in that case youre training on query. yes okay this model was trained on queries. i see basically the two secret things here. is that if you train this model on long text and have a window the window of text long enough then even the in in and out out starts becoming more and more topical the balance moves towards it so basically the reason this becomes important. is you actually get a big benefit by training on query terms as opposed to document text and for short text the in in and in out similarity actually the difference becomes bigger so you combine the two things and then you see a big improvement but if you were to train this model on as i said long text with long context window then you might see a less difference on this so if you built this amounts that give you score of the next word and the previous word. what happens if you create like ten slots in the sentence and then run proliferation to fill in the transport. can you generate sentences that way. the word2vec was originally proposed as a simplification for rns. if your goal is only to learn on embeddings but this basically goes back to the same idea of sequence completion right and depending on a few different things so for example you could train word embeddings where the word appearing next to you is different from the same word appearing two position away from you so you could actually take that into effect and again that would change the relationships. youre learning but in terms of sequence completion. yeah this basically goes back to the rnn and all of those kind of word directly inaudible rns but just using this thing to generate sentences by simply running a little bit variation through the slots you could you just have to in that case also take into context then the position and the distance but there is yeah. you could come up with a i mean again. if you start doing that slowly it will start evolving into something that starts looking like rnn. basically the point with rnn is that i want context of not just the previous or the last three or four words. i want to have longer and longer context. the whole rnn analyst theme is about how can you have some notion of the things youve already seen in the sequence with the fixed memory size. okay inaudible to understand what rnn is. im just curious what will happen just in any case as opposed to rnn like you can always have a model that has if you knew your sequences are always short. you could come up with a model that always knows that there are at max key items before and you have an exact memory of what youve seen in the past and then youre not doing reckless but you actually have different way matrices based on positions for the lobby. ive never worked in that space so i wouldnt comment on what works or what doesnt but im just saying the answer. sorry and you dont know if anybody has tried that just in common. im pretty sure the nlb space people have but again i would probably defer the question to somebody who operate in that area so moving on further and a bit faster think about it. what was the data thats available. we actually put out the in out embeddings data for two point seven million words trained on bing queries just publicly. we had released it. is anyone using that training. i got questions from different people so i assume some people are but yeah this was another work joined well with fernando and nick so basically in the same spirit of looking at word embeddings. the other question that came up is that obviously terms are inherently ambiguous. this is one of fernandos favorite topic and hes really convinced me that this is a very important thing to think about. hes got to think about this idea of local and global analysis right so the point is basically that lets say you learn a representation globally based on your whole corpus so then youre basically learning some sort of a crude representation for every term especially when the term is ambiguous and can take different meanings right and this is not just like the crude apple computer versus apple the fruit its also very subtle for example. the word cut could mean different things. but then if i know that im using the word in the context of gasoline tax then this cut means like cutting tax or reducing deficit or whatever basically the idea was like how can you get really extreme in thinking about a local sense of a term or a representation of a term what we did is. we tried this experiment in the area of query expansion for retrieval. what we would do is given a query we would send that query to the index and get a bunch of results and then we would at run time train a work to work model on that corpus of top thousand documents and then use that embedding to expand the original query. send it back to the corpus and get results and basically the point comes down to. is this what this diagram shows is the blue dot in the center is the query centroid and the way you are expanding. the query is by finding other terms that are similar to the query center. so basically youre doing a nearest neighbor around the space. these are just contour lines but every other circle here are the terms candidate terms that you can use to expand the query and the red terms are the actual good terms that we know that. if we add this to the query you would see an increase in ndcg and thats what it looks like for a global word vector space and this is what it looks like with a local vector space. but the idea here mainly is that i think this actually relates to a slightly broader idea that for any kind of modeling for example when youre learning a query document ranking model all. these neural net models are basically starting to encode real world information about correlations right. so if somebody says lets say albuquerque right. so you expect that for the word albuquerque. you would expect these things like altitude or population or area as to be the correlated words that you would expect in the document but these models are always going to be inferior to a very very narrow topic like something specifically in microbiology. its very hard that this model can memorize those correlations and the idea was that we can think of actually training models potentially at run time or doing things differently such that these models can still go in and effectively research a particular topic learn a new representation and then apply it to a problem. the metaphor that i use with nick is thinking about whether your model is a librarian or a library. can your model practically learn everything about everything in the whole universe and be a library or is it like a smart librarian who might not know enough but knows given a question on microbiology that thats the section in microbiology. lets go there. lets read up all the books. learn a new representation now. i know which book to look at and so on so forth so that was kind of the idea but this was a crude way of doing this. the local embedding is trained on different area. the local embedding is given a query. it actually retrieves a top thousand documents and the embedding is trained on those thousand documents. the local one has not been trained from that data. it has been trained on a random sample of documents from the same compass but not for the query specific inaudible seem the same there. yeah so this is like because usually when they talk about this bearing theyre saying. well all the information is there you just have to just find the right projection. yes but the whole in this case its just its actually different data so you may not even be able to find the projection so the point is even if your corpus is fixed. its almost impossible for you to learn on everything in the corpus within so this also goes back to thinking about machine learn model having certain amount of capacity and its going to prioritize learning things. well that it sees more often and not learn those things that it sees rarely whereas if you knew all you wanted to do was to answer this question about microbiology you could go find only those thousand documents on microbiology. so theres enough data but the model basically doesnt prioritize if it has to learn the whole universe but then it can go and learn that small universe much more efficiently and be more effective. this is hard to tell because its a very high dimensional embedding so you have space for everything technically. yes the difference may be in a very inaudible it could be so there might be some thing that you could do to force this there. maybe others solution to this but yeah so let me come back to the question in different data i mean the local is just a sub sample of the global right so with that different data. its a subsample. no its different. its actually its a different sample. its not different data. its not different documents. its a subsample of a subsample of but they are different samples there different samples. they are not different data right. well if everything was learnable from the global then you would still have the relationships that global has access to everything local if the global is big enough to get the samples if in general all the data local is a subset of global. and what if you sample. if you sample you will not get anything thats in the datas you can go global over everything it trends everything but it is sub sampling from the overall distribution because so initialize the seeds and you can do a sub sample relationship. same thing is done on the learning curve. basically the idea is that global might have a lot of noise so some of the sample relationship may be drowned out by noise so and then kind of buy like two level ranking where you use some sort of naive textural benching type of stuff to discover lightly relevant subset and then you hope to discover locally stronger relationship from that subset. is that kind of reasonable way to look at it right. so basically your global the model. its any model that you train on somebody. thats going to prioritize learning things that it sees often but then you can use for example the global model to get some ranking of basically narrow down which domain you really this belongs to and then you can have a local model thats trained on that domain specific data and then it would likely perform better on that specific topic so if i was to put you said previously for example the global corporates. you will have many fewer documents on like leverage. then youll sample these slots on purpose so you dont see the same data in the two cases yes its true having said that i would still imagine that if you did train on the exact same samples but like subsample. i think this would still hold. but what you described is what we write instead if you just take the global data and then edit the local sample to it now the question is those are two different questions right. would you then have a problem with learning and still ignore the data just because but in this case you are not even seeing it so then potentially yes. yeah okay so im going to go into the last part of this talk where this is more. recent work where we actually started looking at deep neural nets trained end to end so no longer. thinking explicitly of these representations and all that stuff but having deep neural nets and kind of a very clean set up and training them for document ranking and obviously this is all based on the fact that we have a lot of data in bing so we can actually train these models end to end on our ranking data. so what we started looking at was the kind of a classical document retrieval task where you have a short text qwerty in a long text documents. a lot of the models in ir today actually looked at short text verses short text the book and one of the things to kind of realize is the challenges of doing short text to long text are different both good and bad so short text to short text. this embedding based models actually benefit a lot. from the fact that short text to short text. the vocab mismatch problem is much more severe so if your model understands synonymy or related things its most likely to show you improvement over exact matching based similarities on the other hand for long text. the opportunities lies from the fact that long text has mixture of many topics and the matches could be actually in different parts of the document and based on which part of the document matters it might indicate more or less relevance and also things like term proximity and all of those other things becomes important so theres a lot of possibility of modeling other stuff when youre dealing with long text. not just the vocab mismatch an interesting way of thinking about this neural nets for ir is to take these two particular queries so these are my favorite poster child queries pekarovic land company. and what channel are the seahawks on today. so the point that i want to make with this query is pekarovic land company if this is the term pekarovic youve never seen in your training data. then i dont care how you have your neural model input representation so for example it could be 100 presentations of terms or character trigrams and whatnot. your model will never going to have a good representation for the term pekarovic so even for dssn that takes character trigram based inputs. you would expect that for a term it has never seen before it would probably have some sort of a random projection or not so very informative protection. lets put it that way. so the point is that for this query for an embedding based model. its actually it really struggles with a query like this right on the other hand. we know that typical a classic ir models actually really do well with this because if there are like 50 documents in your a billion index that has this term then fetch those 50 documents rank them based on where this term appears and how they appear next to each other and so forth. but you could learn all of the same functions within neural net on the other hand you have the query. what channel are the seahawks on today. here lexical matching model would actually suffer because the right document potentially doesnt even have the word channel in it. it probably has actually terms like espn or sky sports right so its almost like a translation model kind of thing happening here. if you see these words in the query you expect these other words in the document so this is where an embedding. this model is likely to really shine and one of the first work we did in the space. was this thing. we call the duet architecture which was basically just the simple idea that hey why not. if these are the two different aspects that might be important in ir why not use a neural net to learn both of them and learn them jointly so that basically led us to this idea of the duet model. now this is an architecture we proposed but then the idea of the duet goes beyond just this architecture you can come up with other architectures that has the same duet property that you explicitly are mapping learning the lexical matching as well as the semantic matching signal for retrieval and the final model in our case was basically a simple linear combination. and youre learning this whole thing as a single model jointly on your supervised data. well basically it has query document and labels so training like typical learning to rank models are based on pairwise loss. so how do these things differ right. so the local model its trying to learn how to do. lexical matching exact matching. it has no interest in learning any kinds of representation so the input representation is such that it can not even learn any kind of embeddings in this case. so whats the input. representation look like so. these are really simple matrix representation so think about a query that has four words and a document that has thousand words so the input representation for this sub model is a query words by document words matrix which is a binary matrix and its non zero. every time the word matches the document so this means that for example if you look at this line slightly shifting line it means that you actually saw the occurrence of big deal derby as a phrase in that document and if you look at these documents here these examples its almost. visually suddenly becomes clear which documents are relevant and which are not so the relevant documents has more matches it has more matches towards the beginning of the document it has more phrasal matches it definitely has matches for all the words in the query unlike this guy and so on so forth so you can see these visual patterns from these matrix that then you can imagine that you can train a neural net on top to basically learn what are the good patterns of matches so you are like ignoring total frequency completely in this representation term frequency no but inverse document frequency yes term frequency. you can get by actually just counting along this line right so if the neural model can just count the number of lines in here and it knows the term frequency for each of these terms so what we did is again you can have different kind of architectures but the simplest thing we did is we had a convolutional model on top. that one of the important thing was to have the window of the same length as the document. basically inaudible important thing is for it to map. how early in the document you see the occurrence. that was an important thing but other than that there. we tried different things that didnt make too much difference but im sure there are things here that you can explore but basically youre doing a convolution model that runs over that same matrix that i showed and then it has some more fully connected layers and so on and so forth then it gives you a single score in the line of the document then there is no convolution. it moves along the query direction. its moving along the query direction so on the other side about the query and the action. yes theres something that worked on proximity just because of time i wanted too may be go faster and then we can come back to the questions but im skipping some things about proximity and the query. sorry so now on the distributors model. what it does so this again. if youre familiar with the dssm work. this model is similar to the dssm with some changes just to specifically deal with long text. so what this model does is. it takes the query and then projects the query into an embedding and then it takes a document but instead of projecting the whole document in the embedding space. it actually takes a window over the document and predicts each window to an embedding space compares the query embedding with the window embeddings. and then it aggregates all the information on the top and gives you a single score right so this is a very simple way in describing this model for more details you can always look at the paper so yes so basically we then trained it. in a very similar way as the dssm model you would have a query of positive document and a bunch of negative documents you train it to maximize cross entropy loss. we have a bunch of different findings but one of the main things we found is that and this was kind of expected. is that the part that really takes a lot of training. data to learn is that it text representation so the local model or the lexical side of the model actually doesnt benefit too much from being thrown a lot of training data at it whereas the part that focuses on learning embeddings is the part that actually so for our first duet paper we didnt even converge. we basically trained it for like 24 hours or 36 hours and kind of stopped at that point but basically if you look at the training curve it looks like it was still going up so we could have had a lot more better mbcgs by training it longer and the only reason we didnt is because of time we later ran the same model on trec complex answer retrieval task but the data was smaller and my training. time was faster and there. we actually got to a point where it kind of flattened off at something around like 32 million samples and so on and this is one of the important points. why if you look at a lot of papers in academia today its kind of unfortunate but a lot of focus is on lexicon matching model just because of the lack of big datasets for training. these supervised models. im going to skip this slide. this is also out there. the implementation is out their publicly on github. but this let us then. this is the kind of the last recent work i wanted to make a mention of so we had another intern. ahmed who came in from umass earlier this year and he looked at again deep neural models given we had a lot of data it was something he was interested in to again. look at deep neural models for ir and the problem we looked at is the fact that its not just documents and web searches not just body text but its also title and url and anchor text and clickstreams and all the other kind of data sets that we have right so this work was basically kind of the same kind of you can compare it with like going from bm25 to bm25f so basically how can you use a neural model that when you think of document as a single piece of text but my normal document is composed of multiple fields. so how do you have a neural model. that actually can make use of multiple fields so this is a wisdom paper 2018. so basically the idea is this. you have a document that has title text url body incoming anchor text and incoming query text. and what youre doing here. im going to just give you a quick overview so basically im going to touching up on the main design decisions. that makes a big difference. so you learn an embedding for each of the metastreams separately. because each of these fields of metastreams might have different properties. so you want to learn different embedding spaces for them for fields that have multiple instances so for example for anchor text and query text you have multiple clicked queries associated with this document and multiple anchored text associated with this document. you are effectively doing an average pulling but making sure you take care of. how many instances are there and do the right averaging so by doing all of that you end up with these field embeddings and then you learn different query embeddings to match with each of these different fields and this comes from the fact that for example the query embedding. you want to learn to match with title might be different from the query. embedding that you want to learn to match with url because they captured different properties. once youve done this hadamard or element wise product between these two embeddings you end up with a match vector corresponding to each of the fields. so this comes from the intuition from like same similar intuition as bm25f where you dont want to combine the different fields based on individual scores so this is the same idea that you could end of. lets say the query was barack obama facebook by having a vector and not a single score it allows the model to realize that maybe barack obama matched on every field but facebook never matched on any of the field versus barack obama matched on this field and facebook matched on the url field. so by having a vector it can encode that information. but it wouldnt if you had a single score there and then you have some fully connected layers on top to combine those and one of the things thats important in this context is and this happens even for typical learning to rank model. is that if you have a very strong precise signal such as clickstreams. it can actually hamper while you learn the other fields so one of the things that we found really useful especially in the presence of a field like click data is to have a field level.\n",
      "\n",
      "\n",
      " drop out in this model. so yes so thats basically it. so basically one of the things on a concluding note wanted to say was these deep neural models. obviously theres a lot of excitement in the field and people have been thinking about like how this is going to influence this ir field. in general my personal observation is that all of the stuff that we typically talked of ir initially went into designing of features during the learning to rank frame days. and now when were starting to talk about. these deep. neural nets the same intuitions scored intuitions from ir is actually fueling the design of these different architectures. just this one. im not going to talk about what weve also learned recently some work on proactive recommendations such as pro actively recommending attachments for email. and yes these are all the papers that i covered and thank you. sorry for going a bit over time so we have time for questions for professor inaudible those commercial network filters what they looked like. i didnt quite understand how you built that up. but it seems like it would be very interesting to see what these filters are for the local model. the disclaimer is. we didnt spend a lot of time doing too many experiments but one of the things we did find was to have the length same as the documents so basically the way we had this was we would assume we had 10 theres also different lengths. yes we made some simplistic assumptions of saying there are 10 query words 1000 documents zero padding if there is less truncation if there is more and then a window one by thousand and moved it for us and the window is one by 1000 one by 1000 so thats query was being 10 and 1000 being the document words so its the length of the document and moving in the query direction so then youre not capturing the thing that youre talking about. where do you get these lines. yes so what happens here. thats a good question is it actually does get captured to some extent but again this is just having a single convolution you can do different kinds of convolution and combine these things but even in this case it does get captured. crudely where what happens is by having a vector here it can still if you can just hypothetically this vector could capture that this term matches a lot in the beginning versus later in the document so this vector could encode such an information. it wouldnt encode exactly if they are next to each other potentially but yes. if you do directly like three by nd you could do other convolutional configurations. in addition to having something that captures the whole document length. we just didnt go into that space but im pretty sure you can do a lot of different architectural stuff and you said that it was important to make it as long as the documents so that you dont have any shifts this way yes so thats basically because we noticed that it actually learns that if you have the query terms up here in the document its much more important than if it appears later in the document and thats important enough in the next layer it could well. we actually had run a few different experiments where this showed up. this is obviously. the explanation is a hypothesis that thats maybe what is happening but we did see that. it made a big difference in having this contingency. have you thought about filling this up not just with co occurrence. i mean matching up the words but some sort of a measure similarity in some yes. there is other work. if im not mistaken like the match 10 serve paper from facebook and others theyve tried other architectures where you basically have the lexical and semantic and maybe you have the same kind of matrix representation that captures both whether the terms are exactly same or youre talking about three or four different things. let me go ahead and see if we can do a few more of these. that stuff is available all week and i think maybe a longer conversation with nabosa might be in order. yes i thought so yeah. are there few other questions. i have a question about local verses global model you were talking about the way that i understand it is that its a neural version of pseudo feedback. basically so that you compare it to traditional method of trying to do pseudo feedback. yes actually ahmed. and i think ahmed and bruce actually wrote a paper where they basically this wouldnt improve over pseudo relevance this would not perform better than pseudo relevance feedback but they combined it with pseudo relevance feedback and showed that it improves on top but thats exactly correct. so this paper was written in the context of query expansion. but the core idea that fernando and i especially fernando was really trying to put forward is this whole point of learning a model specific to the situation you are in and so basically learning at runtime and going from there but it was tested in that context so i have a follow up question related that i know i would talk to you later. when pseudo relevance feedback fails it can fail badly. if you have a bad starting value youre going to do poorly. but it seems like if we use this in two places which is why bother use the pseudo relevance feedback. we have query logs that have click information which give you weights on which one should be the focus for any query. weve seen before. how to expand for that query or even in a session based case using the previous click documents in the session to expand for the next query where we know the thing stays topically constrained. have you looked at or thought about either of these. maybe i didnt get your question. the first one is for any query. weve seen before instead of looking at top. 1000 you can do a click based weighting click base. if you like to look at those documents thats going to get me a much more targeted at relevance and not have the failures of pseudo relevance feedback so we can do expansion for any query that weve seen before the second case is you can do same thing at a session. based example which is the documents that somebody has clicked before current query. is there a case of what is relevant to this topic right and we know that people think topicly relevant within a session again. you are in a much better case by not doing pseudo relevance feedback so two different answers one is in terms of the first part of that. i think this whole point of local global analysis if you think of the spectrum the local analysis becomes really interesting when youre dealing with a query that has effectively no presence in your click data so for example the pecarovich land company. you would expect that if there are even 50 documents in your index it might fetch those 50 documents and those 50 documents might be enough for you to learn a local representation and do something interesting if you have enough presence of that in click streams you could imagine that the global representation might already capture a lot of it. of course there might also be a sweet spot in between where it has some coverage from click data but not enough that your global representation does a good job so maybe you can use that. yeah you can definitely use that. the second part about looking at previous documents in the same session again ive not looked at it in the context of document ranking but one of the things. we chatted briefly before that i was super interested. but havent really made a breakthrough. there is when i was training the dssm model on spares of queries from session the intuition that i really had was kind of starting to think about such sessions as effectively a path in an embedding space. and if thats going to allow us to do something interesting in that direction right and that was trained on queries but it could also be trained on queries and click documents and whatnot again. i havent done anything on that. its something thats been on the back of my head. if anybodys interested to chat about that or has any ideas about that. i would love to talk about it. quick follow up to the follow up. all right. last question the 2000 documents you are using helped your ranking or this was based on indri so he was fernando type data. not in here. you wouldnt use a full search engine right. you would be incorporating no this was just based on retrieval and just something simpler model. thats an important question by the way which im not going to touch upon is how you evaluate these models especially the deep neural models on top. theres this whole discussion about telescoping evaluation versus other things. but im going to refrain from that. we can talk about it separately but its actually an interesting question all right thanks for speaking again. \n",
      "\n",
      "\n"
     ]
    }
   ],
   "source": [
    "for token in tokens:\n",
    "    paragraph = token.replace(\"\\n\", \"\")\n",
    "    print(paragraph)\n",
    "    print(\"\\n\") "
   ]
  },
  {
   "cell_type": "code",
   "execution_count": 33,
   "metadata": {},
   "outputs": [
    {
     "name": "stdout",
     "output_type": "stream",
     "text": [
      "0 different\\ actually\\ features\\ featurize\\ featurization\\ representation\\ representations\\ differently based\\ feature space\\ learning\\ learned\\ learn\\ start\\ neural models specifically\\ query\\ right\\ seattle\\ spaces\\ like\\ text\\ starts looking\\ specific\\ particular\\ items\\ item\\ recent\\ recently\\ today\\ todays\\ example\\ examples\\ seahawks\\ long\\ search\\ model\\ modeling\\ documents\\ document\\ zero\\ popular\\ interested\\ weve\\ wilson\\ big\\ main\\ people\\ explicitly\\ traditional\\ possible\\ retrieval\\ retrieve\\ interesting thing\\ look\\ vector\\ vectors\\ banana\\ youre generating\\ online\\ things\\ networks\\ network\\ nice\\ small toy\\ paper\\ papers\\ basically\\ basics\\ words\\ word\\ similarity\\ similar\\ diagram\\ pretty\\ hes\\ general\\ generalizing\\ early\\ bhaskar\\ input\\ thats\\ mentioned\\ going\\ framework\\ frameworks\\ office\\ nick\\ domes\\ dome\\ important\\ area\\ areas\n",
      "1 query\\ queries\\ like\\ different\\ modeling\\ models\\ embedding\\ embeddings\\ actually\\ actual\\ model trained\\ documents\\ training\\ train\\ right\\ youre\\ document ranking\\ similar\\ suffixes\\ suffix\\ text\\ relationship youve modelled\\ london\\ rank\\ feature thats\\ example\\ examples\\ prefix\\ prefixes\\ features\\ topic based similarity\\ somebody\\ big\\ task\\ tasks\\ relationships\\ given lets\\ whats\\ questions\\ question\\ especially\\ start\\ pretty\\ cross\\ longer\\ factorization\\ factor\\ signal\\ topical\\ expects\\ expect\\ seattle\\ thing\\ things\\ words\\ word\\ particular\\ chicago san\\ man plus\\ pairs\\ pair\\ search\\ says\\ clock\\ basically\\ completion\\ complete\\ randomly\\ network\\ nearest\\ versus\\ type\\ types\\ cheap\\ want\\ wanted\\ space\n",
      "2 model\\ models\\ modeling\\ like\\ likely\\ queries\\ query\\ word\\ words\\ actually\\ actual\\ different\\ difference\\ differently\\ differ\\ document\\ documents\\ term\\ terms\\ termed\\ learn\\ learning\\ learned\\ learns\\ right\\ train\\ trained\\ training\\ basically\\ things\\ thing\\ embedding\\ embeddings\\ matching\\ matches\\ match\\ matched\\ youre\\ text\\ yes\\ representation\\ representations\\ based\\ data\\ datas\\ let\\ lets\\ thats\\ vector\\ work\\ worked\\ works\\ similar\\ similarity\\ similarities\\ doesnt\\ local\\ locally\\ way\\ global\\ globally\\ completely\\ completion\\ fields\\ field\\ topical\\ topics\\ nyu\\ nyus\\ sample\\ samples\\ sampling\\ simple\\ specifically\\ specific\\ space\\ spaces\\ having\\ inaudible\\ started\\ starts\\ start\\ starting\\ duet\\ big\\ relationships\\ relationship\\ context\\ relevant\\ relevance\\ favorite topic\\ away\\ wise\\ bit\\ wikipedia\\ key\\ connection\\ connected\\ mismatch\\ use\\ run\\ running\\ runs\\ lines\\ line\\ points\\ example\\ examples\\ think\\ thinking\\ textural benching\\ frequency\\ answer\\ answers\\ useful information\\ looking\\ look\\ looks\\ looked\\ signal\\ window\\ loss\\ university\\ universe\\ pekarovic\\ typical\\ typically\\ cross entropy\\ neighbors\\ neighboring\\ neighbor\\ dont\\ dealing\\ deal\\ main point\\ matrix\\ set\\ sets\\ multiple\\ cut\\ cutting\\ yeah\\ question goes\\ chicago\\ given\\ albuquerque\\ good\\ saying\\ says\\ retrieval\\ retrieves\\ important\\ okay\\ said\\ questions\\ minus\\ million\\ informative\\ memory\\ slightly\\ performance\\ perform\\ suddenly\\ people\\ mean\\ meanings\\ means\\ theres\\ clicked\\ click\\ original\\ originally\\ dot\\ score\\ scores\\ single\\ real\\ yale\\ potentially\\ kind\\ kinds\\ ranking\\ rank\\ youve\\ san\\ eric\\ wouldnt\\ later ran\\ quick overview\\ shows\\ showed\\ nalisnick\\ opportunities lies\\ broncos\\ francisco\\ rich\\ nick\\ research\\ denver\\ defer\\ reducing deficit\\ distribution\\ balance\n",
      "3 model\\ models\\ query\\ queries\\ different\\ difference\\ click\\ clicked\\ documents\\ document\\ actually\\ yes\\ based\\ base\\ thats basically\\ like\\ feedback\\ questions\\ neural\\ youre\\ recommendations\\ local\\ global\\ thinking\\ think\\ topic right\\ use\\ interesting\\ interested\\ actively recommending\\ matches\\ matching\\ match\\ wouldnt\\ network\\ note\\ convolution\\ convolutional\\ land\\ good question\\ versus later\\ case\\ topically\\ things\\ thing\\ exactly\\ learning\\ learned\\ learns\\ learn\\ evaluate\\ evaluation\\ length\\ lengths\\ relevance\\ relevant\\ representation\\ starting\\ serve\\ better\\ talked\\ talk\\ talking\\ engine\\ frame\\ architectures\\ architectural\\ value\\ professor inaudible\\ follow\n"
     ]
    }
   ],
   "source": [
    "i = 0\n",
    "for token in tokens:\n",
    "#     print(token.replace(\"\\n\", \" \"))\n",
    "    print(i, keywords(token.replace(\"\\n\", \" \"), ratio=0.3).replace(\"\\n\", \"\\ \"))\n",
    "    i += 1\n",
    "    #     print(\"\\n\") "
   ]
  },
  {
   "cell_type": "code",
   "execution_count": 34,
   "metadata": {},
   "outputs": [],
   "source": [
    "timestamps = []\n",
    "ii = 0\n",
    "for j in range(1, len(data)):\n",
    "    for i in range(ii, len(tokens)):\n",
    "        if data[j]['text'].replace(\"\\n\", \" \")\\\n",
    "                .split('.')[0] in tokens[i].replace(\"\\n\", \"\")\\\n",
    "                .replace(\".\", \"\"):\n",
    "            timestamps += [data[j]['start']]\n",
    "            ii += 1\n",
    "            break\n"
   ]
  },
  {
   "cell_type": "code",
   "execution_count": 35,
   "metadata": {},
   "outputs": [],
   "source": [
    "timestamps_min = [str(int(x // 3600))+ ':' + \n",
    "                  str(int(x // 60 % 60)) + ':' + \\\n",
    "                  str(int(x % 60)) for x in timestamps]"
   ]
  },
  {
   "cell_type": "code",
   "execution_count": 36,
   "metadata": {},
   "outputs": [
    {
     "name": "stdout",
     "output_type": "stream",
     "text": [
      "29.691 0:0:29\n",
      "338.761 0:5:38\n",
      "1045.436 0:17:25\n",
      "1710.981 0:28:30\n"
     ]
    }
   ],
   "source": [
    "for j in range(len(timestamps_min)):\n",
    "    print(timestamps[j], timestamps_min[j])"
   ]
  },
  {
   "cell_type": "code",
   "execution_count": 37,
   "metadata": {
    "scrolled": true
   },
   "outputs": [
    {
     "name": "stdout",
     "output_type": "stream",
     "text": [
      "0 0:0:29 different\\ differently\\ actually\\ features\\ featurize\\ featurization\\ representation\\ representations\\ neural\\ feature space\\ learning\\ learned\\ learn\\ start\\ starts\\ query\\ right\\ seattle\\ spaces\n",
      "1 0:5:38 query\\ queries\\ like\\ different\\ modeling\\ modelled\\ models\\ embedding\\ embeddings\\ actually\\ actual\\ model trained\\ document\\ documents\\ training\\ train\\ right\\ youre\n",
      "2 0:17:25 model\\ models\\ modeling\\ like\\ likely\\ queries\\ query\\ word\\ words\\ actually\\ actual\\ different\\ difference\\ differently\\ differ\\ document\\ documents\\ term\\ terms\\ termed\\ learn\\ learning\\ learned\\ learns\\ right\\ train\\ trained\\ training\\ basically\\ things\\ thing\\ embedding\\ embeddings\\ matching\\ matches\\ match\\ matched\\ youre\\ text\\ yes\\ representation\\ representations\\ based\\ data\\ datas\\ let\\ lets\n",
      "3 0:28:30 model\\ models\\ query\\ queries\\ different\\ difference\\ thats\\ click\\ clicked\\ documents\\ document\\ actually\\ yes\n"
     ]
    }
   ],
   "source": [
    "i = 0\n",
    "for j in range(min(len(tokens), len(timestamps_min))):\n",
    "#     print(token.replace(\"\\n\", \" \"))\n",
    "    print(i, timestamps_min[i], keywords(tokens[j] .replace(\n",
    "                    \"\\n\", \" \"), ratio=0.05).replace(\"\\n\", \"\\ \"))\n",
    "    i += 1\n",
    "    #     print(\"\\n\") "
   ]
  },
  {
   "cell_type": "code",
   "execution_count": null,
   "metadata": {},
   "outputs": [],
   "source": []
  },
  {
   "cell_type": "code",
   "execution_count": 38,
   "metadata": {},
   "outputs": [],
   "source": [
    "import gensim"
   ]
  },
  {
   "cell_type": "code",
   "execution_count": 40,
   "metadata": {},
   "outputs": [
    {
     "name": "stdout",
     "output_type": "stream",
     "text": [
      "\n",
      "---> Summarized Content (Word Count is 50):\n",
      "does it have a tail and so on so forth so if you imagine some kind of a feature space like that then you could say that a dog could be represented by something that barks and has a tail but as a banana it could be represented by something thats a fruit and has a particular shape the interesting thing about distributed representation as opposed to local representation.\n",
      "\n",
      "---> Summarized Content (Word Count is 100):\n",
      "does it have a tail and so on so forth so if you imagine some kind of a feature space like that then you could say that a dog could be represented by something that barks and has a tail but as a banana it could be represented by something thats a fruit and has a particular shape the interesting thing about distributed representation as opposed to local representation.\n",
      "\n",
      "---> Summarized Content (Word Count is 200):\n",
      "weve been doing a few tutorials recently this year early specifically wisdm and sigir so if you are interested again on a broad overview of this area theres also all the slides and materials from those tutorials that are available online so having said all that now coming back to the stuff that we are actually going to talk about today neural networks.\n",
      "does it have a tail and so on so forth so if you imagine some kind of a feature space like that then you could say that a dog could be represented by something that barks and has a tail but as a banana it could be represented by something thats a fruit and has a particular shape the interesting thing about distributed representation as opposed to local representation.\n",
      "they might be generalizing more or other factors but the important thing is that a lot of the relationships that are interesting properties that youre seeing in your embedding space are actually existed in your original sparse feature space as well.\n",
      "\n",
      "---> Summarized Content (Word Count is 50):\n",
      "embedding space are the good results or candidates that you want to rank high and show to the user so what that also means is that for a particular input if these are all my right candidates then it means that these right candidates should also be similar to each other now if youre talking about different ir tasks so we talked about in the beginning like document ranking query auto completion or related.\n",
      "\n",
      "---> Summarized Content (Word Count is 100):\n",
      "embedding space are the good results or candidates that you want to rank high and show to the user so what that also means is that for a particular input if these are all my right candidates then it means that these right candidates should also be similar to each other now if youre talking about different ir tasks so we talked about in the beginning like document ranking query auto completion or related.\n",
      "\n",
      "---> Summarized Content (Word Count is 200):\n",
      "embedding space are the good results or candidates that you want to rank high and show to the user so what that also means is that for a particular input if these are all my right candidates then it means that these right candidates should also be similar to each other now if youre talking about different ir tasks so we talked about in the beginning like document ranking query auto completion or related.\n",
      "ir tasks expects different notions of similarity between the different items that theyre trying to rank and its important to understand what relationship youve modelled in your feature space and whether or not thats appropriate for the task that you are trying to apply to so going back to the same three examples so lets achieve my document ranking example as that the query is cheap flights to london and lets assume these are the titles of the documents that im ranking so cheap.\n",
      "lets assume thats how we do the query auto completion task here so here now what happens is if you have the prefix cheap flights to you actually would as you expect london and sydney to be there they are potentially right answers here.\n",
      "\n",
      "---> Summarized Content (Word Count is 50):\n",
      "the third example i wanted to show was the case where the model was the same dssm model is now trained on pairs of queries from surf sessions and this again shows very different kind of regularity so here you can actually see a similar kind of regularities that you might have noticed you can probably make a connection with like the word2vec at a term level so this basically allows you to do similar kind of vector algebra on short text.\n",
      "\n",
      "---> Summarized Content (Word Count is 100):\n",
      "the third example i wanted to show was the case where the model was the same dssm model is now trained on pairs of queries from surf sessions and this again shows very different kind of regularity so here you can actually see a similar kind of regularities that you might have noticed you can probably make a connection with like the word2vec at a term level so this basically allows you to do similar kind of vector algebra on short text.\n",
      "\n",
      "---> Summarized Content (Word Count is 200):\n",
      "the third example i wanted to show was the case where the model was the same dssm model is now trained on pairs of queries from surf sessions and this again shows very different kind of regularity so here you can actually see a similar kind of regularities that you might have noticed you can probably make a connection with like the word2vec at a term level so this basically allows you to do similar kind of vector algebra on short text.\n",
      "so theres a lot of hints if you look at the first passage from the fact that it has words like metropolitan population area and so on and so forth so if you knew at some way you could determine the other words you expect in a passage or a document that correlates with your query terms and that can be a useful signal for relevance unlike typical ir models where you only count the exact occurrence query terms in the document and you can say that the second passage is not relevant because this passage is actually taken from wikipedia described from the wikipedia page on microsoft.\n",
      "\n",
      "---> Summarized Content (Word Count is 50):\n",
      "if you like to look at those documents thats going to get me a much more targeted at relevance and not have the failures of pseudo relevance feedback so we can do expansion for any query that weve seen before the second case is you can do same thing at a session.\n",
      "\n",
      "---> Summarized Content (Word Count is 100):\n",
      "we just didnt go into that space but im pretty sure you can do a lot of different architectural stuff and you said that it was important to make it as long as the documents so that you dont have any shifts this way yes so thats basically because we noticed that it actually learns that if you have the query terms up here in the document its much more important than if it appears later in the document and thats important enough in the next layer it could well.\n",
      "if you like to look at those documents thats going to get me a much more targeted at relevance and not have the failures of pseudo relevance feedback so we can do expansion for any query that weve seen before the second case is you can do same thing at a session.\n",
      "\n",
      "---> Summarized Content (Word Count is 200):\n",
      "we just didnt go into that space but im pretty sure you can do a lot of different architectural stuff and you said that it was important to make it as long as the documents so that you dont have any shifts this way yes so thats basically because we noticed that it actually learns that if you have the query terms up here in the document its much more important than if it appears later in the document and thats important enough in the next layer it could well.\n",
      "if im not mistaken like the match 10 serve paper from facebook and others theyve tried other architectures where you basically have the lexical and semantic and maybe you have the same kind of matrix representation that captures both whether the terms are exactly same or youre talking about three or four different things.\n",
      "if you like to look at those documents thats going to get me a much more targeted at relevance and not have the failures of pseudo relevance feedback so we can do expansion for any query that weve seen before the second case is you can do same thing at a session.\n"
     ]
    }
   ],
   "source": [
    "for token in tokens:\n",
    "    paragraph = token.replace(\"\\n\", \"\")\n",
    "#     print(token.replace(\"\\n\", \" \"))\n",
    "    for word_count in [50, 100, 200]:\n",
    "        summarized_content = gensim.summarization.summarize(paragraph, word_count=word_count)\n",
    "        print()\n",
    "        print('---> Summarized Content (Word Count is %d):' % word_count)\n",
    "        print(summarized_content)"
   ]
  },
  {
   "cell_type": "code",
   "execution_count": null,
   "metadata": {},
   "outputs": [],
   "source": []
  }
 ],
 "metadata": {
  "kernelspec": {
   "display_name": "Python 3",
   "language": "python",
   "name": "python3"
  },
  "language_info": {
   "codemirror_mode": {
    "name": "ipython",
    "version": 3
   },
   "file_extension": ".py",
   "mimetype": "text/x-python",
   "name": "python",
   "nbconvert_exporter": "python",
   "pygments_lexer": "ipython3",
   "version": "3.7.2"
  }
 },
 "nbformat": 4,
 "nbformat_minor": 2
}
